{
  "nbformat": 4,
  "nbformat_minor": 0,
  "metadata": {
    "colab": {
      "name": "TextGen_GRU.ipynb",
      "provenance": [],
      "collapsed_sections": []
    },
    "kernelspec": {
      "name": "python3",
      "display_name": "Python 3"
    },
    "language_info": {
      "name": "python"
    },
    "accelerator": "GPU"
  },
  "cells": [
    {
      "cell_type": "markdown",
      "source": [
        "# GRU을 이용한 텍스트 생성\n",
        "- 데이터 다운로드: 캐글 New York Times Comments\n",
        "- ArticlesApril2018.csv"
      ],
      "metadata": {
        "id": "mt8tvX-WmMwm"
      }
    },
    {
      "cell_type": "code",
      "source": [
        "from google.colab import files\n",
        "up = files.upload()"
      ],
      "metadata": {
        "colab": {
          "resources": {
            "http://localhost:8080/nbextensions/google.colab/files.js": {
              "data": "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",
              "ok": true,
              "headers": [
                [
                  "content-type",
                  "application/javascript"
                ]
              ],
              "status": 200,
              "status_text": ""
            }
          },
          "base_uri": "https://localhost:8080/",
          "height": 77
        },
        "id": "gPUCYpBHme4_",
        "outputId": "28066ffc-1c5e-43f9-e38d-5ceb258ac8a4"
      },
      "execution_count": 1,
      "outputs": [
        {
          "output_type": "display_data",
          "data": {
            "text/html": [
              "\n",
              "     <input type=\"file\" id=\"files-564f2cae-6dda-432f-a3d2-063a3f02741f\" name=\"files[]\" multiple disabled\n",
              "        style=\"border:none\" />\n",
              "     <output id=\"result-564f2cae-6dda-432f-a3d2-063a3f02741f\">\n",
              "      Upload widget is only available when the cell has been executed in the\n",
              "      current browser session. Please rerun this cell to enable.\n",
              "      </output>\n",
              "      <script src=\"/nbextensions/google.colab/files.js\"></script> "
            ],
            "text/plain": [
              "<IPython.core.display.HTML object>"
            ]
          },
          "metadata": {}
        },
        {
          "output_type": "stream",
          "name": "stdout",
          "text": [
            "Saving ArticlesApril2018.csv to ArticlesApril2018.csv\n"
          ]
        }
      ]
    },
    {
      "cell_type": "code",
      "source": [
        "import pandas as pd\n",
        "\n",
        "df = pd.read_csv('ArticlesApril2018.csv', encoding='latin1')\n",
        "df.head(3)"
      ],
      "metadata": {
        "colab": {
          "base_uri": "https://localhost:8080/",
          "height": 468
        },
        "id": "FrMCeU-KnQTD",
        "outputId": "308a2e63-6f5e-4d04-c508-852592315ab4"
      },
      "execution_count": 2,
      "outputs": [
        {
          "output_type": "execute_result",
          "data": {
            "text/html": [
              "\n",
              "  <div id=\"df-42de8d3e-20ba-423b-859f-e4df1edbcd11\">\n",
              "    <div class=\"colab-df-container\">\n",
              "      <div>\n",
              "<style scoped>\n",
              "    .dataframe tbody tr th:only-of-type {\n",
              "        vertical-align: middle;\n",
              "    }\n",
              "\n",
              "    .dataframe tbody tr th {\n",
              "        vertical-align: top;\n",
              "    }\n",
              "\n",
              "    .dataframe thead th {\n",
              "        text-align: right;\n",
              "    }\n",
              "</style>\n",
              "<table border=\"1\" class=\"dataframe\">\n",
              "  <thead>\n",
              "    <tr style=\"text-align: right;\">\n",
              "      <th></th>\n",
              "      <th>articleID</th>\n",
              "      <th>articleWordCount</th>\n",
              "      <th>byline</th>\n",
              "      <th>documentType</th>\n",
              "      <th>headline</th>\n",
              "      <th>keywords</th>\n",
              "      <th>multimedia</th>\n",
              "      <th>newDesk</th>\n",
              "      <th>printPage</th>\n",
              "      <th>pubDate</th>\n",
              "      <th>sectionName</th>\n",
              "      <th>snippet</th>\n",
              "      <th>source</th>\n",
              "      <th>typeOfMaterial</th>\n",
              "      <th>webURL</th>\n",
              "    </tr>\n",
              "  </thead>\n",
              "  <tbody>\n",
              "    <tr>\n",
              "      <th>0</th>\n",
              "      <td>5adf6684068401528a2aa69b</td>\n",
              "      <td>781</td>\n",
              "      <td>By JOHN BRANCH</td>\n",
              "      <td>article</td>\n",
              "      <td>Former N.F.L. Cheerleadersâ Settlement Offer...</td>\n",
              "      <td>['Workplace Hazards and Violations', 'Football...</td>\n",
              "      <td>68</td>\n",
              "      <td>Sports</td>\n",
              "      <td>0</td>\n",
              "      <td>2018-04-24 17:16:49</td>\n",
              "      <td>Pro Football</td>\n",
              "      <td>âI understand that they could meet with us, ...</td>\n",
              "      <td>The New York Times</td>\n",
              "      <td>News</td>\n",
              "      <td>https://www.nytimes.com/2018/04/24/sports/foot...</td>\n",
              "    </tr>\n",
              "    <tr>\n",
              "      <th>1</th>\n",
              "      <td>5adf653f068401528a2aa697</td>\n",
              "      <td>656</td>\n",
              "      <td>By LISA FRIEDMAN</td>\n",
              "      <td>article</td>\n",
              "      <td>E.P.A. to Unveil a New Rule. Its Effect: Less ...</td>\n",
              "      <td>['Environmental Protection Agency', 'Pruitt, S...</td>\n",
              "      <td>68</td>\n",
              "      <td>Climate</td>\n",
              "      <td>0</td>\n",
              "      <td>2018-04-24 17:11:21</td>\n",
              "      <td>Unknown</td>\n",
              "      <td>The agency plans to publish a new regulation T...</td>\n",
              "      <td>The New York Times</td>\n",
              "      <td>News</td>\n",
              "      <td>https://www.nytimes.com/2018/04/24/climate/epa...</td>\n",
              "    </tr>\n",
              "    <tr>\n",
              "      <th>2</th>\n",
              "      <td>5adf4626068401528a2aa628</td>\n",
              "      <td>2427</td>\n",
              "      <td>By PETE WELLS</td>\n",
              "      <td>article</td>\n",
              "      <td>The New Noma, Explained</td>\n",
              "      <td>['Restaurants', 'Noma (Copenhagen, Restaurant)...</td>\n",
              "      <td>66</td>\n",
              "      <td>Dining</td>\n",
              "      <td>0</td>\n",
              "      <td>2018-04-24 14:58:44</td>\n",
              "      <td>Unknown</td>\n",
              "      <td>Whatâs it like to eat at the second incarnat...</td>\n",
              "      <td>The New York Times</td>\n",
              "      <td>News</td>\n",
              "      <td>https://www.nytimes.com/2018/04/24/dining/noma...</td>\n",
              "    </tr>\n",
              "  </tbody>\n",
              "</table>\n",
              "</div>\n",
              "      <button class=\"colab-df-convert\" onclick=\"convertToInteractive('df-42de8d3e-20ba-423b-859f-e4df1edbcd11')\"\n",
              "              title=\"Convert this dataframe to an interactive table.\"\n",
              "              style=\"display:none;\">\n",
              "        \n",
              "  <svg xmlns=\"http://www.w3.org/2000/svg\" height=\"24px\"viewBox=\"0 0 24 24\"\n",
              "       width=\"24px\">\n",
              "    <path d=\"M0 0h24v24H0V0z\" fill=\"none\"/>\n",
              "    <path d=\"M18.56 5.44l.94 2.06.94-2.06 2.06-.94-2.06-.94-.94-2.06-.94 2.06-2.06.94zm-11 1L8.5 8.5l.94-2.06 2.06-.94-2.06-.94L8.5 2.5l-.94 2.06-2.06.94zm10 10l.94 2.06.94-2.06 2.06-.94-2.06-.94-.94-2.06-.94 2.06-2.06.94z\"/><path d=\"M17.41 7.96l-1.37-1.37c-.4-.4-.92-.59-1.43-.59-.52 0-1.04.2-1.43.59L10.3 9.45l-7.72 7.72c-.78.78-.78 2.05 0 2.83L4 21.41c.39.39.9.59 1.41.59.51 0 1.02-.2 1.41-.59l7.78-7.78 2.81-2.81c.8-.78.8-2.07 0-2.86zM5.41 20L4 18.59l7.72-7.72 1.47 1.35L5.41 20z\"/>\n",
              "  </svg>\n",
              "      </button>\n",
              "      \n",
              "  <style>\n",
              "    .colab-df-container {\n",
              "      display:flex;\n",
              "      flex-wrap:wrap;\n",
              "      gap: 12px;\n",
              "    }\n",
              "\n",
              "    .colab-df-convert {\n",
              "      background-color: #E8F0FE;\n",
              "      border: none;\n",
              "      border-radius: 50%;\n",
              "      cursor: pointer;\n",
              "      display: none;\n",
              "      fill: #1967D2;\n",
              "      height: 32px;\n",
              "      padding: 0 0 0 0;\n",
              "      width: 32px;\n",
              "    }\n",
              "\n",
              "    .colab-df-convert:hover {\n",
              "      background-color: #E2EBFA;\n",
              "      box-shadow: 0px 1px 2px rgba(60, 64, 67, 0.3), 0px 1px 3px 1px rgba(60, 64, 67, 0.15);\n",
              "      fill: #174EA6;\n",
              "    }\n",
              "\n",
              "    [theme=dark] .colab-df-convert {\n",
              "      background-color: #3B4455;\n",
              "      fill: #D2E3FC;\n",
              "    }\n",
              "\n",
              "    [theme=dark] .colab-df-convert:hover {\n",
              "      background-color: #434B5C;\n",
              "      box-shadow: 0px 1px 3px 1px rgba(0, 0, 0, 0.15);\n",
              "      filter: drop-shadow(0px 1px 2px rgba(0, 0, 0, 0.3));\n",
              "      fill: #FFFFFF;\n",
              "    }\n",
              "  </style>\n",
              "\n",
              "      <script>\n",
              "        const buttonEl =\n",
              "          document.querySelector('#df-42de8d3e-20ba-423b-859f-e4df1edbcd11 button.colab-df-convert');\n",
              "        buttonEl.style.display =\n",
              "          google.colab.kernel.accessAllowed ? 'block' : 'none';\n",
              "\n",
              "        async function convertToInteractive(key) {\n",
              "          const element = document.querySelector('#df-42de8d3e-20ba-423b-859f-e4df1edbcd11');\n",
              "          const dataTable =\n",
              "            await google.colab.kernel.invokeFunction('convertToInteractive',\n",
              "                                                     [key], {});\n",
              "          if (!dataTable) return;\n",
              "\n",
              "          const docLinkHtml = 'Like what you see? Visit the ' +\n",
              "            '<a target=\"_blank\" href=https://colab.research.google.com/notebooks/data_table.ipynb>data table notebook</a>'\n",
              "            + ' to learn more about interactive tables.';\n",
              "          element.innerHTML = '';\n",
              "          dataTable['output_type'] = 'display_data';\n",
              "          await google.colab.output.renderOutput(dataTable, element);\n",
              "          const docLink = document.createElement('div');\n",
              "          docLink.innerHTML = docLinkHtml;\n",
              "          element.appendChild(docLink);\n",
              "        }\n",
              "      </script>\n",
              "    </div>\n",
              "  </div>\n",
              "  "
            ],
            "text/plain": [
              "                  articleID  ...                                             webURL\n",
              "0  5adf6684068401528a2aa69b  ...  https://www.nytimes.com/2018/04/24/sports/foot...\n",
              "1  5adf653f068401528a2aa697  ...  https://www.nytimes.com/2018/04/24/climate/epa...\n",
              "2  5adf4626068401528a2aa628  ...  https://www.nytimes.com/2018/04/24/dining/noma...\n",
              "\n",
              "[3 rows x 15 columns]"
            ]
          },
          "metadata": {},
          "execution_count": 2
        }
      ]
    },
    {
      "cell_type": "markdown",
      "source": [
        "- 데이터 전처리: headline 컬럼만 사용"
      ],
      "metadata": {
        "id": "ehPt4TrznnYO"
      }
    },
    {
      "cell_type": "code",
      "source": [
        "df.headline.isnull().sum()"
      ],
      "metadata": {
        "colab": {
          "base_uri": "https://localhost:8080/"
        },
        "id": "uwVxdyQ3oIfN",
        "outputId": "fec68fe5-fc8b-4c9d-a80b-e67480d4c7b8"
      },
      "execution_count": 3,
      "outputs": [
        {
          "output_type": "execute_result",
          "data": {
            "text/plain": [
              "0"
            ]
          },
          "metadata": {},
          "execution_count": 3
        }
      ]
    },
    {
      "cell_type": "code",
      "source": [
        "headlines = df.headline.values.tolist()"
      ],
      "metadata": {
        "id": "0tMnk9JfoWu8"
      },
      "execution_count": 4,
      "outputs": []
    },
    {
      "cell_type": "code",
      "source": [
        "headlines[:5]"
      ],
      "metadata": {
        "colab": {
          "base_uri": "https://localhost:8080/"
        },
        "id": "QzHEvuairNRX",
        "outputId": "a56d21f1-6808-463b-81e9-0608ad8e44fe"
      },
      "execution_count": 5,
      "outputs": [
        {
          "output_type": "execute_result",
          "data": {
            "text/plain": [
              "['Former N.F.L. Cheerleadersâ\\x80\\x99 Settlement Offer: $1 and a Meeting With Goodell',\n",
              " 'E.P.A. to Unveil a New Rule. Its Effect: Less Science in Policymaking.',\n",
              " 'The New Noma, Explained',\n",
              " 'Unknown',\n",
              " 'Unknown']"
            ]
          },
          "metadata": {},
          "execution_count": 5
        }
      ]
    },
    {
      "cell_type": "code",
      "source": [
        "len(headlines)"
      ],
      "metadata": {
        "colab": {
          "base_uri": "https://localhost:8080/"
        },
        "id": "m4GL0WoYrP7P",
        "outputId": "8e3c0a44-bc24-4503-8b1b-72dd7db72681"
      },
      "execution_count": 6,
      "outputs": [
        {
          "output_type": "execute_result",
          "data": {
            "text/plain": [
              "1324"
            ]
          },
          "metadata": {},
          "execution_count": 6
        }
      ]
    },
    {
      "cell_type": "code",
      "source": [
        "# 노이즈 데이터('Unknown') 제거\n",
        "headlines = [line for line in df.headline.values if line != 'Unknown']\n",
        "len(headlines)"
      ],
      "metadata": {
        "colab": {
          "base_uri": "https://localhost:8080/"
        },
        "id": "3bJSqLYHrSvJ",
        "outputId": "567f24a0-9d39-4066-f043-a2ce05ab89da"
      },
      "execution_count": 7,
      "outputs": [
        {
          "output_type": "execute_result",
          "data": {
            "text/plain": [
              "1214"
            ]
          },
          "metadata": {},
          "execution_count": 7
        }
      ]
    },
    {
      "cell_type": "code",
      "source": [
        "import re\n",
        "def preprocessing(s):\n",
        "    s = s.encode('utf8').decode('ascii', 'ignore')\n",
        "    s = re.sub('[^A-Za-z0-9 ]', '', s)\n",
        "    return s.lower()"
      ],
      "metadata": {
        "id": "mtWTdAJ8r2Cj"
      },
      "execution_count": 8,
      "outputs": []
    },
    {
      "cell_type": "code",
      "source": [
        "headlines = [preprocessing(line) for line in headlines]\n",
        "headlines[:5]"
      ],
      "metadata": {
        "colab": {
          "base_uri": "https://localhost:8080/"
        },
        "id": "nwabf37Zs7Xk",
        "outputId": "57bf1d2b-cff9-4770-abb9-8b3b975e89f8"
      },
      "execution_count": 9,
      "outputs": [
        {
          "output_type": "execute_result",
          "data": {
            "text/plain": [
              "['former nfl cheerleaders settlement offer 1 and a meeting with goodell',\n",
              " 'epa to unveil a new rule its effect less science in policymaking',\n",
              " 'the new noma explained',\n",
              " 'how a bag of texas dirt  became a times tradition',\n",
              " 'is school a place for selfexpression']"
            ]
          },
          "metadata": {},
          "execution_count": 9
        }
      ]
    },
    {
      "cell_type": "markdown",
      "source": [
        "- Keras 텍스트 전처리"
      ],
      "metadata": {
        "id": "siR7Hmw5tbAM"
      }
    },
    {
      "cell_type": "code",
      "source": [
        "from tensorflow.keras.preprocessing.text import Tokenizer\n",
        "from tensorflow.keras.preprocessing.sequence import pad_sequences\n",
        "from tensorflow.keras.utils import to_categorical"
      ],
      "metadata": {
        "id": "K_UkprVqtQoM"
      },
      "execution_count": 10,
      "outputs": []
    },
    {
      "cell_type": "code",
      "source": [
        "t = Tokenizer()\n",
        "t.fit_on_texts(headlines)"
      ],
      "metadata": {
        "id": "QMopYL9Ltrlt"
      },
      "execution_count": 11,
      "outputs": []
    },
    {
      "cell_type": "code",
      "source": [
        "vocab_size = len(t.word_index) + 1\n",
        "vocab_size"
      ],
      "metadata": {
        "colab": {
          "base_uri": "https://localhost:8080/"
        },
        "id": "Bfof-pQEt-5v",
        "outputId": "13ccf3d7-8e4a-4b1a-c6b8-ae0ea40fb183"
      },
      "execution_count": 12,
      "outputs": [
        {
          "output_type": "execute_result",
          "data": {
            "text/plain": [
              "3494"
            ]
          },
          "metadata": {},
          "execution_count": 12
        }
      ]
    },
    {
      "cell_type": "code",
      "source": [
        "sequences = []\n",
        "for line in headlines:\n",
        "    encoded = t.texts_to_sequences([line])[0]\n",
        "    for i in range(1, len(encoded)):\n",
        "        sequences.append(encoded[:i+1])\n",
        "\n",
        "sequences[:11]"
      ],
      "metadata": {
        "colab": {
          "base_uri": "https://localhost:8080/"
        },
        "id": "K-IEjl-zuXT_",
        "outputId": "0228cc41-46a1-4b66-941c-0b5c9ca01b0d"
      },
      "execution_count": 13,
      "outputs": [
        {
          "output_type": "execute_result",
          "data": {
            "text/plain": [
              "[[99, 269],\n",
              " [99, 269, 371],\n",
              " [99, 269, 371, 1115],\n",
              " [99, 269, 371, 1115, 582],\n",
              " [99, 269, 371, 1115, 582, 52],\n",
              " [99, 269, 371, 1115, 582, 52, 7],\n",
              " [99, 269, 371, 1115, 582, 52, 7, 2],\n",
              " [99, 269, 371, 1115, 582, 52, 7, 2, 372],\n",
              " [99, 269, 371, 1115, 582, 52, 7, 2, 372, 10],\n",
              " [99, 269, 371, 1115, 582, 52, 7, 2, 372, 10, 1116],\n",
              " [100, 3]]"
            ]
          },
          "metadata": {},
          "execution_count": 13
        }
      ]
    },
    {
      "cell_type": "code",
      "source": [
        "max_len = max(len(seq) for seq in sequences)\n",
        "max_len"
      ],
      "metadata": {
        "colab": {
          "base_uri": "https://localhost:8080/"
        },
        "id": "Tsnxj7i5uhc3",
        "outputId": "54b36700-00fb-486c-b250-d433f99702a1"
      },
      "execution_count": 14,
      "outputs": [
        {
          "output_type": "execute_result",
          "data": {
            "text/plain": [
              "24"
            ]
          },
          "metadata": {},
          "execution_count": 14
        }
      ]
    },
    {
      "cell_type": "code",
      "source": [
        "sequences = pad_sequences(sequences, maxlen=max_len, padding='pre')\n",
        "sequences[:3]"
      ],
      "metadata": {
        "colab": {
          "base_uri": "https://localhost:8080/"
        },
        "id": "YqdPC-IWu7V9",
        "outputId": "cf0f12d5-876f-4a27-ef97-5a25714f405b"
      },
      "execution_count": 15,
      "outputs": [
        {
          "output_type": "execute_result",
          "data": {
            "text/plain": [
              "array([[   0,    0,    0,    0,    0,    0,    0,    0,    0,    0,    0,\n",
              "           0,    0,    0,    0,    0,    0,    0,    0,    0,    0,    0,\n",
              "          99,  269],\n",
              "       [   0,    0,    0,    0,    0,    0,    0,    0,    0,    0,    0,\n",
              "           0,    0,    0,    0,    0,    0,    0,    0,    0,    0,   99,\n",
              "         269,  371],\n",
              "       [   0,    0,    0,    0,    0,    0,    0,    0,    0,    0,    0,\n",
              "           0,    0,    0,    0,    0,    0,    0,    0,    0,   99,  269,\n",
              "         371, 1115]], dtype=int32)"
            ]
          },
          "metadata": {},
          "execution_count": 15
        }
      ]
    },
    {
      "cell_type": "code",
      "source": [
        "X = sequences[:, :-1]\n",
        "y = sequences[:, -1]\n",
        "Y = to_categorical(y)\n",
        "X.shape, Y.shape"
      ],
      "metadata": {
        "colab": {
          "base_uri": "https://localhost:8080/"
        },
        "id": "ZYVnJa5WvMJ1",
        "outputId": "a13a22d0-7adf-4bf2-dfca-b5db7fe5b87a"
      },
      "execution_count": 16,
      "outputs": [
        {
          "output_type": "execute_result",
          "data": {
            "text/plain": [
              "((7803, 23), (7803, 3494))"
            ]
          },
          "metadata": {},
          "execution_count": 16
        }
      ]
    },
    {
      "cell_type": "markdown",
      "source": [
        "### 모델 정의/설정/학습\n",
        "- Embedding: 10 차원\n",
        "- LSTM: 128 units"
      ],
      "metadata": {
        "id": "f1FlMuV5vtFq"
      }
    },
    {
      "cell_type": "code",
      "source": [
        "import numpy as np\n",
        "import tensorflow as tf\n",
        "seed = 2022\n",
        "np.random.seed(seed)\n",
        "tf.random.set_seed(seed)"
      ],
      "metadata": {
        "id": "bWAVfHwBvxjs"
      },
      "execution_count": 17,
      "outputs": []
    },
    {
      "cell_type": "code",
      "source": [
        "from tensorflow.keras.models import Sequential\n",
        "from tensorflow.keras.layers import Embedding, GRU, Dense"
      ],
      "metadata": {
        "id": "0qWoeHTIv-bn"
      },
      "execution_count": 18,
      "outputs": []
    },
    {
      "cell_type": "code",
      "source": [
        "model = Sequential([\n",
        "    Embedding(vocab_size, 10, input_length=max_len-1),\n",
        "    GRU(128),\n",
        "    Dense(vocab_size, activation='softmax')\n",
        "])\n",
        "model.summary()"
      ],
      "metadata": {
        "colab": {
          "base_uri": "https://localhost:8080/"
        },
        "id": "a6HHtH3AwE5S",
        "outputId": "58bdaa00-4509-43f3-bb14-aac4c87f525d"
      },
      "execution_count": 19,
      "outputs": [
        {
          "output_type": "stream",
          "name": "stdout",
          "text": [
            "Model: \"sequential\"\n",
            "_________________________________________________________________\n",
            " Layer (type)                Output Shape              Param #   \n",
            "=================================================================\n",
            " embedding (Embedding)       (None, 23, 10)            34940     \n",
            "                                                                 \n",
            " gru (GRU)                   (None, 128)               53760     \n",
            "                                                                 \n",
            " dense (Dense)               (None, 3494)              450726    \n",
            "                                                                 \n",
            "=================================================================\n",
            "Total params: 539,426\n",
            "Trainable params: 539,426\n",
            "Non-trainable params: 0\n",
            "_________________________________________________________________\n"
          ]
        }
      ]
    },
    {
      "cell_type": "code",
      "source": [
        "model.compile('adam', 'categorical_crossentropy', metrics=['accuracy'])"
      ],
      "metadata": {
        "id": "7gnEpMAawr3s"
      },
      "execution_count": 20,
      "outputs": []
    },
    {
      "cell_type": "code",
      "source": [
        "%time hist = model.fit(X, Y, epochs=200, verbose=2)"
      ],
      "metadata": {
        "colab": {
          "base_uri": "https://localhost:8080/"
        },
        "id": "ln8E8Z6yw6vd",
        "outputId": "43341f9a-e269-49ca-a56f-f98b82ed57c6"
      },
      "execution_count": 21,
      "outputs": [
        {
          "output_type": "stream",
          "name": "stdout",
          "text": [
            "Epoch 1/200\n",
            "244/244 - 6s - loss: 7.6739 - accuracy: 0.0313 - 6s/epoch - 26ms/step\n",
            "Epoch 2/200\n",
            "244/244 - 1s - loss: 7.1200 - accuracy: 0.0310 - 1s/epoch - 5ms/step\n",
            "Epoch 3/200\n",
            "244/244 - 1s - loss: 6.8994 - accuracy: 0.0459 - 1s/epoch - 5ms/step\n",
            "Epoch 4/200\n",
            "244/244 - 1s - loss: 6.6773 - accuracy: 0.0487 - 1s/epoch - 5ms/step\n",
            "Epoch 5/200\n",
            "244/244 - 1s - loss: 6.4414 - accuracy: 0.0532 - 1s/epoch - 5ms/step\n",
            "Epoch 6/200\n",
            "244/244 - 1s - loss: 6.1864 - accuracy: 0.0600 - 1s/epoch - 5ms/step\n",
            "Epoch 7/200\n",
            "244/244 - 1s - loss: 5.9170 - accuracy: 0.0614 - 1s/epoch - 5ms/step\n",
            "Epoch 8/200\n",
            "244/244 - 1s - loss: 5.6362 - accuracy: 0.0695 - 1s/epoch - 5ms/step\n",
            "Epoch 9/200\n",
            "244/244 - 1s - loss: 5.3645 - accuracy: 0.0763 - 1s/epoch - 5ms/step\n",
            "Epoch 10/200\n",
            "244/244 - 1s - loss: 5.1040 - accuracy: 0.0830 - 1s/epoch - 5ms/step\n",
            "Epoch 11/200\n",
            "244/244 - 1s - loss: 4.8532 - accuracy: 0.0996 - 1s/epoch - 5ms/step\n",
            "Epoch 12/200\n",
            "244/244 - 1s - loss: 4.6134 - accuracy: 0.1224 - 1s/epoch - 5ms/step\n",
            "Epoch 13/200\n",
            "244/244 - 1s - loss: 4.3864 - accuracy: 0.1497 - 1s/epoch - 5ms/step\n",
            "Epoch 14/200\n",
            "244/244 - 1s - loss: 4.1673 - accuracy: 0.1861 - 1s/epoch - 5ms/step\n",
            "Epoch 15/200\n",
            "244/244 - 1s - loss: 3.9604 - accuracy: 0.2172 - 1s/epoch - 5ms/step\n",
            "Epoch 16/200\n",
            "244/244 - 1s - loss: 3.7676 - accuracy: 0.2494 - 1s/epoch - 5ms/step\n",
            "Epoch 17/200\n",
            "244/244 - 1s - loss: 3.5845 - accuracy: 0.2835 - 1s/epoch - 5ms/step\n",
            "Epoch 18/200\n",
            "244/244 - 1s - loss: 3.4083 - accuracy: 0.3154 - 1s/epoch - 5ms/step\n",
            "Epoch 19/200\n",
            "244/244 - 1s - loss: 3.2468 - accuracy: 0.3446 - 1s/epoch - 5ms/step\n",
            "Epoch 20/200\n",
            "244/244 - 1s - loss: 3.0940 - accuracy: 0.3705 - 1s/epoch - 5ms/step\n",
            "Epoch 21/200\n",
            "244/244 - 1s - loss: 2.9548 - accuracy: 0.4013 - 1s/epoch - 5ms/step\n",
            "Epoch 22/200\n",
            "244/244 - 1s - loss: 2.8192 - accuracy: 0.4253 - 1s/epoch - 5ms/step\n",
            "Epoch 23/200\n",
            "244/244 - 1s - loss: 2.6980 - accuracy: 0.4530 - 1s/epoch - 5ms/step\n",
            "Epoch 24/200\n",
            "244/244 - 1s - loss: 2.5801 - accuracy: 0.4776 - 1s/epoch - 5ms/step\n",
            "Epoch 25/200\n",
            "244/244 - 1s - loss: 2.4727 - accuracy: 0.4952 - 1s/epoch - 5ms/step\n",
            "Epoch 26/200\n",
            "244/244 - 1s - loss: 2.3710 - accuracy: 0.5221 - 1s/epoch - 5ms/step\n",
            "Epoch 27/200\n",
            "244/244 - 1s - loss: 2.2706 - accuracy: 0.5343 - 1s/epoch - 5ms/step\n",
            "Epoch 28/200\n",
            "244/244 - 1s - loss: 2.1825 - accuracy: 0.5515 - 1s/epoch - 5ms/step\n",
            "Epoch 29/200\n",
            "244/244 - 1s - loss: 2.0996 - accuracy: 0.5700 - 1s/epoch - 5ms/step\n",
            "Epoch 30/200\n",
            "244/244 - 1s - loss: 2.0181 - accuracy: 0.5832 - 1s/epoch - 5ms/step\n",
            "Epoch 31/200\n",
            "244/244 - 2s - loss: 1.9413 - accuracy: 0.5985 - 2s/epoch - 6ms/step\n",
            "Epoch 32/200\n",
            "244/244 - 1s - loss: 1.8655 - accuracy: 0.6182 - 1s/epoch - 6ms/step\n",
            "Epoch 33/200\n",
            "244/244 - 1s - loss: 1.7997 - accuracy: 0.6317 - 1s/epoch - 5ms/step\n",
            "Epoch 34/200\n",
            "244/244 - 1s - loss: 1.7331 - accuracy: 0.6451 - 1s/epoch - 5ms/step\n",
            "Epoch 35/200\n",
            "244/244 - 1s - loss: 1.6716 - accuracy: 0.6605 - 1s/epoch - 5ms/step\n",
            "Epoch 36/200\n",
            "244/244 - 1s - loss: 1.6123 - accuracy: 0.6724 - 1s/epoch - 5ms/step\n",
            "Epoch 37/200\n",
            "244/244 - 1s - loss: 1.5555 - accuracy: 0.6820 - 1s/epoch - 5ms/step\n",
            "Epoch 38/200\n",
            "244/244 - 1s - loss: 1.5002 - accuracy: 0.6943 - 1s/epoch - 5ms/step\n",
            "Epoch 39/200\n",
            "244/244 - 1s - loss: 1.4524 - accuracy: 0.7059 - 1s/epoch - 5ms/step\n",
            "Epoch 40/200\n",
            "244/244 - 1s - loss: 1.3985 - accuracy: 0.7156 - 1s/epoch - 5ms/step\n",
            "Epoch 41/200\n",
            "244/244 - 1s - loss: 1.3493 - accuracy: 0.7251 - 1s/epoch - 5ms/step\n",
            "Epoch 42/200\n",
            "244/244 - 1s - loss: 1.2984 - accuracy: 0.7375 - 1s/epoch - 5ms/step\n",
            "Epoch 43/200\n",
            "244/244 - 1s - loss: 1.2561 - accuracy: 0.7456 - 1s/epoch - 5ms/step\n",
            "Epoch 44/200\n",
            "244/244 - 1s - loss: 1.2158 - accuracy: 0.7529 - 1s/epoch - 5ms/step\n",
            "Epoch 45/200\n",
            "244/244 - 1s - loss: 1.1797 - accuracy: 0.7602 - 1s/epoch - 5ms/step\n",
            "Epoch 46/200\n",
            "244/244 - 1s - loss: 1.1407 - accuracy: 0.7637 - 1s/epoch - 5ms/step\n",
            "Epoch 47/200\n",
            "244/244 - 1s - loss: 1.0990 - accuracy: 0.7764 - 1s/epoch - 5ms/step\n",
            "Epoch 48/200\n",
            "244/244 - 1s - loss: 1.0623 - accuracy: 0.7837 - 1s/epoch - 5ms/step\n",
            "Epoch 49/200\n",
            "244/244 - 1s - loss: 1.0239 - accuracy: 0.7912 - 1s/epoch - 5ms/step\n",
            "Epoch 50/200\n",
            "244/244 - 1s - loss: 0.9879 - accuracy: 0.7982 - 1s/epoch - 5ms/step\n",
            "Epoch 51/200\n",
            "244/244 - 1s - loss: 0.9550 - accuracy: 0.8003 - 1s/epoch - 5ms/step\n",
            "Epoch 52/200\n",
            "244/244 - 1s - loss: 0.9286 - accuracy: 0.8102 - 1s/epoch - 5ms/step\n",
            "Epoch 53/200\n",
            "244/244 - 1s - loss: 0.8996 - accuracy: 0.8114 - 1s/epoch - 5ms/step\n",
            "Epoch 54/200\n",
            "244/244 - 1s - loss: 0.8703 - accuracy: 0.8214 - 1s/epoch - 5ms/step\n",
            "Epoch 55/200\n",
            "244/244 - 1s - loss: 0.8413 - accuracy: 0.8240 - 1s/epoch - 5ms/step\n",
            "Epoch 56/200\n",
            "244/244 - 1s - loss: 0.8064 - accuracy: 0.8317 - 1s/epoch - 5ms/step\n",
            "Epoch 57/200\n",
            "244/244 - 1s - loss: 0.7812 - accuracy: 0.8352 - 1s/epoch - 5ms/step\n",
            "Epoch 58/200\n",
            "244/244 - 1s - loss: 0.7583 - accuracy: 0.8403 - 1s/epoch - 5ms/step\n",
            "Epoch 59/200\n",
            "244/244 - 1s - loss: 0.7388 - accuracy: 0.8439 - 1s/epoch - 5ms/step\n",
            "Epoch 60/200\n",
            "244/244 - 1s - loss: 0.7194 - accuracy: 0.8483 - 1s/epoch - 5ms/step\n",
            "Epoch 61/200\n",
            "244/244 - 1s - loss: 0.6925 - accuracy: 0.8522 - 1s/epoch - 5ms/step\n",
            "Epoch 62/200\n",
            "244/244 - 1s - loss: 0.6712 - accuracy: 0.8584 - 1s/epoch - 5ms/step\n",
            "Epoch 63/200\n",
            "244/244 - 1s - loss: 0.6517 - accuracy: 0.8598 - 1s/epoch - 5ms/step\n",
            "Epoch 64/200\n",
            "244/244 - 1s - loss: 0.6299 - accuracy: 0.8651 - 1s/epoch - 5ms/step\n",
            "Epoch 65/200\n",
            "244/244 - 1s - loss: 0.6077 - accuracy: 0.8686 - 1s/epoch - 5ms/step\n",
            "Epoch 66/200\n",
            "244/244 - 1s - loss: 0.5932 - accuracy: 0.8690 - 1s/epoch - 5ms/step\n",
            "Epoch 67/200\n",
            "244/244 - 1s - loss: 0.5774 - accuracy: 0.8748 - 1s/epoch - 5ms/step\n",
            "Epoch 68/200\n",
            "244/244 - 1s - loss: 0.5549 - accuracy: 0.8804 - 1s/epoch - 5ms/step\n",
            "Epoch 69/200\n",
            "244/244 - 1s - loss: 0.5426 - accuracy: 0.8824 - 1s/epoch - 5ms/step\n",
            "Epoch 70/200\n",
            "244/244 - 1s - loss: 0.5394 - accuracy: 0.8839 - 1s/epoch - 5ms/step\n",
            "Epoch 71/200\n",
            "244/244 - 1s - loss: 0.5257 - accuracy: 0.8859 - 1s/epoch - 5ms/step\n",
            "Epoch 72/200\n",
            "244/244 - 1s - loss: 0.5178 - accuracy: 0.8897 - 1s/epoch - 5ms/step\n",
            "Epoch 73/200\n",
            "244/244 - 1s - loss: 0.4940 - accuracy: 0.8903 - 1s/epoch - 5ms/step\n",
            "Epoch 74/200\n",
            "244/244 - 1s - loss: 0.4739 - accuracy: 0.8943 - 1s/epoch - 5ms/step\n",
            "Epoch 75/200\n",
            "244/244 - 1s - loss: 0.4615 - accuracy: 0.8970 - 1s/epoch - 5ms/step\n",
            "Epoch 76/200\n",
            "244/244 - 1s - loss: 0.4569 - accuracy: 0.8990 - 1s/epoch - 5ms/step\n",
            "Epoch 77/200\n",
            "244/244 - 1s - loss: 0.4418 - accuracy: 0.9003 - 1s/epoch - 5ms/step\n",
            "Epoch 78/200\n",
            "244/244 - 1s - loss: 0.4331 - accuracy: 0.9007 - 1s/epoch - 5ms/step\n",
            "Epoch 79/200\n",
            "244/244 - 1s - loss: 0.4242 - accuracy: 0.9043 - 1s/epoch - 5ms/step\n",
            "Epoch 80/200\n",
            "244/244 - 1s - loss: 0.4182 - accuracy: 0.9047 - 1s/epoch - 5ms/step\n",
            "Epoch 81/200\n",
            "244/244 - 1s - loss: 0.4283 - accuracy: 0.9036 - 1s/epoch - 5ms/step\n",
            "Epoch 82/200\n",
            "244/244 - 1s - loss: 0.4120 - accuracy: 0.9053 - 1s/epoch - 5ms/step\n",
            "Epoch 83/200\n",
            "244/244 - 1s - loss: 0.3968 - accuracy: 0.9075 - 1s/epoch - 5ms/step\n",
            "Epoch 84/200\n",
            "244/244 - 1s - loss: 0.3830 - accuracy: 0.9108 - 1s/epoch - 5ms/step\n",
            "Epoch 85/200\n",
            "244/244 - 1s - loss: 0.3788 - accuracy: 0.9081 - 1s/epoch - 5ms/step\n",
            "Epoch 86/200\n",
            "244/244 - 1s - loss: 0.3711 - accuracy: 0.9105 - 1s/epoch - 5ms/step\n",
            "Epoch 87/200\n",
            "244/244 - 1s - loss: 0.3690 - accuracy: 0.9103 - 1s/epoch - 5ms/step\n",
            "Epoch 88/200\n",
            "244/244 - 1s - loss: 0.3618 - accuracy: 0.9122 - 1s/epoch - 5ms/step\n",
            "Epoch 89/200\n",
            "244/244 - 1s - loss: 0.3623 - accuracy: 0.9111 - 1s/epoch - 5ms/step\n",
            "Epoch 90/200\n",
            "244/244 - 1s - loss: 0.3660 - accuracy: 0.9093 - 1s/epoch - 5ms/step\n",
            "Epoch 91/200\n",
            "244/244 - 1s - loss: 0.3581 - accuracy: 0.9120 - 1s/epoch - 5ms/step\n",
            "Epoch 92/200\n",
            "244/244 - 1s - loss: 0.3471 - accuracy: 0.9130 - 1s/epoch - 5ms/step\n",
            "Epoch 93/200\n",
            "244/244 - 1s - loss: 0.3588 - accuracy: 0.9091 - 1s/epoch - 5ms/step\n",
            "Epoch 94/200\n",
            "244/244 - 1s - loss: 0.3743 - accuracy: 0.9099 - 1s/epoch - 5ms/step\n",
            "Epoch 95/200\n",
            "244/244 - 1s - loss: 0.3658 - accuracy: 0.9091 - 1s/epoch - 5ms/step\n",
            "Epoch 96/200\n",
            "244/244 - 1s - loss: 0.3436 - accuracy: 0.9120 - 1s/epoch - 5ms/step\n",
            "Epoch 97/200\n",
            "244/244 - 1s - loss: 0.3328 - accuracy: 0.9136 - 1s/epoch - 5ms/step\n",
            "Epoch 98/200\n",
            "244/244 - 1s - loss: 0.3257 - accuracy: 0.9138 - 1s/epoch - 5ms/step\n",
            "Epoch 99/200\n",
            "244/244 - 1s - loss: 0.3239 - accuracy: 0.9146 - 1s/epoch - 5ms/step\n",
            "Epoch 100/200\n",
            "244/244 - 1s - loss: 0.3199 - accuracy: 0.9164 - 1s/epoch - 5ms/step\n",
            "Epoch 101/200\n",
            "244/244 - 1s - loss: 0.3183 - accuracy: 0.9143 - 1s/epoch - 5ms/step\n",
            "Epoch 102/200\n",
            "244/244 - 1s - loss: 0.3166 - accuracy: 0.9155 - 1s/epoch - 5ms/step\n",
            "Epoch 103/200\n",
            "244/244 - 1s - loss: 0.3169 - accuracy: 0.9134 - 1s/epoch - 5ms/step\n",
            "Epoch 104/200\n",
            "244/244 - 1s - loss: 0.3137 - accuracy: 0.9144 - 1s/epoch - 5ms/step\n",
            "Epoch 105/200\n",
            "244/244 - 1s - loss: 0.3130 - accuracy: 0.9143 - 1s/epoch - 5ms/step\n",
            "Epoch 106/200\n",
            "244/244 - 1s - loss: 0.3134 - accuracy: 0.9141 - 1s/epoch - 5ms/step\n",
            "Epoch 107/200\n",
            "244/244 - 1s - loss: 0.3126 - accuracy: 0.9152 - 1s/epoch - 5ms/step\n",
            "Epoch 108/200\n",
            "244/244 - 1s - loss: 0.3166 - accuracy: 0.9153 - 1s/epoch - 5ms/step\n",
            "Epoch 109/200\n",
            "244/244 - 1s - loss: 0.3380 - accuracy: 0.9091 - 1s/epoch - 5ms/step\n",
            "Epoch 110/200\n",
            "244/244 - 1s - loss: 0.3775 - accuracy: 0.9025 - 1s/epoch - 5ms/step\n",
            "Epoch 111/200\n",
            "244/244 - 1s - loss: 0.3290 - accuracy: 0.9125 - 1s/epoch - 5ms/step\n",
            "Epoch 112/200\n",
            "244/244 - 1s - loss: 0.3082 - accuracy: 0.9136 - 1s/epoch - 5ms/step\n",
            "Epoch 113/200\n",
            "244/244 - 1s - loss: 0.2994 - accuracy: 0.9154 - 1s/epoch - 5ms/step\n",
            "Epoch 114/200\n",
            "244/244 - 1s - loss: 0.2982 - accuracy: 0.9155 - 1s/epoch - 5ms/step\n",
            "Epoch 115/200\n",
            "244/244 - 1s - loss: 0.3002 - accuracy: 0.9141 - 1s/epoch - 5ms/step\n",
            "Epoch 116/200\n",
            "244/244 - 1s - loss: 0.3038 - accuracy: 0.9132 - 1s/epoch - 5ms/step\n",
            "Epoch 117/200\n",
            "244/244 - 1s - loss: 0.3006 - accuracy: 0.9131 - 1s/epoch - 5ms/step\n",
            "Epoch 118/200\n",
            "244/244 - 1s - loss: 0.2997 - accuracy: 0.9159 - 1s/epoch - 5ms/step\n",
            "Epoch 119/200\n",
            "244/244 - 1s - loss: 0.3049 - accuracy: 0.9149 - 1s/epoch - 5ms/step\n",
            "Epoch 120/200\n",
            "244/244 - 1s - loss: 0.2973 - accuracy: 0.9167 - 1s/epoch - 5ms/step\n",
            "Epoch 121/200\n",
            "244/244 - 1s - loss: 0.2970 - accuracy: 0.9138 - 1s/epoch - 5ms/step\n",
            "Epoch 122/200\n",
            "244/244 - 1s - loss: 0.2950 - accuracy: 0.9139 - 1s/epoch - 5ms/step\n",
            "Epoch 123/200\n",
            "244/244 - 1s - loss: 0.2932 - accuracy: 0.9168 - 1s/epoch - 5ms/step\n",
            "Epoch 124/200\n",
            "244/244 - 1s - loss: 0.2935 - accuracy: 0.9158 - 1s/epoch - 5ms/step\n",
            "Epoch 125/200\n",
            "244/244 - 1s - loss: 0.2923 - accuracy: 0.9157 - 1s/epoch - 5ms/step\n",
            "Epoch 126/200\n",
            "244/244 - 1s - loss: 0.2942 - accuracy: 0.9152 - 1s/epoch - 5ms/step\n",
            "Epoch 127/200\n",
            "244/244 - 1s - loss: 0.2927 - accuracy: 0.9146 - 1s/epoch - 5ms/step\n",
            "Epoch 128/200\n",
            "244/244 - 1s - loss: 0.3512 - accuracy: 0.9004 - 1s/epoch - 5ms/step\n",
            "Epoch 129/200\n",
            "244/244 - 1s - loss: 0.3918 - accuracy: 0.8959 - 1s/epoch - 5ms/step\n",
            "Epoch 130/200\n",
            "244/244 - 1s - loss: 0.3175 - accuracy: 0.9108 - 1s/epoch - 5ms/step\n",
            "Epoch 131/200\n",
            "244/244 - 1s - loss: 0.2922 - accuracy: 0.9158 - 1s/epoch - 5ms/step\n",
            "Epoch 132/200\n",
            "244/244 - 1s - loss: 0.2879 - accuracy: 0.9164 - 1s/epoch - 5ms/step\n",
            "Epoch 133/200\n",
            "244/244 - 1s - loss: 0.2878 - accuracy: 0.9146 - 1s/epoch - 5ms/step\n",
            "Epoch 134/200\n",
            "244/244 - 1s - loss: 0.2858 - accuracy: 0.9144 - 1s/epoch - 5ms/step\n",
            "Epoch 135/200\n",
            "244/244 - 1s - loss: 0.2872 - accuracy: 0.9153 - 1s/epoch - 5ms/step\n",
            "Epoch 136/200\n",
            "244/244 - 1s - loss: 0.2867 - accuracy: 0.9162 - 1s/epoch - 5ms/step\n",
            "Epoch 137/200\n",
            "244/244 - 1s - loss: 0.2872 - accuracy: 0.9143 - 1s/epoch - 5ms/step\n",
            "Epoch 138/200\n",
            "244/244 - 1s - loss: 0.2858 - accuracy: 0.9158 - 1s/epoch - 5ms/step\n",
            "Epoch 139/200\n",
            "244/244 - 1s - loss: 0.2893 - accuracy: 0.9140 - 1s/epoch - 5ms/step\n",
            "Epoch 140/200\n",
            "244/244 - 1s - loss: 0.2912 - accuracy: 0.9141 - 1s/epoch - 5ms/step\n",
            "Epoch 141/200\n",
            "244/244 - 1s - loss: 0.2894 - accuracy: 0.9148 - 1s/epoch - 5ms/step\n",
            "Epoch 142/200\n",
            "244/244 - 1s - loss: 0.2864 - accuracy: 0.9164 - 1s/epoch - 5ms/step\n",
            "Epoch 143/200\n",
            "244/244 - 1s - loss: 0.2877 - accuracy: 0.9153 - 1s/epoch - 5ms/step\n",
            "Epoch 144/200\n",
            "244/244 - 1s - loss: 0.2869 - accuracy: 0.9168 - 1s/epoch - 5ms/step\n",
            "Epoch 145/200\n",
            "244/244 - 1s - loss: 0.2861 - accuracy: 0.9158 - 1s/epoch - 5ms/step\n",
            "Epoch 146/200\n",
            "244/244 - 1s - loss: 0.2886 - accuracy: 0.9144 - 1s/epoch - 5ms/step\n",
            "Epoch 147/200\n",
            "244/244 - 1s - loss: 0.2893 - accuracy: 0.9148 - 1s/epoch - 5ms/step\n",
            "Epoch 148/200\n",
            "244/244 - 1s - loss: 0.2984 - accuracy: 0.9109 - 1s/epoch - 5ms/step\n",
            "Epoch 149/200\n",
            "244/244 - 1s - loss: 0.2898 - accuracy: 0.9144 - 1s/epoch - 5ms/step\n",
            "Epoch 150/200\n",
            "244/244 - 1s - loss: 0.2851 - accuracy: 0.9153 - 1s/epoch - 5ms/step\n",
            "Epoch 151/200\n",
            "244/244 - 1s - loss: 0.2896 - accuracy: 0.9136 - 1s/epoch - 5ms/step\n",
            "Epoch 152/200\n",
            "244/244 - 1s - loss: 0.3205 - accuracy: 0.9088 - 1s/epoch - 5ms/step\n",
            "Epoch 153/200\n",
            "244/244 - 1s - loss: 0.3570 - accuracy: 0.8995 - 1s/epoch - 5ms/step\n",
            "Epoch 154/200\n",
            "244/244 - 1s - loss: 0.3080 - accuracy: 0.9117 - 1s/epoch - 5ms/step\n",
            "Epoch 155/200\n",
            "244/244 - 1s - loss: 0.2884 - accuracy: 0.9138 - 1s/epoch - 4ms/step\n",
            "Epoch 156/200\n",
            "244/244 - 1s - loss: 0.2828 - accuracy: 0.9161 - 1s/epoch - 5ms/step\n",
            "Epoch 157/200\n",
            "244/244 - 1s - loss: 0.2823 - accuracy: 0.9159 - 1s/epoch - 5ms/step\n",
            "Epoch 158/200\n",
            "244/244 - 1s - loss: 0.2803 - accuracy: 0.9140 - 1s/epoch - 5ms/step\n",
            "Epoch 159/200\n",
            "244/244 - 1s - loss: 0.2804 - accuracy: 0.9176 - 1s/epoch - 5ms/step\n",
            "Epoch 160/200\n",
            "244/244 - 1s - loss: 0.2822 - accuracy: 0.9158 - 1s/epoch - 5ms/step\n",
            "Epoch 161/200\n",
            "244/244 - 1s - loss: 0.2843 - accuracy: 0.9138 - 1s/epoch - 5ms/step\n",
            "Epoch 162/200\n",
            "244/244 - 1s - loss: 0.2942 - accuracy: 0.9130 - 1s/epoch - 5ms/step\n",
            "Epoch 163/200\n",
            "244/244 - 1s - loss: 0.2913 - accuracy: 0.9135 - 1s/epoch - 5ms/step\n",
            "Epoch 164/200\n",
            "244/244 - 1s - loss: 0.2863 - accuracy: 0.9143 - 1s/epoch - 5ms/step\n",
            "Epoch 165/200\n",
            "244/244 - 1s - loss: 0.2833 - accuracy: 0.9148 - 1s/epoch - 5ms/step\n",
            "Epoch 166/200\n",
            "244/244 - 1s - loss: 0.2818 - accuracy: 0.9170 - 1s/epoch - 5ms/step\n",
            "Epoch 167/200\n",
            "244/244 - 1s - loss: 0.2819 - accuracy: 0.9143 - 1s/epoch - 5ms/step\n",
            "Epoch 168/200\n",
            "244/244 - 1s - loss: 0.2808 - accuracy: 0.9135 - 1s/epoch - 5ms/step\n",
            "Epoch 169/200\n",
            "244/244 - 1s - loss: 0.2804 - accuracy: 0.9145 - 1s/epoch - 5ms/step\n",
            "Epoch 170/200\n",
            "244/244 - 1s - loss: 0.2847 - accuracy: 0.9129 - 1s/epoch - 5ms/step\n",
            "Epoch 171/200\n",
            "244/244 - 1s - loss: 0.2883 - accuracy: 0.9132 - 1s/epoch - 5ms/step\n",
            "Epoch 172/200\n",
            "244/244 - 1s - loss: 0.2881 - accuracy: 0.9161 - 1s/epoch - 5ms/step\n",
            "Epoch 173/200\n",
            "244/244 - 1s - loss: 0.2899 - accuracy: 0.9149 - 1s/epoch - 5ms/step\n",
            "Epoch 174/200\n",
            "244/244 - 1s - loss: 0.3022 - accuracy: 0.9113 - 1s/epoch - 5ms/step\n",
            "Epoch 175/200\n",
            "244/244 - 1s - loss: 0.3054 - accuracy: 0.9098 - 1s/epoch - 5ms/step\n",
            "Epoch 176/200\n",
            "244/244 - 1s - loss: 0.2957 - accuracy: 0.9117 - 1s/epoch - 5ms/step\n",
            "Epoch 177/200\n",
            "244/244 - 1s - loss: 0.2845 - accuracy: 0.9141 - 1s/epoch - 5ms/step\n",
            "Epoch 178/200\n",
            "244/244 - 1s - loss: 0.2799 - accuracy: 0.9164 - 1s/epoch - 5ms/step\n",
            "Epoch 179/200\n",
            "244/244 - 1s - loss: 0.2795 - accuracy: 0.9145 - 1s/epoch - 5ms/step\n",
            "Epoch 180/200\n",
            "244/244 - 1s - loss: 0.2804 - accuracy: 0.9153 - 1s/epoch - 5ms/step\n",
            "Epoch 181/200\n",
            "244/244 - 1s - loss: 0.2791 - accuracy: 0.9150 - 1s/epoch - 5ms/step\n",
            "Epoch 182/200\n",
            "244/244 - 1s - loss: 0.2793 - accuracy: 0.9134 - 1s/epoch - 5ms/step\n",
            "Epoch 183/200\n",
            "244/244 - 1s - loss: 0.2782 - accuracy: 0.9144 - 1s/epoch - 5ms/step\n",
            "Epoch 184/200\n",
            "244/244 - 1s - loss: 0.2860 - accuracy: 0.9141 - 1s/epoch - 5ms/step\n",
            "Epoch 185/200\n",
            "244/244 - 1s - loss: 0.2808 - accuracy: 0.9170 - 1s/epoch - 5ms/step\n",
            "Epoch 186/200\n",
            "244/244 - 1s - loss: 0.2788 - accuracy: 0.9157 - 1s/epoch - 5ms/step\n",
            "Epoch 187/200\n",
            "244/244 - 1s - loss: 0.2776 - accuracy: 0.9155 - 1s/epoch - 5ms/step\n",
            "Epoch 188/200\n",
            "244/244 - 1s - loss: 0.2802 - accuracy: 0.9141 - 1s/epoch - 5ms/step\n",
            "Epoch 189/200\n",
            "244/244 - 1s - loss: 0.2848 - accuracy: 0.9149 - 1s/epoch - 5ms/step\n",
            "Epoch 190/200\n",
            "244/244 - 1s - loss: 0.2824 - accuracy: 0.9140 - 1s/epoch - 5ms/step\n",
            "Epoch 191/200\n",
            "244/244 - 1s - loss: 0.2861 - accuracy: 0.9138 - 1s/epoch - 5ms/step\n",
            "Epoch 192/200\n",
            "244/244 - 1s - loss: 0.3016 - accuracy: 0.9113 - 1s/epoch - 5ms/step\n",
            "Epoch 193/200\n",
            "244/244 - 1s - loss: 0.3664 - accuracy: 0.8961 - 1s/epoch - 5ms/step\n",
            "Epoch 194/200\n",
            "244/244 - 1s - loss: 0.3000 - accuracy: 0.9114 - 1s/epoch - 5ms/step\n",
            "Epoch 195/200\n",
            "244/244 - 1s - loss: 0.2835 - accuracy: 0.9150 - 1s/epoch - 5ms/step\n",
            "Epoch 196/200\n",
            "244/244 - 1s - loss: 0.2788 - accuracy: 0.9159 - 1s/epoch - 5ms/step\n",
            "Epoch 197/200\n",
            "244/244 - 1s - loss: 0.2773 - accuracy: 0.9143 - 1s/epoch - 5ms/step\n",
            "Epoch 198/200\n",
            "244/244 - 1s - loss: 0.2778 - accuracy: 0.9154 - 1s/epoch - 5ms/step\n",
            "Epoch 199/200\n",
            "244/244 - 1s - loss: 0.2760 - accuracy: 0.9157 - 1s/epoch - 5ms/step\n",
            "Epoch 200/200\n",
            "244/244 - 1s - loss: 0.2776 - accuracy: 0.9144 - 1s/epoch - 5ms/step\n",
            "CPU times: user 4min 37s, sys: 30.9 s, total: 5min 8s\n",
            "Wall time: 3min 52s\n"
          ]
        }
      ]
    },
    {
      "cell_type": "code",
      "source": [
        "!ps -ax"
      ],
      "metadata": {
        "colab": {
          "base_uri": "https://localhost:8080/"
        },
        "id": "iXN29cI1mZ8Y",
        "outputId": "21a0594c-224b-463b-f688-94d528265d88"
      },
      "execution_count": 24,
      "outputs": [
        {
          "output_type": "stream",
          "name": "stdout",
          "text": [
            "    PID TTY      STAT   TIME COMMAND\n",
            "      1 ?        Ss     0:00 /sbin/docker-init -- /datalab/run.sh\n",
            "      7 ?        Sl     0:02 /tools/node/bin/node /datalab/web/app.js\n",
            "     17 ?        Ss     0:00 tail -n +0 -F /root/.config/Google/DriveFS/Logs/dpb\n",
            "     30 ?        Z      0:04 [python3] <defunct>\n",
            "     31 ?        S      0:00 python3 /usr/local/bin/colab-fileshim.py\n",
            "     56 ?        Sl     0:02 /usr/bin/python2 /usr/local/bin/jupyter-notebook --\n",
            "     57 ?        Sl     0:00 /usr/local/bin/dap_multiplexer --domain_socket_path\n",
            "     71 ?        Ssl    5:15 /usr/bin/python3 -m ipykernel_launcher -f /root/.lo\n",
            "     91 ?        Sl     0:02 /usr/bin/python3 /usr/local/lib/python3.7/dist-pack\n",
            "    108 ?        Sl     0:55 node /datalab/web/pyright/pyright-langserver.js --s\n",
            "    287 ?        R      0:00 ps -ax\n"
          ]
        }
      ]
    },
    {
      "cell_type": "code",
      "source": [
        "hist.history['accuracy'][-1]"
      ],
      "metadata": {
        "colab": {
          "base_uri": "https://localhost:8080/"
        },
        "id": "rnjyNc3ZzWG6",
        "outputId": "78ab58ae-8acb-49e0-b1db-f184511e5163"
      },
      "execution_count": 22,
      "outputs": [
        {
          "output_type": "execute_result",
          "data": {
            "text/plain": [
              "0.9143918752670288"
            ]
          },
          "metadata": {},
          "execution_count": 22
        }
      ]
    },
    {
      "cell_type": "markdown",
      "source": [
        "- 모델 검증"
      ],
      "metadata": {
        "id": "LHzLv-2bzb5D"
      }
    },
    {
      "cell_type": "code",
      "source": [
        "up = files.upload()"
      ],
      "metadata": {
        "colab": {
          "resources": {
            "http://localhost:8080/nbextensions/google.colab/files.js": {
              "data": "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",
              "ok": true,
              "headers": [
                [
                  "content-type",
                  "application/javascript"
                ]
              ],
              "status": 200,
              "status_text": ""
            }
          },
          "base_uri": "https://localhost:8080/",
          "height": 77
        },
        "id": "U7my0Uw6zlYT",
        "outputId": "47681114-4f7c-4e71-cc5d-99be21c79afd"
      },
      "execution_count": 25,
      "outputs": [
        {
          "output_type": "display_data",
          "data": {
            "text/html": [
              "\n",
              "     <input type=\"file\" id=\"files-9d86031b-95ca-4118-ac2f-a8e43ff87498\" name=\"files[]\" multiple disabled\n",
              "        style=\"border:none\" />\n",
              "     <output id=\"result-9d86031b-95ca-4118-ac2f-a8e43ff87498\">\n",
              "      Upload widget is only available when the cell has been executed in the\n",
              "      current browser session. Please rerun this cell to enable.\n",
              "      </output>\n",
              "      <script src=\"/nbextensions/google.colab/files.js\"></script> "
            ],
            "text/plain": [
              "<IPython.core.display.HTML object>"
            ]
          },
          "metadata": {}
        },
        {
          "output_type": "stream",
          "name": "stdout",
          "text": [
            "Saving my_util.py to my_util.py\n"
          ]
        }
      ]
    },
    {
      "cell_type": "code",
      "source": [
        "from my_util import sentence_generation"
      ],
      "metadata": {
        "id": "y-_zwtmRzoKM"
      },
      "execution_count": 26,
      "outputs": []
    },
    {
      "cell_type": "code",
      "source": [
        "print(sentence_generation(model, t, max_len, 'former', 10))\n",
        "print(sentence_generation(model, t, max_len, 'epa', 10))\n",
        "print(sentence_generation(model, t, max_len, 'how', 10))"
      ],
      "metadata": {
        "colab": {
          "base_uri": "https://localhost:8080/"
        },
        "id": "HpZPps_az1IL",
        "outputId": "500efe4a-0813-42f7-8a0b-d9cb1ecd20ee"
      },
      "execution_count": 27,
      "outputs": [
        {
          "output_type": "stream",
          "name": "stdout",
          "text": [
            "former judge to review files seized in searches press party has\n",
            "epa to unveil a new rule its effect less science in\n",
            "how to make a crossword puzzle protest camp shooting by were\n"
          ]
        }
      ]
    },
    {
      "cell_type": "markdown",
      "source": [
        "- 훈련과정 시각화"
      ],
      "metadata": {
        "id": "QTq7F5PD0Cpk"
      }
    },
    {
      "cell_type": "code",
      "source": [
        "y_acc = hist.history['accuracy']\n",
        "y_loss = hist.history['loss']\n",
        "xs = np.arange(1, len(y_acc)+1)"
      ],
      "metadata": {
        "id": "27RNDh_d0fbA"
      },
      "execution_count": 28,
      "outputs": []
    },
    {
      "cell_type": "code",
      "source": [
        "import matplotlib.pyplot as plt\n",
        "plt.figure(figsize=(12,8))\n",
        "plt.plot(xs, y_acc, label='train accuracy')\n",
        "plt.plot(xs, y_loss, label='train loss')\n",
        "plt.legend(), plt.grid(), plt.ylim(0,1.1)\n",
        "plt.xlabel('Epoch')\n",
        "plt.show()"
      ],
      "metadata": {
        "colab": {
          "base_uri": "https://localhost:8080/",
          "height": 489
        },
        "id": "EcQxRdAc0YMY",
        "outputId": "2ab1e9dc-5b15-4c62-ff77-c57d3c6d8962"
      },
      "execution_count": 29,
      "outputs": [
        {
          "output_type": "display_data",
          "data": {
            "image/png": "[encoded data removed]",
            "text/plain": [
              "<Figure size 864x576 with 1 Axes>"
            ]
          },
          "metadata": {
            "needs_background": "light"
          }
        }
      ]
    },
    {
      "cell_type": "code",
      "source": [
        ""
      ],
      "metadata": {
        "id": "6C9kBzo217e_"
      },
      "execution_count": null,
      "outputs": []
    }
  ]
}