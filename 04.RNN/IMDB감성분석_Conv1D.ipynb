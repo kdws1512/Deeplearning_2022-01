{
  "nbformat": 4,
  "nbformat_minor": 0,
  "metadata": {
    "colab": {
      "name": "IMDB감성분석-Conv1D.ipynb",
      "provenance": [],
      "collapsed_sections": []
    },
    "kernelspec": {
      "name": "python3",
      "display_name": "Python 3"
    },
    "language_info": {
      "name": "python"
    },
    "accelerator": "GPU"
  },
  "cells": [
    {
      "cell_type": "markdown",
      "source": [
        "# IMDB 영화 리뷰 감성 분석 - Conv1D"
      ],
      "metadata": {
        "id": "gYHhleoF9npO"
      }
    },
    {
      "cell_type": "code",
      "source": [
        "import numpy as np\n",
        "import matplotlib.pyplot as plt\n",
        "from tensorflow.keras.datasets import imdb\n",
        "import warnings\n",
        "warnings.filterwarnings('ignore')"
      ],
      "metadata": {
        "id": "SwC6h5x993BH"
      },
      "execution_count": 1,
      "outputs": []
    },
    {
      "cell_type": "code",
      "source": [
        "(X_train, y_train), (X_test, y_test) = imdb.load_data()\n",
        "X_train.shape, X_test.shape, y_train.shape"
      ],
      "metadata": {
        "colab": {
          "base_uri": "https://localhost:8080/"
        },
        "id": "Q6QERWAB-N52",
        "outputId": "1ad63f6e-2afa-4076-8c90-58c224dce72f"
      },
      "execution_count": 2,
      "outputs": [
        {
          "output_type": "stream",
          "name": "stdout",
          "text": [
            "Downloading data from https://storage.googleapis.com/tensorflow/tf-keras-datasets/imdb.npz\n",
            "17465344/17464789 [==============================] - 0s 0us/step\n",
            "17473536/17464789 [==============================] - 0s 0us/step\n"
          ]
        },
        {
          "output_type": "execute_result",
          "data": {
            "text/plain": [
              "((25000,), (25000,), (25000,))"
            ]
          },
          "metadata": {},
          "execution_count": 2
        }
      ]
    },
    {
      "cell_type": "code",
      "source": [
        "print('등장한 단어수', len(imdb.get_word_index()))\n",
        "print('리뷰 최대 길이', max(len(s) for s in X_train))\n",
        "print('리뷰 평균 길이', sum(map(len, X_train)) / len(X_train))"
      ],
      "metadata": {
        "colab": {
          "base_uri": "https://localhost:8080/"
        },
        "id": "4Fn07HXY-npr",
        "outputId": "21ad9399-d5e2-4f59-f730-0ff0b1fc20c6"
      },
      "execution_count": 3,
      "outputs": [
        {
          "output_type": "stream",
          "name": "stdout",
          "text": [
            "Downloading data from https://storage.googleapis.com/tensorflow/tf-keras-datasets/imdb_word_index.json\n",
            "1646592/1641221 [==============================] - 0s 0us/step\n",
            "1654784/1641221 [==============================] - 0s 0us/step\n",
            "등장한 단어수 88584\n",
            "리뷰 최대 길이 2494\n",
            "리뷰 평균 길이 238.71364\n"
          ]
        }
      ]
    },
    {
      "cell_type": "markdown",
      "source": [
        "### Conv1D으로 IDBM 리뷰 감성 분석\n",
        "- 단어 빈도수: 10,000 (88,584)\n",
        "- 문장의 단어수: 500 (2,494)\n",
        "- test data중 40%(10,000개)는 검증용으로"
      ],
      "metadata": {
        "id": "2F8TUAci_Zu2"
      }
    },
    {
      "cell_type": "code",
      "source": [
        "import tensorflow as tf\n",
        "seed = 2022\n",
        "np.random.seed(seed)\n",
        "tf.random.set_seed(seed)"
      ],
      "metadata": {
        "id": "BhM4NPPYAOwM"
      },
      "execution_count": 4,
      "outputs": []
    },
    {
      "cell_type": "code",
      "source": [
        "from tensorflow.keras.models import Sequential, load_model\n",
        "from tensorflow.keras.layers import Embedding, Dense, Dropout\n",
        "from tensorflow.keras.layers import Conv1D, MaxPooling1D, GlobalMaxPooling1D\n",
        "from tensorflow.keras.preprocessing.sequence import pad_sequences\n",
        "from tensorflow.keras.callbacks import ModelCheckpoint, EarlyStopping"
      ],
      "metadata": {
        "id": "TJiWOuC8AsVx"
      },
      "execution_count": 15,
      "outputs": []
    },
    {
      "cell_type": "code",
      "source": [
        "(X_train, y_train), (X_test, y_test) = imdb.load_data(num_words=10000)\n",
        "X_train.shape, X_test.shape, y_train.shape"
      ],
      "metadata": {
        "colab": {
          "base_uri": "https://localhost:8080/"
        },
        "id": "IlVyS_yFAur0",
        "outputId": "1e644cf1-449c-429b-d0d5-ce79f08ab441"
      },
      "execution_count": 7,
      "outputs": [
        {
          "output_type": "execute_result",
          "data": {
            "text/plain": [
              "((25000,), (25000,), (25000,))"
            ]
          },
          "metadata": {},
          "execution_count": 7
        }
      ]
    },
    {
      "cell_type": "code",
      "source": [
        "max_len = 500\n",
        "X_train = pad_sequences(X_train, maxlen=max_len)\n",
        "X_test = pad_sequences(X_test, maxlen=max_len)\n",
        "X_train.shape, X_test.shape"
      ],
      "metadata": {
        "colab": {
          "base_uri": "https://localhost:8080/"
        },
        "id": "AslQ1w_VA-US",
        "outputId": "d198bdcf-7d65-4b00-f617-a669c86099ae"
      },
      "execution_count": 8,
      "outputs": [
        {
          "output_type": "execute_result",
          "data": {
            "text/plain": [
              "((25000, 500), (25000, 500))"
            ]
          },
          "metadata": {},
          "execution_count": 8
        }
      ]
    },
    {
      "cell_type": "code",
      "source": [
        "from sklearn.model_selection import train_test_split\n",
        "X_test, X_valid, y_test, y_valid = train_test_split(\n",
        "    X_test, y_test, stratify=y_test, test_size=0.4, random_state=seed\n",
        ")\n",
        "X_test.shape, X_valid.shape, y_test.shape, y_valid.shape"
      ],
      "metadata": {
        "colab": {
          "base_uri": "https://localhost:8080/"
        },
        "id": "GMKXXbYJC-98",
        "outputId": "6ef02c1b-eb44-4921-ac37-2df56f88b49d"
      },
      "execution_count": 9,
      "outputs": [
        {
          "output_type": "execute_result",
          "data": {
            "text/plain": [
              "((15000, 500), (10000, 500), (15000,), (10000,))"
            ]
          },
          "metadata": {},
          "execution_count": 9
        }
      ]
    },
    {
      "cell_type": "markdown",
      "source": [
        "- Case 2) Conv1D x 2, MaxPooling1D x 2,\n",
        "Dropout, GlobalMaxPooling1D\n",
        "    - embedding dim: 100"
      ],
      "metadata": {
        "id": "51gx5zWZBgF3"
      }
    },
    {
      "cell_type": "code",
      "source": [
        "model1 = Sequential([\n",
        "    Embedding(10000, 100, input_length=max_len),\n",
        "    Dropout(0.5),\n",
        "    Conv1D(64, 7, activation='relu'),\n",
        "    MaxPooling1D(7),\n",
        "    Conv1D(64, 5, activation='relu'),\n",
        "    MaxPooling1D(5),\n",
        "    GlobalMaxPooling1D(),\n",
        "    Dense(1, activation='sigmoid')\n",
        "])\n",
        "model1.summary()"
      ],
      "metadata": {
        "colab": {
          "base_uri": "https://localhost:8080/"
        },
        "id": "xRnD4T34B3Ho",
        "outputId": "c2abe7af-a06a-4e3b-ae6a-4f139f10c8ea"
      },
      "execution_count": 17,
      "outputs": [
        {
          "output_type": "stream",
          "name": "stdout",
          "text": [
            "Model: \"sequential_1\"\n",
            "_________________________________________________________________\n",
            " Layer (type)                Output Shape              Param #   \n",
            "=================================================================\n",
            " embedding_1 (Embedding)     (None, 500, 100)          1000000   \n",
            "                                                                 \n",
            " dropout_1 (Dropout)         (None, 500, 100)          0         \n",
            "                                                                 \n",
            " conv1d_2 (Conv1D)           (None, 494, 64)           44864     \n",
            "                                                                 \n",
            " max_pooling1d (MaxPooling1D  (None, 70, 64)           0         \n",
            " )                                                               \n",
            "                                                                 \n",
            " conv1d_3 (Conv1D)           (None, 66, 64)            20544     \n",
            "                                                                 \n",
            " max_pooling1d_1 (MaxPooling  (None, 13, 64)           0         \n",
            " 1D)                                                             \n",
            "                                                                 \n",
            " global_max_pooling1d_1 (Glo  (None, 64)               0         \n",
            " balMaxPooling1D)                                                \n",
            "                                                                 \n",
            " dense_1 (Dense)             (None, 1)                 65        \n",
            "                                                                 \n",
            "=================================================================\n",
            "Total params: 1,065,473\n",
            "Trainable params: 1,065,473\n",
            "Non-trainable params: 0\n",
            "_________________________________________________________________\n"
          ]
        }
      ]
    },
    {
      "cell_type": "code",
      "source": [
        "model1.compile('adam', 'binary_crossentropy', ['accuracy'])\n",
        "\n",
        "model_path = 'best-imdb-conv1d.h5'\n",
        "mc = ModelCheckpoint(model_path, save_best_only=True, verbose=1)\n",
        "es = EarlyStopping(patience=5)"
      ],
      "metadata": {
        "id": "YpzgQNDMCSMf"
      },
      "execution_count": 18,
      "outputs": []
    },
    {
      "cell_type": "code",
      "source": [
        "hist1 = model1.fit(\n",
        "    X_train, y_train, epochs=30, batch_size=128, validation_data=[X_valid, y_valid],\n",
        "    callbacks=[mc,es]\n",
        ")"
      ],
      "metadata": {
        "colab": {
          "base_uri": "https://localhost:8080/"
        },
        "id": "VZNhpzWTCqx5",
        "outputId": "055eec26-941d-4d67-a04f-ae4fb1f6230b"
      },
      "execution_count": 19,
      "outputs": [
        {
          "output_type": "stream",
          "name": "stdout",
          "text": [
            "Epoch 1/30\n",
            "194/196 [============================>.] - ETA: 0s - loss: 0.5301 - accuracy: 0.7132\n",
            "Epoch 00001: val_loss improved from inf to 0.36458, saving model to best-imdb-conv1d.h5\n",
            "196/196 [==============================] - 4s 17ms/step - loss: 0.5288 - accuracy: 0.7143 - val_loss: 0.3646 - val_accuracy: 0.8359\n",
            "Epoch 2/30\n",
            "193/196 [============================>.] - ETA: 0s - loss: 0.2761 - accuracy: 0.8877\n",
            "Epoch 00002: val_loss improved from 0.36458 to 0.31668, saving model to best-imdb-conv1d.h5\n",
            "196/196 [==============================] - 3s 15ms/step - loss: 0.2763 - accuracy: 0.8876 - val_loss: 0.3167 - val_accuracy: 0.8649\n",
            "Epoch 3/30\n",
            "193/196 [============================>.] - ETA: 0s - loss: 0.2035 - accuracy: 0.9205\n",
            "Epoch 00003: val_loss did not improve from 0.31668\n",
            "196/196 [==============================] - 3s 15ms/step - loss: 0.2035 - accuracy: 0.9204 - val_loss: 0.3324 - val_accuracy: 0.8623\n",
            "Epoch 4/30\n",
            "193/196 [============================>.] - ETA: 0s - loss: 0.1498 - accuracy: 0.9447\n",
            "Epoch 00004: val_loss did not improve from 0.31668\n",
            "196/196 [==============================] - 3s 15ms/step - loss: 0.1498 - accuracy: 0.9446 - val_loss: 0.3758 - val_accuracy: 0.8543\n",
            "Epoch 5/30\n",
            "193/196 [============================>.] - ETA: 0s - loss: 0.1154 - accuracy: 0.9580\n",
            "Epoch 00005: val_loss did not improve from 0.31668\n",
            "196/196 [==============================] - 3s 15ms/step - loss: 0.1155 - accuracy: 0.9580 - val_loss: 0.4219 - val_accuracy: 0.8559\n",
            "Epoch 6/30\n",
            "193/196 [============================>.] - ETA: 0s - loss: 0.0838 - accuracy: 0.9698\n",
            "Epoch 00006: val_loss did not improve from 0.31668\n",
            "196/196 [==============================] - 3s 15ms/step - loss: 0.0839 - accuracy: 0.9697 - val_loss: 0.4812 - val_accuracy: 0.8537\n",
            "Epoch 7/30\n",
            "193/196 [============================>.] - ETA: 0s - loss: 0.0624 - accuracy: 0.9791\n",
            "Epoch 00007: val_loss did not improve from 0.31668\n",
            "196/196 [==============================] - 3s 15ms/step - loss: 0.0623 - accuracy: 0.9790 - val_loss: 0.5597 - val_accuracy: 0.8478\n"
          ]
        }
      ]
    },
    {
      "cell_type": "code",
      "source": [
        "best_model = load_model(model_path)\n",
        "best_model.evaluate(X_test, y_test)"
      ],
      "metadata": {
        "colab": {
          "base_uri": "https://localhost:8080/"
        },
        "id": "5oxHn6d9D1M_",
        "outputId": "9dc13199-8176-4cfb-9bfa-3d9a14f2d6f7"
      },
      "execution_count": 20,
      "outputs": [
        {
          "output_type": "stream",
          "name": "stdout",
          "text": [
            "469/469 [==============================] - 2s 3ms/step - loss: 0.3144 - accuracy: 0.8664\n"
          ]
        },
        {
          "output_type": "execute_result",
          "data": {
            "text/plain": [
              "[0.3144266903400421, 0.8664000034332275]"
            ]
          },
          "metadata": {},
          "execution_count": 20
        }
      ]
    },
    {
      "cell_type": "markdown",
      "source": [
        "- Case 2) Conv1D + LSTM"
      ],
      "metadata": {
        "id": "MNDWPuunHzeY"
      }
    },
    {
      "cell_type": "code",
      "source": [
        "from tensorflow.keras.layers import LSTM"
      ],
      "metadata": {
        "id": "gWLnYINYH0fR"
      },
      "execution_count": 21,
      "outputs": []
    },
    {
      "cell_type": "code",
      "source": [
        "model2 = Sequential([\n",
        "    Embedding(10000, 100, input_length=max_len),\n",
        "    Dropout(0.5),\n",
        "    Conv1D(64, 5, activation='relu'),\n",
        "    MaxPooling1D(4),\n",
        "    LSTM(100),\n",
        "    Dense(1, activation='sigmoid')\n",
        "])\n",
        "model2.summary()"
      ],
      "metadata": {
        "colab": {
          "base_uri": "https://localhost:8080/"
        },
        "id": "viOkk0t-oRuY",
        "outputId": "e849d6e7-8283-496f-e83a-22c7c25d398c"
      },
      "execution_count": 22,
      "outputs": [
        {
          "output_type": "stream",
          "name": "stdout",
          "text": [
            "Model: \"sequential_2\"\n",
            "_________________________________________________________________\n",
            " Layer (type)                Output Shape              Param #   \n",
            "=================================================================\n",
            " embedding_2 (Embedding)     (None, 500, 100)          1000000   \n",
            "                                                                 \n",
            " dropout_2 (Dropout)         (None, 500, 100)          0         \n",
            "                                                                 \n",
            " conv1d_4 (Conv1D)           (None, 496, 64)           32064     \n",
            "                                                                 \n",
            " max_pooling1d_2 (MaxPooling  (None, 124, 64)          0         \n",
            " 1D)                                                             \n",
            "                                                                 \n",
            " lstm (LSTM)                 (None, 100)               66000     \n",
            "                                                                 \n",
            " dense_2 (Dense)             (None, 1)                 101       \n",
            "                                                                 \n",
            "=================================================================\n",
            "Total params: 1,098,165\n",
            "Trainable params: 1,098,165\n",
            "Non-trainable params: 0\n",
            "_________________________________________________________________\n"
          ]
        }
      ]
    },
    {
      "cell_type": "code",
      "source": [
        "model2.compile('adam', 'binary_crossentropy', ['accuracy'])\n",
        "\n",
        "model_path = 'best-imdb-conv1d-lstm.h5'\n",
        "mc = ModelCheckpoint(model_path, save_best_only=True, verbose=1)\n",
        "es = EarlyStopping(patience=5)"
      ],
      "metadata": {
        "id": "9qsUb_lCoivq"
      },
      "execution_count": 23,
      "outputs": []
    },
    {
      "cell_type": "code",
      "source": [
        "hist2 = model2.fit(\n",
        "    X_train, y_train, epochs=30, batch_size=128, validation_data=[X_valid, y_valid],\n",
        "    callbacks=[mc,es]\n",
        ")"
      ],
      "metadata": {
        "colab": {
          "base_uri": "https://localhost:8080/"
        },
        "id": "kmK0A4ZrowUy",
        "outputId": "c3f3d25c-97f8-4fda-c934-e7cd609d28b7"
      },
      "execution_count": 24,
      "outputs": [
        {
          "output_type": "stream",
          "name": "stdout",
          "text": [
            "Epoch 1/30\n",
            "195/196 [============================>.] - ETA: 0s - loss: 0.4363 - accuracy: 0.7761\n",
            "Epoch 00001: val_loss improved from inf to 0.29052, saving model to best-imdb-conv1d-lstm.h5\n",
            "196/196 [==============================] - 27s 25ms/step - loss: 0.4363 - accuracy: 0.7762 - val_loss: 0.2905 - val_accuracy: 0.8790\n",
            "Epoch 2/30\n",
            "196/196 [==============================] - ETA: 0s - loss: 0.2179 - accuracy: 0.9148\n",
            "Epoch 00002: val_loss improved from 0.29052 to 0.28820, saving model to best-imdb-conv1d-lstm.h5\n",
            "196/196 [==============================] - 5s 23ms/step - loss: 0.2179 - accuracy: 0.9148 - val_loss: 0.2882 - val_accuracy: 0.8758\n",
            "Epoch 3/30\n",
            "196/196 [==============================] - ETA: 0s - loss: 0.1633 - accuracy: 0.9405\n",
            "Epoch 00003: val_loss did not improve from 0.28820\n",
            "196/196 [==============================] - 4s 22ms/step - loss: 0.1633 - accuracy: 0.9405 - val_loss: 0.3289 - val_accuracy: 0.8781\n",
            "Epoch 4/30\n",
            "196/196 [==============================] - ETA: 0s - loss: 0.1219 - accuracy: 0.9574\n",
            "Epoch 00004: val_loss did not improve from 0.28820\n",
            "196/196 [==============================] - 4s 22ms/step - loss: 0.1219 - accuracy: 0.9574 - val_loss: 0.3325 - val_accuracy: 0.8751\n",
            "Epoch 5/30\n",
            "196/196 [==============================] - ETA: 0s - loss: 0.0988 - accuracy: 0.9666\n",
            "Epoch 00005: val_loss did not improve from 0.28820\n",
            "196/196 [==============================] - 5s 23ms/step - loss: 0.0988 - accuracy: 0.9666 - val_loss: 0.3626 - val_accuracy: 0.8741\n",
            "Epoch 6/30\n",
            "196/196 [==============================] - ETA: 0s - loss: 0.0801 - accuracy: 0.9733\n",
            "Epoch 00006: val_loss did not improve from 0.28820\n",
            "196/196 [==============================] - 5s 28ms/step - loss: 0.0801 - accuracy: 0.9733 - val_loss: 0.4116 - val_accuracy: 0.8745\n",
            "Epoch 7/30\n",
            "194/196 [============================>.] - ETA: 0s - loss: 0.0627 - accuracy: 0.9793\n",
            "Epoch 00007: val_loss did not improve from 0.28820\n",
            "196/196 [==============================] - 5s 27ms/step - loss: 0.0628 - accuracy: 0.9792 - val_loss: 0.4200 - val_accuracy: 0.8717\n"
          ]
        }
      ]
    },
    {
      "cell_type": "code",
      "source": [
        "best_model = load_model(model_path)\n",
        "best_model.evaluate(X_test, y_test)"
      ],
      "metadata": {
        "colab": {
          "base_uri": "https://localhost:8080/"
        },
        "id": "mgIsVBd5o2Ks",
        "outputId": "a88dc679-ce1b-4d3d-d8b0-65edfe698ec6"
      },
      "execution_count": 25,
      "outputs": [
        {
          "output_type": "stream",
          "name": "stdout",
          "text": [
            "469/469 [==============================] - 4s 7ms/step - loss: 0.2901 - accuracy: 0.8786\n"
          ]
        },
        {
          "output_type": "execute_result",
          "data": {
            "text/plain": [
              "[0.2900741994380951, 0.878600001335144]"
            ]
          },
          "metadata": {},
          "execution_count": 25
        }
      ]
    },
    {
      "cell_type": "markdown",
      "source": [
        "- Case 3) Conv1D + Dense"
      ],
      "metadata": {
        "id": "OZbaM1tSpFP4"
      }
    },
    {
      "cell_type": "code",
      "source": [
        "model3 = Sequential([\n",
        "    Embedding(10000, 100, input_length=max_len),\n",
        "    Dropout(0.5),\n",
        "    Conv1D(64, 5, activation='relu'),\n",
        "    MaxPooling1D(4),\n",
        "    GlobalMaxPooling1D(),\n",
        "    Dense(100, activation='relu'),\n",
        "    Dense(1, activation='sigmoid')\n",
        "])\n",
        "model3.summary()"
      ],
      "metadata": {
        "colab": {
          "base_uri": "https://localhost:8080/"
        },
        "id": "uPlT7k8splEl",
        "outputId": "c1ea385d-e0e9-4042-d5d2-18a04940585d"
      },
      "execution_count": 26,
      "outputs": [
        {
          "output_type": "stream",
          "name": "stdout",
          "text": [
            "Model: \"sequential_3\"\n",
            "_________________________________________________________________\n",
            " Layer (type)                Output Shape              Param #   \n",
            "=================================================================\n",
            " embedding_3 (Embedding)     (None, 500, 100)          1000000   \n",
            "                                                                 \n",
            " dropout_3 (Dropout)         (None, 500, 100)          0         \n",
            "                                                                 \n",
            " conv1d_5 (Conv1D)           (None, 496, 64)           32064     \n",
            "                                                                 \n",
            " max_pooling1d_3 (MaxPooling  (None, 124, 64)          0         \n",
            " 1D)                                                             \n",
            "                                                                 \n",
            " global_max_pooling1d_2 (Glo  (None, 64)               0         \n",
            " balMaxPooling1D)                                                \n",
            "                                                                 \n",
            " dense_3 (Dense)             (None, 100)               6500      \n",
            "                                                                 \n",
            " dense_4 (Dense)             (None, 1)                 101       \n",
            "                                                                 \n",
            "=================================================================\n",
            "Total params: 1,038,665\n",
            "Trainable params: 1,038,665\n",
            "Non-trainable params: 0\n",
            "_________________________________________________________________\n"
          ]
        }
      ]
    },
    {
      "cell_type": "code",
      "source": [
        "model3.compile('adam', 'binary_crossentropy', ['accuracy'])\n",
        "\n",
        "model_path = 'best-imdb-conv1d-fcn.h5'\n",
        "mc = ModelCheckpoint(model_path, save_best_only=True, verbose=1)\n",
        "es = EarlyStopping(patience=5)"
      ],
      "metadata": {
        "id": "CYvxIe-Np9A1"
      },
      "execution_count": 28,
      "outputs": []
    },
    {
      "cell_type": "code",
      "source": [
        "hist3 = model3.fit(\n",
        "    X_train, y_train, epochs=30, batch_size=128, validation_data=[X_valid, y_valid],\n",
        "    callbacks=[mc,es]\n",
        ")"
      ],
      "metadata": {
        "colab": {
          "base_uri": "https://localhost:8080/"
        },
        "id": "gLD5_72_qLiG",
        "outputId": "78172bf9-2728-4b88-e894-89baadea94d5"
      },
      "execution_count": 29,
      "outputs": [
        {
          "output_type": "stream",
          "name": "stdout",
          "text": [
            "Epoch 1/30\n",
            "192/196 [============================>.] - ETA: 0s - loss: 0.5608 - accuracy: 0.6930\n",
            "Epoch 00001: val_loss improved from inf to 0.35085, saving model to best-imdb-conv1d-fcn.h5\n",
            "196/196 [==============================] - 4s 15ms/step - loss: 0.5584 - accuracy: 0.6944 - val_loss: 0.3509 - val_accuracy: 0.8477\n",
            "Epoch 2/30\n",
            "192/196 [============================>.] - ETA: 0s - loss: 0.2909 - accuracy: 0.8758\n",
            "Epoch 00002: val_loss improved from 0.35085 to 0.26982, saving model to best-imdb-conv1d-fcn.h5\n",
            "196/196 [==============================] - 3s 14ms/step - loss: 0.2911 - accuracy: 0.8760 - val_loss: 0.2698 - val_accuracy: 0.8853\n",
            "Epoch 3/30\n",
            "192/196 [============================>.] - ETA: 0s - loss: 0.1989 - accuracy: 0.9222\n",
            "Epoch 00003: val_loss improved from 0.26982 to 0.25932, saving model to best-imdb-conv1d-fcn.h5\n",
            "196/196 [==============================] - 3s 14ms/step - loss: 0.1994 - accuracy: 0.9222 - val_loss: 0.2593 - val_accuracy: 0.8966\n",
            "Epoch 4/30\n",
            "194/196 [============================>.] - ETA: 0s - loss: 0.1475 - accuracy: 0.9450\n",
            "Epoch 00004: val_loss did not improve from 0.25932\n",
            "196/196 [==============================] - 3s 14ms/step - loss: 0.1472 - accuracy: 0.9451 - val_loss: 0.2649 - val_accuracy: 0.8925\n",
            "Epoch 5/30\n",
            "193/196 [============================>.] - ETA: 0s - loss: 0.1113 - accuracy: 0.9604\n",
            "Epoch 00005: val_loss did not improve from 0.25932\n",
            "196/196 [==============================] - 3s 14ms/step - loss: 0.1112 - accuracy: 0.9605 - val_loss: 0.2999 - val_accuracy: 0.8891\n",
            "Epoch 6/30\n",
            "195/196 [============================>.] - ETA: 0s - loss: 0.0785 - accuracy: 0.9729\n",
            "Epoch 00006: val_loss did not improve from 0.25932\n",
            "196/196 [==============================] - 3s 14ms/step - loss: 0.0786 - accuracy: 0.9728 - val_loss: 0.3082 - val_accuracy: 0.8896\n",
            "Epoch 7/30\n",
            "196/196 [==============================] - ETA: 0s - loss: 0.0587 - accuracy: 0.9798\n",
            "Epoch 00007: val_loss did not improve from 0.25932\n",
            "196/196 [==============================] - 3s 14ms/step - loss: 0.0587 - accuracy: 0.9798 - val_loss: 0.3378 - val_accuracy: 0.8883\n",
            "Epoch 8/30\n",
            "194/196 [============================>.] - ETA: 0s - loss: 0.0438 - accuracy: 0.9855\n",
            "Epoch 00008: val_loss did not improve from 0.25932\n",
            "196/196 [==============================] - 3s 14ms/step - loss: 0.0442 - accuracy: 0.9854 - val_loss: 0.3647 - val_accuracy: 0.8914\n"
          ]
        }
      ]
    },
    {
      "cell_type": "code",
      "source": [
        "best_model = load_model(model_path)\n",
        "best_model.evaluate(X_test, y_test)"
      ],
      "metadata": {
        "colab": {
          "base_uri": "https://localhost:8080/"
        },
        "id": "lPnTN11kqcSP",
        "outputId": "5bd81041-f458-4b67-a33a-5a830d24bda4"
      },
      "execution_count": 30,
      "outputs": [
        {
          "output_type": "stream",
          "name": "stdout",
          "text": [
            "469/469 [==============================] - 2s 3ms/step - loss: 0.2623 - accuracy: 0.8931\n"
          ]
        },
        {
          "output_type": "execute_result",
          "data": {
            "text/plain": [
              "[0.26226556301116943, 0.8931333422660828]"
            ]
          },
          "metadata": {},
          "execution_count": 30
        }
      ]
    },
    {
      "cell_type": "code",
      "source": [
        ""
      ],
      "metadata": {
        "id": "tVZRkuBMqe2M"
      },
      "execution_count": null,
      "outputs": []
    }
  ]
}