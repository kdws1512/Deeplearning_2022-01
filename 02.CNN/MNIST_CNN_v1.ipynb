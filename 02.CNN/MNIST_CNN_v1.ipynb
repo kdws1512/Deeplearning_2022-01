{
  "nbformat": 4,
  "nbformat_minor": 0,
  "metadata": {
    "colab": {
      "name": "MNIST-CNN-v1.ipynb",
      "provenance": []
    },
    "kernelspec": {
      "name": "python3",
      "display_name": "Python 3"
    },
    "language_info": {
      "name": "python"
    },
    "accelerator": "GPU"
  },
  "cells": [
    {
      "cell_type": "markdown",
      "source": [
        "# MNIST 손글씨 - CNN v1\n",
        " - 2 Conv2D layers\n",
        " - 1 Fully Connected Network layer\n",
        " - 1 Output layer"
      ],
      "metadata": {
        "id": "1Gh_sItUoSZn"
      }
    },
    {
      "cell_type": "code",
      "source": [
        "import numpy as np\n",
        "import tensorflow as tf\n",
        "seed = 2022\n",
        "np.random.seed(seed)\n",
        "tf.random.set_seed(seed)"
      ],
      "metadata": {
        "id": "YPHgtWvvoo8v"
      },
      "execution_count": 1,
      "outputs": []
    },
    {
      "cell_type": "markdown",
      "source": [
        "- 데이터 전처리"
      ],
      "metadata": {
        "id": "FqP0jQY0oz0Z"
      }
    },
    {
      "cell_type": "code",
      "source": [
        "from tensorflow.keras.datasets import mnist\n",
        "(X_train, y_train), (X_test, y_test) = mnist.load_data()"
      ],
      "metadata": {
        "colab": {
          "base_uri": "https://localhost:8080/"
        },
        "id": "v2gCDFono14R",
        "outputId": "15f9bf67-3e28-463c-c755-869b74f71888"
      },
      "execution_count": 2,
      "outputs": [
        {
          "output_type": "stream",
          "name": "stdout",
          "text": [
            "Downloading data from https://storage.googleapis.com/tensorflow/tf-keras-datasets/mnist.npz\n",
            "11493376/11490434 [==============================] - 0s 0us/step\n",
            "11501568/11490434 [==============================] - 0s 0us/step\n"
          ]
        }
      ]
    },
    {
      "cell_type": "code",
      "source": [
        "X_train = X_train.reshape(-1,28,28,1) / 255.\n",
        "X_test = X_test.reshape(-1,28,28,1) / 255."
      ],
      "metadata": {
        "id": "_eABYGXdpFKq"
      },
      "execution_count": 3,
      "outputs": []
    },
    {
      "cell_type": "code",
      "source": [
        "from tensorflow.keras.utils import to_categorical\n",
        "Y_train = to_categorical(y_train)\n",
        "Y_test = to_categorical(y_test)"
      ],
      "metadata": {
        "id": "-2lFdQscpZU8"
      },
      "execution_count": 4,
      "outputs": []
    },
    {
      "cell_type": "markdown",
      "source": [
        "- 모델 정의,설정,학습,평가"
      ],
      "metadata": {
        "id": "VK14DDZwqFfz"
      }
    },
    {
      "cell_type": "code",
      "source": [
        "from tensorflow.keras.models import Sequential, load_model\n",
        "from tensorflow.keras.layers import Dense, Conv2D, Flatten\n",
        "from tensorflow.keras.callbacks import ModelCheckpoint, EarlyStopping"
      ],
      "metadata": {
        "id": "JiTGy6ctqJ6F"
      },
      "execution_count": 5,
      "outputs": []
    },
    {
      "cell_type": "code",
      "source": [
        "model = Sequential([\n",
        "    Conv2D(32, kernel_size=(3,3), input_shape=(28,28,1), activation='relu'),\n",
        "    Conv2D(64, (3,3), activation='relu'),\n",
        "    Flatten(),\n",
        "    Dense(512, activation='relu'),\n",
        "    Dense(10, activation='softmax')\n",
        "])\n",
        "model.summary()"
      ],
      "metadata": {
        "colab": {
          "base_uri": "https://localhost:8080/"
        },
        "id": "AsKo9xnoqjk5",
        "outputId": "97680ed3-1d3b-485a-ad30-777f48250b11"
      },
      "execution_count": 6,
      "outputs": [
        {
          "output_type": "stream",
          "name": "stdout",
          "text": [
            "Model: \"sequential\"\n",
            "_________________________________________________________________\n",
            " Layer (type)                Output Shape              Param #   \n",
            "=================================================================\n",
            " conv2d (Conv2D)             (None, 26, 26, 32)        320       \n",
            "                                                                 \n",
            " conv2d_1 (Conv2D)           (None, 24, 24, 64)        18496     \n",
            "                                                                 \n",
            " flatten (Flatten)           (None, 36864)             0         \n",
            "                                                                 \n",
            " dense (Dense)               (None, 512)               18874880  \n",
            "                                                                 \n",
            " dense_1 (Dense)             (None, 10)                5130      \n",
            "                                                                 \n",
            "=================================================================\n",
            "Total params: 18,898,826\n",
            "Trainable params: 18,898,826\n",
            "Non-trainable params: 0\n",
            "_________________________________________________________________\n"
          ]
        }
      ]
    },
    {
      "cell_type": "code",
      "source": [
        "model.compile(optimizer='adam', loss='categorical_crossentropy', metrics=['accuracy'])"
      ],
      "metadata": {
        "id": "Hj25akKprhkI"
      },
      "execution_count": 7,
      "outputs": []
    },
    {
      "cell_type": "code",
      "source": [
        "model_path = 'best-mnist-cnn-v1.h5'\n",
        "checkpoint = ModelCheckpoint(model_path, save_best_only=True, verbose=1)\n",
        "early_stop = EarlyStopping(patience=10)"
      ],
      "metadata": {
        "id": "ejKGQsi_sqi4"
      },
      "execution_count": 8,
      "outputs": []
    },
    {
      "cell_type": "code",
      "source": [
        "hist = model.fit(\n",
        "    X_train, Y_train, validation_split=0.2, epochs=100, batch_size=200,\n",
        "    callbacks=[checkpoint, early_stop]\n",
        ")"
      ],
      "metadata": {
        "colab": {
          "base_uri": "https://localhost:8080/"
        },
        "id": "ox1EFH9Xs31i",
        "outputId": "2991cddf-89ec-48b6-e306-86bbfae10ecb"
      },
      "execution_count": 9,
      "outputs": [
        {
          "output_type": "stream",
          "name": "stdout",
          "text": [
            "Epoch 1/100\n",
            "240/240 [==============================] - ETA: 0s - loss: 0.1521 - accuracy: 0.9532\n",
            "Epoch 00001: val_loss improved from inf to 0.05625, saving model to best-mnist-cnn-v1.h5\n",
            "240/240 [==============================] - 21s 51ms/step - loss: 0.1521 - accuracy: 0.9532 - val_loss: 0.0563 - val_accuracy: 0.9835\n",
            "Epoch 2/100\n",
            "240/240 [==============================] - ETA: 0s - loss: 0.0357 - accuracy: 0.9891\n",
            "Epoch 00002: val_loss improved from 0.05625 to 0.05280, saving model to best-mnist-cnn-v1.h5\n",
            "240/240 [==============================] - 12s 50ms/step - loss: 0.0357 - accuracy: 0.9891 - val_loss: 0.0528 - val_accuracy: 0.9858\n",
            "Epoch 3/100\n",
            "240/240 [==============================] - ETA: 0s - loss: 0.0172 - accuracy: 0.9948\n",
            "Epoch 00003: val_loss improved from 0.05280 to 0.04599, saving model to best-mnist-cnn-v1.h5\n",
            "240/240 [==============================] - 11s 48ms/step - loss: 0.0172 - accuracy: 0.9948 - val_loss: 0.0460 - val_accuracy: 0.9874\n",
            "Epoch 4/100\n",
            "239/240 [============================>.] - ETA: 0s - loss: 0.0102 - accuracy: 0.9968\n",
            "Epoch 00004: val_loss did not improve from 0.04599\n",
            "240/240 [==============================] - 11s 46ms/step - loss: 0.0102 - accuracy: 0.9968 - val_loss: 0.0509 - val_accuracy: 0.9866\n",
            "Epoch 5/100\n",
            "239/240 [============================>.] - ETA: 0s - loss: 0.0071 - accuracy: 0.9977\n",
            "Epoch 00005: val_loss did not improve from 0.04599\n",
            "240/240 [==============================] - 11s 47ms/step - loss: 0.0071 - accuracy: 0.9977 - val_loss: 0.0574 - val_accuracy: 0.9863\n",
            "Epoch 6/100\n",
            "240/240 [==============================] - ETA: 0s - loss: 0.0059 - accuracy: 0.9981\n",
            "Epoch 00006: val_loss did not improve from 0.04599\n",
            "240/240 [==============================] - 11s 47ms/step - loss: 0.0059 - accuracy: 0.9981 - val_loss: 0.0510 - val_accuracy: 0.9872\n",
            "Epoch 7/100\n",
            "239/240 [============================>.] - ETA: 0s - loss: 0.0057 - accuracy: 0.9980\n",
            "Epoch 00007: val_loss did not improve from 0.04599\n",
            "240/240 [==============================] - 11s 47ms/step - loss: 0.0057 - accuracy: 0.9980 - val_loss: 0.0542 - val_accuracy: 0.9881\n",
            "Epoch 8/100\n",
            "239/240 [============================>.] - ETA: 0s - loss: 0.0052 - accuracy: 0.9983\n",
            "Epoch 00008: val_loss did not improve from 0.04599\n",
            "240/240 [==============================] - 11s 48ms/step - loss: 0.0052 - accuracy: 0.9983 - val_loss: 0.0588 - val_accuracy: 0.9862\n",
            "Epoch 9/100\n",
            "240/240 [==============================] - ETA: 0s - loss: 0.0029 - accuracy: 0.9991\n",
            "Epoch 00009: val_loss did not improve from 0.04599\n",
            "240/240 [==============================] - 11s 47ms/step - loss: 0.0029 - accuracy: 0.9991 - val_loss: 0.0506 - val_accuracy: 0.9898\n",
            "Epoch 10/100\n",
            "239/240 [============================>.] - ETA: 0s - loss: 0.0016 - accuracy: 0.9996\n",
            "Epoch 00010: val_loss did not improve from 0.04599\n",
            "240/240 [==============================] - 11s 47ms/step - loss: 0.0016 - accuracy: 0.9996 - val_loss: 0.0588 - val_accuracy: 0.9898\n",
            "Epoch 11/100\n",
            "239/240 [============================>.] - ETA: 0s - loss: 0.0028 - accuracy: 0.9991\n",
            "Epoch 00011: val_loss did not improve from 0.04599\n",
            "240/240 [==============================] - 11s 45ms/step - loss: 0.0028 - accuracy: 0.9991 - val_loss: 0.0693 - val_accuracy: 0.9855\n",
            "Epoch 12/100\n",
            "239/240 [============================>.] - ETA: 0s - loss: 0.0041 - accuracy: 0.9987\n",
            "Epoch 00012: val_loss did not improve from 0.04599\n",
            "240/240 [==============================] - 11s 47ms/step - loss: 0.0041 - accuracy: 0.9987 - val_loss: 0.0593 - val_accuracy: 0.9884\n",
            "Epoch 13/100\n",
            "240/240 [==============================] - ETA: 0s - loss: 0.0024 - accuracy: 0.9993\n",
            "Epoch 00013: val_loss did not improve from 0.04599\n",
            "240/240 [==============================] - 11s 47ms/step - loss: 0.0024 - accuracy: 0.9993 - val_loss: 0.0643 - val_accuracy: 0.9864\n"
          ]
        }
      ]
    },
    {
      "cell_type": "code",
      "source": [
        "best_model = load_model(model_path)\n",
        "best_model.evaluate(X_test, Y_test)"
      ],
      "metadata": {
        "colab": {
          "base_uri": "https://localhost:8080/"
        },
        "id": "aLxuOTwdtiSZ",
        "outputId": "4dd635f6-7384-4b28-bc92-9bb8acc4a07f"
      },
      "execution_count": 11,
      "outputs": [
        {
          "output_type": "stream",
          "name": "stdout",
          "text": [
            "313/313 [==============================] - 3s 8ms/step - loss: 0.0422 - accuracy: 0.9875\n"
          ]
        },
        {
          "output_type": "execute_result",
          "data": {
            "text/plain": [
              "[0.0422058179974556, 0.987500011920929]"
            ]
          },
          "metadata": {},
          "execution_count": 11
        }
      ]
    },
    {
      "cell_type": "code",
      "source": [
        ""
      ],
      "metadata": {
        "id": "yBVsFk42vmXr"
      },
      "execution_count": null,
      "outputs": []
    }
  ]
}