{
  "nbformat": 4,
  "nbformat_minor": 0,
  "metadata": {
    "colab": {
      "name": "MNIST_CNN_v4.ipynb",
      "provenance": [],
      "collapsed_sections": []
    },
    "kernelspec": {
      "name": "python3",
      "display_name": "Python 3"
    },
    "language_info": {
      "name": "python"
    },
    "accelerator": "GPU"
  },
  "cells": [
    {
      "cell_type": "markdown",
      "source": [
        "# MNIST 손글씨 - CNN v4\n",
        " - 2 Conv2D layers ==> 2 Conv2D with padding layers\n",
        " - 1 MaxPlling2D layer\n",
        " - 1 Dropout(0.25) layer\n",
        " - 1 Fully Connected Network layer\n",
        " - 1 Dropout(0.5) layer\n",
        " - 1 Output layer"
      ],
      "metadata": {
        "id": "1Gh_sItUoSZn"
      }
    },
    {
      "cell_type": "code",
      "source": [
        "import numpy as np\n",
        "import tensorflow as tf\n",
        "seed = 2022\n",
        "np.random.seed(seed)\n",
        "tf.random.set_seed(seed)"
      ],
      "metadata": {
        "id": "YPHgtWvvoo8v"
      },
      "execution_count": 1,
      "outputs": []
    },
    {
      "cell_type": "markdown",
      "source": [
        "- 데이터 전처리"
      ],
      "metadata": {
        "id": "FqP0jQY0oz0Z"
      }
    },
    {
      "cell_type": "code",
      "source": [
        "from tensorflow.keras.datasets import mnist\n",
        "(X_train, y_train), (X_test, y_test) = mnist.load_data()"
      ],
      "metadata": {
        "colab": {
          "base_uri": "https://localhost:8080/"
        },
        "id": "v2gCDFono14R",
        "outputId": "ecc979ce-6a0d-496b-a46f-1a0c5bd70aa6"
      },
      "execution_count": 2,
      "outputs": [
        {
          "output_type": "stream",
          "name": "stdout",
          "text": [
            "Downloading data from https://storage.googleapis.com/tensorflow/tf-keras-datasets/mnist.npz\n",
            "11493376/11490434 [==============================] - 0s 0us/step\n",
            "11501568/11490434 [==============================] - 0s 0us/step\n"
          ]
        }
      ]
    },
    {
      "cell_type": "code",
      "source": [
        "X_train = X_train.reshape(-1,28,28,1) / 255.\n",
        "X_test = X_test.reshape(-1,28,28,1) / 255."
      ],
      "metadata": {
        "id": "_eABYGXdpFKq"
      },
      "execution_count": 3,
      "outputs": []
    },
    {
      "cell_type": "code",
      "source": [
        "from tensorflow.keras.utils import to_categorical\n",
        "Y_train = to_categorical(y_train)\n",
        "Y_test = to_categorical(y_test)"
      ],
      "metadata": {
        "id": "-2lFdQscpZU8"
      },
      "execution_count": 4,
      "outputs": []
    },
    {
      "cell_type": "markdown",
      "source": [
        "- 모델 정의,설정,학습,평가"
      ],
      "metadata": {
        "id": "VK14DDZwqFfz"
      }
    },
    {
      "cell_type": "code",
      "source": [
        "from tensorflow.keras.models import Sequential, load_model\n",
        "from tensorflow.keras.layers import Dense, Conv2D, Flatten, MaxPooling2D\n",
        "from tensorflow.keras.layers import Dropout\n",
        "from tensorflow.keras.callbacks import ModelCheckpoint, EarlyStopping"
      ],
      "metadata": {
        "id": "JiTGy6ctqJ6F"
      },
      "execution_count": 5,
      "outputs": []
    },
    {
      "cell_type": "code",
      "source": [
        "model = Sequential([\n",
        "    Conv2D(32, kernel_size=(3,3), padding='same', input_shape=(28,28,1), activation='relu'),\n",
        "    Conv2D(64, (3,3), padding='same', activation='relu'),\n",
        "    MaxPooling2D(),\n",
        "    Dropout(0.25),\n",
        "    Flatten(),\n",
        "    Dense(512, activation='relu'),\n",
        "    Dropout(0.5),\n",
        "    Dense(10, activation='softmax')\n",
        "])\n",
        "model.summary()"
      ],
      "metadata": {
        "colab": {
          "base_uri": "https://localhost:8080/"
        },
        "id": "AsKo9xnoqjk5",
        "outputId": "789220b7-9497-4d8c-b861-6a5e6dd82688"
      },
      "execution_count": 6,
      "outputs": [
        {
          "output_type": "stream",
          "name": "stdout",
          "text": [
            "Model: \"sequential\"\n",
            "_________________________________________________________________\n",
            " Layer (type)                Output Shape              Param #   \n",
            "=================================================================\n",
            " conv2d (Conv2D)             (None, 28, 28, 32)        320       \n",
            "                                                                 \n",
            " conv2d_1 (Conv2D)           (None, 28, 28, 64)        18496     \n",
            "                                                                 \n",
            " max_pooling2d (MaxPooling2D  (None, 14, 14, 64)       0         \n",
            " )                                                               \n",
            "                                                                 \n",
            " dropout (Dropout)           (None, 14, 14, 64)        0         \n",
            "                                                                 \n",
            " flatten (Flatten)           (None, 12544)             0         \n",
            "                                                                 \n",
            " dense (Dense)               (None, 512)               6423040   \n",
            "                                                                 \n",
            " dropout_1 (Dropout)         (None, 512)               0         \n",
            "                                                                 \n",
            " dense_1 (Dense)             (None, 10)                5130      \n",
            "                                                                 \n",
            "=================================================================\n",
            "Total params: 6,446,986\n",
            "Trainable params: 6,446,986\n",
            "Non-trainable params: 0\n",
            "_________________________________________________________________\n"
          ]
        }
      ]
    },
    {
      "cell_type": "code",
      "source": [
        "model.compile(optimizer='adam', loss='categorical_crossentropy', metrics=['accuracy'])"
      ],
      "metadata": {
        "id": "Hj25akKprhkI"
      },
      "execution_count": 7,
      "outputs": []
    },
    {
      "cell_type": "code",
      "source": [
        "model_path = 'best-mnist-cnn-v4.h5'\n",
        "checkpoint = ModelCheckpoint(model_path, save_best_only=True, verbose=1)\n",
        "early_stop = EarlyStopping(patience=10)"
      ],
      "metadata": {
        "id": "ejKGQsi_sqi4"
      },
      "execution_count": 8,
      "outputs": []
    },
    {
      "cell_type": "code",
      "source": [
        "hist = model.fit(\n",
        "    X_train, Y_train, validation_split=0.2, epochs=100, batch_size=200,\n",
        "    callbacks=[checkpoint, early_stop], verbose=0\n",
        ")"
      ],
      "metadata": {
        "colab": {
          "base_uri": "https://localhost:8080/"
        },
        "id": "ox1EFH9Xs31i",
        "outputId": "2ad6e58d-f60f-4506-99de-b1fefdeefda6"
      },
      "execution_count": 9,
      "outputs": [
        {
          "output_type": "stream",
          "name": "stdout",
          "text": [
            "\n",
            "Epoch 00001: val_loss improved from inf to 0.05741, saving model to best-mnist-cnn-v4.h5\n",
            "\n",
            "Epoch 00002: val_loss improved from 0.05741 to 0.04788, saving model to best-mnist-cnn-v4.h5\n",
            "\n",
            "Epoch 00003: val_loss improved from 0.04788 to 0.04248, saving model to best-mnist-cnn-v4.h5\n",
            "\n",
            "Epoch 00004: val_loss improved from 0.04248 to 0.03753, saving model to best-mnist-cnn-v4.h5\n",
            "\n",
            "Epoch 00005: val_loss did not improve from 0.03753\n",
            "\n",
            "Epoch 00006: val_loss improved from 0.03753 to 0.03546, saving model to best-mnist-cnn-v4.h5\n",
            "\n",
            "Epoch 00007: val_loss did not improve from 0.03546\n",
            "\n",
            "Epoch 00008: val_loss improved from 0.03546 to 0.03486, saving model to best-mnist-cnn-v4.h5\n",
            "\n",
            "Epoch 00009: val_loss improved from 0.03486 to 0.03482, saving model to best-mnist-cnn-v4.h5\n",
            "\n",
            "Epoch 00010: val_loss did not improve from 0.03482\n",
            "\n",
            "Epoch 00011: val_loss did not improve from 0.03482\n",
            "\n",
            "Epoch 00012: val_loss did not improve from 0.03482\n",
            "\n",
            "Epoch 00013: val_loss did not improve from 0.03482\n",
            "\n",
            "Epoch 00014: val_loss did not improve from 0.03482\n",
            "\n",
            "Epoch 00015: val_loss did not improve from 0.03482\n",
            "\n",
            "Epoch 00016: val_loss did not improve from 0.03482\n",
            "\n",
            "Epoch 00017: val_loss improved from 0.03482 to 0.03366, saving model to best-mnist-cnn-v4.h5\n",
            "\n",
            "Epoch 00018: val_loss did not improve from 0.03366\n",
            "\n",
            "Epoch 00019: val_loss did not improve from 0.03366\n",
            "\n",
            "Epoch 00020: val_loss did not improve from 0.03366\n",
            "\n",
            "Epoch 00021: val_loss did not improve from 0.03366\n",
            "\n",
            "Epoch 00022: val_loss did not improve from 0.03366\n",
            "\n",
            "Epoch 00023: val_loss did not improve from 0.03366\n",
            "\n",
            "Epoch 00024: val_loss did not improve from 0.03366\n",
            "\n",
            "Epoch 00025: val_loss did not improve from 0.03366\n",
            "\n",
            "Epoch 00026: val_loss did not improve from 0.03366\n",
            "\n",
            "Epoch 00027: val_loss did not improve from 0.03366\n"
          ]
        }
      ]
    },
    {
      "cell_type": "code",
      "source": [
        "best_model = load_model(model_path)\n",
        "best_model.evaluate(X_test, Y_test)"
      ],
      "metadata": {
        "colab": {
          "base_uri": "https://localhost:8080/"
        },
        "id": "aLxuOTwdtiSZ",
        "outputId": "33b61081-f918-446b-c896-91e587bc131e"
      },
      "execution_count": 10,
      "outputs": [
        {
          "output_type": "stream",
          "name": "stdout",
          "text": [
            "313/313 [==============================] - 2s 6ms/step - loss: 0.0303 - accuracy: 0.9906\n"
          ]
        },
        {
          "output_type": "execute_result",
          "data": {
            "text/plain": [
              "[0.030336681753396988, 0.9905999898910522]"
            ]
          },
          "metadata": {},
          "execution_count": 10
        }
      ]
    },
    {
      "cell_type": "code",
      "source": [
        ""
      ],
      "metadata": {
        "id": "o6WJDCxo9A76"
      },
      "execution_count": null,
      "outputs": []
    }
  ]
}