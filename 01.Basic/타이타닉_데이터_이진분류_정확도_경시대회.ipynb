{
  "nbformat": 4,
  "nbformat_minor": 0,
  "metadata": {
    "colab": {
      "name": "타이타닉 데이터 이진분류 정확도 경시대회.ipynb",
      "provenance": [],
      "collapsed_sections": []
    },
    "kernelspec": {
      "name": "python3",
      "display_name": "Python 3"
    },
    "language_info": {
      "name": "python"
    }
  },
  "cells": [
    {
      "cell_type": "markdown",
      "source": [
        "# 타이타닉 데이터 이진분류 정확도 경시대회\n",
        "\n",
        "    - Seaborn titanic data: 전처리는 ML에서 했던대로 할 것\n",
        "    - random seed = 2022\n",
        "    - train_test_split : test_size=0.2\n",
        "    - validation_split = 0.2\n",
        "신경망을 사용해서 정확도를 도출\n",
        "\n",
        "모델 정의/설정/실행 --> 임의로 결정\n",
        "\n",
        "\n",
        "파일이름: 이름0.8934html"
      ],
      "metadata": {
        "id": "rPFmJflDp0nC"
      }
    },
    {
      "cell_type": "code",
      "execution_count": 1,
      "metadata": {
        "id": "dn8N_6uQpzkF"
      },
      "outputs": [],
      "source": [
        "import numpy as np\n",
        "import pandas as pd\n",
        "import seaborn as sns\n",
        "import tensorflow as tf\n",
        "seed = 2022\n",
        "np.random.seed(seed)\n",
        "tf.random.set_seed(seed)"
      ]
    },
    {
      "cell_type": "code",
      "source": [
        "df = sns.load_dataset('titanic')\n",
        "df.head()"
      ],
      "metadata": {
        "colab": {
          "base_uri": "https://localhost:8080/",
          "height": 206
        },
        "id": "XaplzzwwqECl",
        "outputId": "b395b50a-7f91-49a6-bfef-51cf1fba484b"
      },
      "execution_count": 2,
      "outputs": [
        {
          "output_type": "execute_result",
          "data": {
            "text/html": [
              "\n",
              "  <div id=\"df-2d140f62-054f-4c09-bff1-09ae7605f8d7\">\n",
              "    <div class=\"colab-df-container\">\n",
              "      <div>\n",
              "<style scoped>\n",
              "    .dataframe tbody tr th:only-of-type {\n",
              "        vertical-align: middle;\n",
              "    }\n",
              "\n",
              "    .dataframe tbody tr th {\n",
              "        vertical-align: top;\n",
              "    }\n",
              "\n",
              "    .dataframe thead th {\n",
              "        text-align: right;\n",
              "    }\n",
              "</style>\n",
              "<table border=\"1\" class=\"dataframe\">\n",
              "  <thead>\n",
              "    <tr style=\"text-align: right;\">\n",
              "      <th></th>\n",
              "      <th>survived</th>\n",
              "      <th>pclass</th>\n",
              "      <th>sex</th>\n",
              "      <th>age</th>\n",
              "      <th>sibsp</th>\n",
              "      <th>parch</th>\n",
              "      <th>fare</th>\n",
              "      <th>embarked</th>\n",
              "      <th>class</th>\n",
              "      <th>who</th>\n",
              "      <th>adult_male</th>\n",
              "      <th>deck</th>\n",
              "      <th>embark_town</th>\n",
              "      <th>alive</th>\n",
              "      <th>alone</th>\n",
              "    </tr>\n",
              "  </thead>\n",
              "  <tbody>\n",
              "    <tr>\n",
              "      <th>0</th>\n",
              "      <td>0</td>\n",
              "      <td>3</td>\n",
              "      <td>male</td>\n",
              "      <td>22.0</td>\n",
              "      <td>1</td>\n",
              "      <td>0</td>\n",
              "      <td>7.2500</td>\n",
              "      <td>S</td>\n",
              "      <td>Third</td>\n",
              "      <td>man</td>\n",
              "      <td>True</td>\n",
              "      <td>NaN</td>\n",
              "      <td>Southampton</td>\n",
              "      <td>no</td>\n",
              "      <td>False</td>\n",
              "    </tr>\n",
              "    <tr>\n",
              "      <th>1</th>\n",
              "      <td>1</td>\n",
              "      <td>1</td>\n",
              "      <td>female</td>\n",
              "      <td>38.0</td>\n",
              "      <td>1</td>\n",
              "      <td>0</td>\n",
              "      <td>71.2833</td>\n",
              "      <td>C</td>\n",
              "      <td>First</td>\n",
              "      <td>woman</td>\n",
              "      <td>False</td>\n",
              "      <td>C</td>\n",
              "      <td>Cherbourg</td>\n",
              "      <td>yes</td>\n",
              "      <td>False</td>\n",
              "    </tr>\n",
              "    <tr>\n",
              "      <th>2</th>\n",
              "      <td>1</td>\n",
              "      <td>3</td>\n",
              "      <td>female</td>\n",
              "      <td>26.0</td>\n",
              "      <td>0</td>\n",
              "      <td>0</td>\n",
              "      <td>7.9250</td>\n",
              "      <td>S</td>\n",
              "      <td>Third</td>\n",
              "      <td>woman</td>\n",
              "      <td>False</td>\n",
              "      <td>NaN</td>\n",
              "      <td>Southampton</td>\n",
              "      <td>yes</td>\n",
              "      <td>True</td>\n",
              "    </tr>\n",
              "    <tr>\n",
              "      <th>3</th>\n",
              "      <td>1</td>\n",
              "      <td>1</td>\n",
              "      <td>female</td>\n",
              "      <td>35.0</td>\n",
              "      <td>1</td>\n",
              "      <td>0</td>\n",
              "      <td>53.1000</td>\n",
              "      <td>S</td>\n",
              "      <td>First</td>\n",
              "      <td>woman</td>\n",
              "      <td>False</td>\n",
              "      <td>C</td>\n",
              "      <td>Southampton</td>\n",
              "      <td>yes</td>\n",
              "      <td>False</td>\n",
              "    </tr>\n",
              "    <tr>\n",
              "      <th>4</th>\n",
              "      <td>0</td>\n",
              "      <td>3</td>\n",
              "      <td>male</td>\n",
              "      <td>35.0</td>\n",
              "      <td>0</td>\n",
              "      <td>0</td>\n",
              "      <td>8.0500</td>\n",
              "      <td>S</td>\n",
              "      <td>Third</td>\n",
              "      <td>man</td>\n",
              "      <td>True</td>\n",
              "      <td>NaN</td>\n",
              "      <td>Southampton</td>\n",
              "      <td>no</td>\n",
              "      <td>True</td>\n",
              "    </tr>\n",
              "  </tbody>\n",
              "</table>\n",
              "</div>\n",
              "      <button class=\"colab-df-convert\" onclick=\"convertToInteractive('df-2d140f62-054f-4c09-bff1-09ae7605f8d7')\"\n",
              "              title=\"Convert this dataframe to an interactive table.\"\n",
              "              style=\"display:none;\">\n",
              "        \n",
              "  <svg xmlns=\"http://www.w3.org/2000/svg\" height=\"24px\"viewBox=\"0 0 24 24\"\n",
              "       width=\"24px\">\n",
              "    <path d=\"M0 0h24v24H0V0z\" fill=\"none\"/>\n",
              "    <path d=\"M18.56 5.44l.94 2.06.94-2.06 2.06-.94-2.06-.94-.94-2.06-.94 2.06-2.06.94zm-11 1L8.5 8.5l.94-2.06 2.06-.94-2.06-.94L8.5 2.5l-.94 2.06-2.06.94zm10 10l.94 2.06.94-2.06 2.06-.94-2.06-.94-.94-2.06-.94 2.06-2.06.94z\"/><path d=\"M17.41 7.96l-1.37-1.37c-.4-.4-.92-.59-1.43-.59-.52 0-1.04.2-1.43.59L10.3 9.45l-7.72 7.72c-.78.78-.78 2.05 0 2.83L4 21.41c.39.39.9.59 1.41.59.51 0 1.02-.2 1.41-.59l7.78-7.78 2.81-2.81c.8-.78.8-2.07 0-2.86zM5.41 20L4 18.59l7.72-7.72 1.47 1.35L5.41 20z\"/>\n",
              "  </svg>\n",
              "      </button>\n",
              "      \n",
              "  <style>\n",
              "    .colab-df-container {\n",
              "      display:flex;\n",
              "      flex-wrap:wrap;\n",
              "      gap: 12px;\n",
              "    }\n",
              "\n",
              "    .colab-df-convert {\n",
              "      background-color: #E8F0FE;\n",
              "      border: none;\n",
              "      border-radius: 50%;\n",
              "      cursor: pointer;\n",
              "      display: none;\n",
              "      fill: #1967D2;\n",
              "      height: 32px;\n",
              "      padding: 0 0 0 0;\n",
              "      width: 32px;\n",
              "    }\n",
              "\n",
              "    .colab-df-convert:hover {\n",
              "      background-color: #E2EBFA;\n",
              "      box-shadow: 0px 1px 2px rgba(60, 64, 67, 0.3), 0px 1px 3px 1px rgba(60, 64, 67, 0.15);\n",
              "      fill: #174EA6;\n",
              "    }\n",
              "\n",
              "    [theme=dark] .colab-df-convert {\n",
              "      background-color: #3B4455;\n",
              "      fill: #D2E3FC;\n",
              "    }\n",
              "\n",
              "    [theme=dark] .colab-df-convert:hover {\n",
              "      background-color: #434B5C;\n",
              "      box-shadow: 0px 1px 3px 1px rgba(0, 0, 0, 0.15);\n",
              "      filter: drop-shadow(0px 1px 2px rgba(0, 0, 0, 0.3));\n",
              "      fill: #FFFFFF;\n",
              "    }\n",
              "  </style>\n",
              "\n",
              "      <script>\n",
              "        const buttonEl =\n",
              "          document.querySelector('#df-2d140f62-054f-4c09-bff1-09ae7605f8d7 button.colab-df-convert');\n",
              "        buttonEl.style.display =\n",
              "          google.colab.kernel.accessAllowed ? 'block' : 'none';\n",
              "\n",
              "        async function convertToInteractive(key) {\n",
              "          const element = document.querySelector('#df-2d140f62-054f-4c09-bff1-09ae7605f8d7');\n",
              "          const dataTable =\n",
              "            await google.colab.kernel.invokeFunction('convertToInteractive',\n",
              "                                                     [key], {});\n",
              "          if (!dataTable) return;\n",
              "\n",
              "          const docLinkHtml = 'Like what you see? Visit the ' +\n",
              "            '<a target=\"_blank\" href=https://colab.research.google.com/notebooks/data_table.ipynb>data table notebook</a>'\n",
              "            + ' to learn more about interactive tables.';\n",
              "          element.innerHTML = '';\n",
              "          dataTable['output_type'] = 'display_data';\n",
              "          await google.colab.output.renderOutput(dataTable, element);\n",
              "          const docLink = document.createElement('div');\n",
              "          docLink.innerHTML = docLinkHtml;\n",
              "          element.appendChild(docLink);\n",
              "        }\n",
              "      </script>\n",
              "    </div>\n",
              "  </div>\n",
              "  "
            ],
            "text/plain": [
              "   survived  pclass     sex   age  ...  deck  embark_town  alive  alone\n",
              "0         0       3    male  22.0  ...   NaN  Southampton     no  False\n",
              "1         1       1  female  38.0  ...     C    Cherbourg    yes  False\n",
              "2         1       3  female  26.0  ...   NaN  Southampton    yes   True\n",
              "3         1       1  female  35.0  ...     C  Southampton    yes  False\n",
              "4         0       3    male  35.0  ...   NaN  Southampton     no   True\n",
              "\n",
              "[5 rows x 15 columns]"
            ]
          },
          "metadata": {},
          "execution_count": 2
        }
      ]
    },
    {
      "cell_type": "code",
      "source": [
        "df = df[['survived', 'pclass', 'sex', 'age', 'sibsp', 'parch', 'fare', 'embarked', 'deck']]\n",
        "df.head()"
      ],
      "metadata": {
        "id": "ysM_oQRiqQoU",
        "colab": {
          "base_uri": "https://localhost:8080/",
          "height": 206
        },
        "outputId": "e84b0a1b-2228-47b2-e288-acfdbb44e611"
      },
      "execution_count": 3,
      "outputs": [
        {
          "output_type": "execute_result",
          "data": {
            "text/html": [
              "\n",
              "  <div id=\"df-8337e286-9b7d-4887-9c19-b8518982b747\">\n",
              "    <div class=\"colab-df-container\">\n",
              "      <div>\n",
              "<style scoped>\n",
              "    .dataframe tbody tr th:only-of-type {\n",
              "        vertical-align: middle;\n",
              "    }\n",
              "\n",
              "    .dataframe tbody tr th {\n",
              "        vertical-align: top;\n",
              "    }\n",
              "\n",
              "    .dataframe thead th {\n",
              "        text-align: right;\n",
              "    }\n",
              "</style>\n",
              "<table border=\"1\" class=\"dataframe\">\n",
              "  <thead>\n",
              "    <tr style=\"text-align: right;\">\n",
              "      <th></th>\n",
              "      <th>survived</th>\n",
              "      <th>pclass</th>\n",
              "      <th>sex</th>\n",
              "      <th>age</th>\n",
              "      <th>sibsp</th>\n",
              "      <th>parch</th>\n",
              "      <th>fare</th>\n",
              "      <th>embarked</th>\n",
              "      <th>deck</th>\n",
              "    </tr>\n",
              "  </thead>\n",
              "  <tbody>\n",
              "    <tr>\n",
              "      <th>0</th>\n",
              "      <td>0</td>\n",
              "      <td>3</td>\n",
              "      <td>male</td>\n",
              "      <td>22.0</td>\n",
              "      <td>1</td>\n",
              "      <td>0</td>\n",
              "      <td>7.2500</td>\n",
              "      <td>S</td>\n",
              "      <td>NaN</td>\n",
              "    </tr>\n",
              "    <tr>\n",
              "      <th>1</th>\n",
              "      <td>1</td>\n",
              "      <td>1</td>\n",
              "      <td>female</td>\n",
              "      <td>38.0</td>\n",
              "      <td>1</td>\n",
              "      <td>0</td>\n",
              "      <td>71.2833</td>\n",
              "      <td>C</td>\n",
              "      <td>C</td>\n",
              "    </tr>\n",
              "    <tr>\n",
              "      <th>2</th>\n",
              "      <td>1</td>\n",
              "      <td>3</td>\n",
              "      <td>female</td>\n",
              "      <td>26.0</td>\n",
              "      <td>0</td>\n",
              "      <td>0</td>\n",
              "      <td>7.9250</td>\n",
              "      <td>S</td>\n",
              "      <td>NaN</td>\n",
              "    </tr>\n",
              "    <tr>\n",
              "      <th>3</th>\n",
              "      <td>1</td>\n",
              "      <td>1</td>\n",
              "      <td>female</td>\n",
              "      <td>35.0</td>\n",
              "      <td>1</td>\n",
              "      <td>0</td>\n",
              "      <td>53.1000</td>\n",
              "      <td>S</td>\n",
              "      <td>C</td>\n",
              "    </tr>\n",
              "    <tr>\n",
              "      <th>4</th>\n",
              "      <td>0</td>\n",
              "      <td>3</td>\n",
              "      <td>male</td>\n",
              "      <td>35.0</td>\n",
              "      <td>0</td>\n",
              "      <td>0</td>\n",
              "      <td>8.0500</td>\n",
              "      <td>S</td>\n",
              "      <td>NaN</td>\n",
              "    </tr>\n",
              "  </tbody>\n",
              "</table>\n",
              "</div>\n",
              "      <button class=\"colab-df-convert\" onclick=\"convertToInteractive('df-8337e286-9b7d-4887-9c19-b8518982b747')\"\n",
              "              title=\"Convert this dataframe to an interactive table.\"\n",
              "              style=\"display:none;\">\n",
              "        \n",
              "  <svg xmlns=\"http://www.w3.org/2000/svg\" height=\"24px\"viewBox=\"0 0 24 24\"\n",
              "       width=\"24px\">\n",
              "    <path d=\"M0 0h24v24H0V0z\" fill=\"none\"/>\n",
              "    <path d=\"M18.56 5.44l.94 2.06.94-2.06 2.06-.94-2.06-.94-.94-2.06-.94 2.06-2.06.94zm-11 1L8.5 8.5l.94-2.06 2.06-.94-2.06-.94L8.5 2.5l-.94 2.06-2.06.94zm10 10l.94 2.06.94-2.06 2.06-.94-2.06-.94-.94-2.06-.94 2.06-2.06.94z\"/><path d=\"M17.41 7.96l-1.37-1.37c-.4-.4-.92-.59-1.43-.59-.52 0-1.04.2-1.43.59L10.3 9.45l-7.72 7.72c-.78.78-.78 2.05 0 2.83L4 21.41c.39.39.9.59 1.41.59.51 0 1.02-.2 1.41-.59l7.78-7.78 2.81-2.81c.8-.78.8-2.07 0-2.86zM5.41 20L4 18.59l7.72-7.72 1.47 1.35L5.41 20z\"/>\n",
              "  </svg>\n",
              "      </button>\n",
              "      \n",
              "  <style>\n",
              "    .colab-df-container {\n",
              "      display:flex;\n",
              "      flex-wrap:wrap;\n",
              "      gap: 12px;\n",
              "    }\n",
              "\n",
              "    .colab-df-convert {\n",
              "      background-color: #E8F0FE;\n",
              "      border: none;\n",
              "      border-radius: 50%;\n",
              "      cursor: pointer;\n",
              "      display: none;\n",
              "      fill: #1967D2;\n",
              "      height: 32px;\n",
              "      padding: 0 0 0 0;\n",
              "      width: 32px;\n",
              "    }\n",
              "\n",
              "    .colab-df-convert:hover {\n",
              "      background-color: #E2EBFA;\n",
              "      box-shadow: 0px 1px 2px rgba(60, 64, 67, 0.3), 0px 1px 3px 1px rgba(60, 64, 67, 0.15);\n",
              "      fill: #174EA6;\n",
              "    }\n",
              "\n",
              "    [theme=dark] .colab-df-convert {\n",
              "      background-color: #3B4455;\n",
              "      fill: #D2E3FC;\n",
              "    }\n",
              "\n",
              "    [theme=dark] .colab-df-convert:hover {\n",
              "      background-color: #434B5C;\n",
              "      box-shadow: 0px 1px 3px 1px rgba(0, 0, 0, 0.15);\n",
              "      filter: drop-shadow(0px 1px 2px rgba(0, 0, 0, 0.3));\n",
              "      fill: #FFFFFF;\n",
              "    }\n",
              "  </style>\n",
              "\n",
              "      <script>\n",
              "        const buttonEl =\n",
              "          document.querySelector('#df-8337e286-9b7d-4887-9c19-b8518982b747 button.colab-df-convert');\n",
              "        buttonEl.style.display =\n",
              "          google.colab.kernel.accessAllowed ? 'block' : 'none';\n",
              "\n",
              "        async function convertToInteractive(key) {\n",
              "          const element = document.querySelector('#df-8337e286-9b7d-4887-9c19-b8518982b747');\n",
              "          const dataTable =\n",
              "            await google.colab.kernel.invokeFunction('convertToInteractive',\n",
              "                                                     [key], {});\n",
              "          if (!dataTable) return;\n",
              "\n",
              "          const docLinkHtml = 'Like what you see? Visit the ' +\n",
              "            '<a target=\"_blank\" href=https://colab.research.google.com/notebooks/data_table.ipynb>data table notebook</a>'\n",
              "            + ' to learn more about interactive tables.';\n",
              "          element.innerHTML = '';\n",
              "          dataTable['output_type'] = 'display_data';\n",
              "          await google.colab.output.renderOutput(dataTable, element);\n",
              "          const docLink = document.createElement('div');\n",
              "          docLink.innerHTML = docLinkHtml;\n",
              "          element.appendChild(docLink);\n",
              "        }\n",
              "      </script>\n",
              "    </div>\n",
              "  </div>\n",
              "  "
            ],
            "text/plain": [
              "   survived  pclass     sex   age  sibsp  parch     fare embarked deck\n",
              "0         0       3    male  22.0      1      0   7.2500        S  NaN\n",
              "1         1       1  female  38.0      1      0  71.2833        C    C\n",
              "2         1       3  female  26.0      0      0   7.9250        S  NaN\n",
              "3         1       1  female  35.0      1      0  53.1000        S    C\n",
              "4         0       3    male  35.0      0      0   8.0500        S  NaN"
            ]
          },
          "metadata": {},
          "execution_count": 3
        }
      ]
    },
    {
      "cell_type": "code",
      "source": [
        "df.isna().sum()"
      ],
      "metadata": {
        "colab": {
          "base_uri": "https://localhost:8080/"
        },
        "id": "2E2_gFQcsX4n",
        "outputId": "d47e9f6e-0c31-48ec-dc4a-d3a18dc60a11"
      },
      "execution_count": 4,
      "outputs": [
        {
          "output_type": "execute_result",
          "data": {
            "text/plain": [
              "survived      0\n",
              "pclass        0\n",
              "sex           0\n",
              "age         177\n",
              "sibsp         0\n",
              "parch         0\n",
              "fare          0\n",
              "embarked      2\n",
              "deck        688\n",
              "dtype: int64"
            ]
          },
          "metadata": {},
          "execution_count": 4
        }
      ]
    },
    {
      "cell_type": "code",
      "source": [
        "df.age.fillna(df.age.mean(), inplace=True)"
      ],
      "metadata": {
        "id": "KdfK9M6ZsYUD"
      },
      "execution_count": 5,
      "outputs": []
    },
    {
      "cell_type": "code",
      "source": [
        "df.age.isna().sum()"
      ],
      "metadata": {
        "colab": {
          "base_uri": "https://localhost:8080/"
        },
        "id": "OJmiEmrqscqQ",
        "outputId": "effdd20a-de54-4d58-d30d-436013593ceb"
      },
      "execution_count": 6,
      "outputs": [
        {
          "output_type": "execute_result",
          "data": {
            "text/plain": [
              "0"
            ]
          },
          "metadata": {},
          "execution_count": 6
        }
      ]
    },
    {
      "cell_type": "code",
      "source": [
        "df.embarked.value_counts()"
      ],
      "metadata": {
        "colab": {
          "base_uri": "https://localhost:8080/"
        },
        "id": "YdIPnVmIse7r",
        "outputId": "ea59fb39-1871-46a3-81ee-13020e6226e3"
      },
      "execution_count": 7,
      "outputs": [
        {
          "output_type": "execute_result",
          "data": {
            "text/plain": [
              "S    644\n",
              "C    168\n",
              "Q     77\n",
              "Name: embarked, dtype: int64"
            ]
          },
          "metadata": {},
          "execution_count": 7
        }
      ]
    },
    {
      "cell_type": "code",
      "source": [
        "df.embarked.fillna('S', inplace=True)\n",
        "df.embarked.isna().sum()"
      ],
      "metadata": {
        "colab": {
          "base_uri": "https://localhost:8080/"
        },
        "id": "U3Zk_0yZsgnZ",
        "outputId": "65cc7c1f-a5f8-43e3-e16d-9809e2b3ddac"
      },
      "execution_count": 8,
      "outputs": [
        {
          "output_type": "execute_result",
          "data": {
            "text/plain": [
              "0"
            ]
          },
          "metadata": {},
          "execution_count": 8
        }
      ]
    },
    {
      "cell_type": "code",
      "source": [
        "round(df['age'].mean(), 1)"
      ],
      "metadata": {
        "colab": {
          "base_uri": "https://localhost:8080/"
        },
        "id": "TAFTP48lNKyV",
        "outputId": "691c0089-85d9-44ac-eeb0-ba33f237a97b"
      },
      "execution_count": 9,
      "outputs": [
        {
          "output_type": "execute_result",
          "data": {
            "text/plain": [
              "29.7"
            ]
          },
          "metadata": {},
          "execution_count": 9
        }
      ]
    },
    {
      "cell_type": "code",
      "source": [
        "df['age'].fillna(round(df['age'].mean(), 1), inplace=True)\n",
        "df.head(6)"
      ],
      "metadata": {
        "colab": {
          "base_uri": "https://localhost:8080/",
          "height": 237
        },
        "id": "fpWW7AquNPIL",
        "outputId": "ab065fb1-99e9-45ed-9e44-599e453beb20"
      },
      "execution_count": 10,
      "outputs": [
        {
          "output_type": "execute_result",
          "data": {
            "text/html": [
              "\n",
              "  <div id=\"df-2f4e89df-e159-4cca-b130-1b0a0520d429\">\n",
              "    <div class=\"colab-df-container\">\n",
              "      <div>\n",
              "<style scoped>\n",
              "    .dataframe tbody tr th:only-of-type {\n",
              "        vertical-align: middle;\n",
              "    }\n",
              "\n",
              "    .dataframe tbody tr th {\n",
              "        vertical-align: top;\n",
              "    }\n",
              "\n",
              "    .dataframe thead th {\n",
              "        text-align: right;\n",
              "    }\n",
              "</style>\n",
              "<table border=\"1\" class=\"dataframe\">\n",
              "  <thead>\n",
              "    <tr style=\"text-align: right;\">\n",
              "      <th></th>\n",
              "      <th>survived</th>\n",
              "      <th>pclass</th>\n",
              "      <th>sex</th>\n",
              "      <th>age</th>\n",
              "      <th>sibsp</th>\n",
              "      <th>parch</th>\n",
              "      <th>fare</th>\n",
              "      <th>embarked</th>\n",
              "      <th>deck</th>\n",
              "    </tr>\n",
              "  </thead>\n",
              "  <tbody>\n",
              "    <tr>\n",
              "      <th>0</th>\n",
              "      <td>0</td>\n",
              "      <td>3</td>\n",
              "      <td>male</td>\n",
              "      <td>22.000000</td>\n",
              "      <td>1</td>\n",
              "      <td>0</td>\n",
              "      <td>7.2500</td>\n",
              "      <td>S</td>\n",
              "      <td>NaN</td>\n",
              "    </tr>\n",
              "    <tr>\n",
              "      <th>1</th>\n",
              "      <td>1</td>\n",
              "      <td>1</td>\n",
              "      <td>female</td>\n",
              "      <td>38.000000</td>\n",
              "      <td>1</td>\n",
              "      <td>0</td>\n",
              "      <td>71.2833</td>\n",
              "      <td>C</td>\n",
              "      <td>C</td>\n",
              "    </tr>\n",
              "    <tr>\n",
              "      <th>2</th>\n",
              "      <td>1</td>\n",
              "      <td>3</td>\n",
              "      <td>female</td>\n",
              "      <td>26.000000</td>\n",
              "      <td>0</td>\n",
              "      <td>0</td>\n",
              "      <td>7.9250</td>\n",
              "      <td>S</td>\n",
              "      <td>NaN</td>\n",
              "    </tr>\n",
              "    <tr>\n",
              "      <th>3</th>\n",
              "      <td>1</td>\n",
              "      <td>1</td>\n",
              "      <td>female</td>\n",
              "      <td>35.000000</td>\n",
              "      <td>1</td>\n",
              "      <td>0</td>\n",
              "      <td>53.1000</td>\n",
              "      <td>S</td>\n",
              "      <td>C</td>\n",
              "    </tr>\n",
              "    <tr>\n",
              "      <th>4</th>\n",
              "      <td>0</td>\n",
              "      <td>3</td>\n",
              "      <td>male</td>\n",
              "      <td>35.000000</td>\n",
              "      <td>0</td>\n",
              "      <td>0</td>\n",
              "      <td>8.0500</td>\n",
              "      <td>S</td>\n",
              "      <td>NaN</td>\n",
              "    </tr>\n",
              "    <tr>\n",
              "      <th>5</th>\n",
              "      <td>0</td>\n",
              "      <td>3</td>\n",
              "      <td>male</td>\n",
              "      <td>29.699118</td>\n",
              "      <td>0</td>\n",
              "      <td>0</td>\n",
              "      <td>8.4583</td>\n",
              "      <td>Q</td>\n",
              "      <td>NaN</td>\n",
              "    </tr>\n",
              "  </tbody>\n",
              "</table>\n",
              "</div>\n",
              "      <button class=\"colab-df-convert\" onclick=\"convertToInteractive('df-2f4e89df-e159-4cca-b130-1b0a0520d429')\"\n",
              "              title=\"Convert this dataframe to an interactive table.\"\n",
              "              style=\"display:none;\">\n",
              "        \n",
              "  <svg xmlns=\"http://www.w3.org/2000/svg\" height=\"24px\"viewBox=\"0 0 24 24\"\n",
              "       width=\"24px\">\n",
              "    <path d=\"M0 0h24v24H0V0z\" fill=\"none\"/>\n",
              "    <path d=\"M18.56 5.44l.94 2.06.94-2.06 2.06-.94-2.06-.94-.94-2.06-.94 2.06-2.06.94zm-11 1L8.5 8.5l.94-2.06 2.06-.94-2.06-.94L8.5 2.5l-.94 2.06-2.06.94zm10 10l.94 2.06.94-2.06 2.06-.94-2.06-.94-.94-2.06-.94 2.06-2.06.94z\"/><path d=\"M17.41 7.96l-1.37-1.37c-.4-.4-.92-.59-1.43-.59-.52 0-1.04.2-1.43.59L10.3 9.45l-7.72 7.72c-.78.78-.78 2.05 0 2.83L4 21.41c.39.39.9.59 1.41.59.51 0 1.02-.2 1.41-.59l7.78-7.78 2.81-2.81c.8-.78.8-2.07 0-2.86zM5.41 20L4 18.59l7.72-7.72 1.47 1.35L5.41 20z\"/>\n",
              "  </svg>\n",
              "      </button>\n",
              "      \n",
              "  <style>\n",
              "    .colab-df-container {\n",
              "      display:flex;\n",
              "      flex-wrap:wrap;\n",
              "      gap: 12px;\n",
              "    }\n",
              "\n",
              "    .colab-df-convert {\n",
              "      background-color: #E8F0FE;\n",
              "      border: none;\n",
              "      border-radius: 50%;\n",
              "      cursor: pointer;\n",
              "      display: none;\n",
              "      fill: #1967D2;\n",
              "      height: 32px;\n",
              "      padding: 0 0 0 0;\n",
              "      width: 32px;\n",
              "    }\n",
              "\n",
              "    .colab-df-convert:hover {\n",
              "      background-color: #E2EBFA;\n",
              "      box-shadow: 0px 1px 2px rgba(60, 64, 67, 0.3), 0px 1px 3px 1px rgba(60, 64, 67, 0.15);\n",
              "      fill: #174EA6;\n",
              "    }\n",
              "\n",
              "    [theme=dark] .colab-df-convert {\n",
              "      background-color: #3B4455;\n",
              "      fill: #D2E3FC;\n",
              "    }\n",
              "\n",
              "    [theme=dark] .colab-df-convert:hover {\n",
              "      background-color: #434B5C;\n",
              "      box-shadow: 0px 1px 3px 1px rgba(0, 0, 0, 0.15);\n",
              "      filter: drop-shadow(0px 1px 2px rgba(0, 0, 0, 0.3));\n",
              "      fill: #FFFFFF;\n",
              "    }\n",
              "  </style>\n",
              "\n",
              "      <script>\n",
              "        const buttonEl =\n",
              "          document.querySelector('#df-2f4e89df-e159-4cca-b130-1b0a0520d429 button.colab-df-convert');\n",
              "        buttonEl.style.display =\n",
              "          google.colab.kernel.accessAllowed ? 'block' : 'none';\n",
              "\n",
              "        async function convertToInteractive(key) {\n",
              "          const element = document.querySelector('#df-2f4e89df-e159-4cca-b130-1b0a0520d429');\n",
              "          const dataTable =\n",
              "            await google.colab.kernel.invokeFunction('convertToInteractive',\n",
              "                                                     [key], {});\n",
              "          if (!dataTable) return;\n",
              "\n",
              "          const docLinkHtml = 'Like what you see? Visit the ' +\n",
              "            '<a target=\"_blank\" href=https://colab.research.google.com/notebooks/data_table.ipynb>data table notebook</a>'\n",
              "            + ' to learn more about interactive tables.';\n",
              "          element.innerHTML = '';\n",
              "          dataTable['output_type'] = 'display_data';\n",
              "          await google.colab.output.renderOutput(dataTable, element);\n",
              "          const docLink = document.createElement('div');\n",
              "          docLink.innerHTML = docLinkHtml;\n",
              "          element.appendChild(docLink);\n",
              "        }\n",
              "      </script>\n",
              "    </div>\n",
              "  </div>\n",
              "  "
            ],
            "text/plain": [
              "   survived  pclass     sex        age  sibsp  parch     fare embarked deck\n",
              "0         0       3    male  22.000000      1      0   7.2500        S  NaN\n",
              "1         1       1  female  38.000000      1      0  71.2833        C    C\n",
              "2         1       3  female  26.000000      0      0   7.9250        S  NaN\n",
              "3         1       1  female  35.000000      1      0  53.1000        S    C\n",
              "4         0       3    male  35.000000      0      0   8.0500        S  NaN\n",
              "5         0       3    male  29.699118      0      0   8.4583        Q  NaN"
            ]
          },
          "metadata": {},
          "execution_count": 10
        }
      ]
    },
    {
      "cell_type": "code",
      "source": [
        "df.drop(columns=['deck'], inplace=True)\n",
        "df.isna().sum().sum()"
      ],
      "metadata": {
        "colab": {
          "base_uri": "https://localhost:8080/"
        },
        "id": "Pw8dYqvRsj8d",
        "outputId": "6ab48dfe-c2ba-4b95-bbe7-85360e061cf6"
      },
      "execution_count": 11,
      "outputs": [
        {
          "output_type": "execute_result",
          "data": {
            "text/plain": [
              "0"
            ]
          },
          "metadata": {},
          "execution_count": 11
        }
      ]
    },
    {
      "cell_type": "code",
      "source": [
        "from sklearn.preprocessing import LabelEncoder\n",
        "le = LabelEncoder()"
      ],
      "metadata": {
        "id": "r0Cq7PgOsly7"
      },
      "execution_count": 13,
      "outputs": []
    },
    {
      "cell_type": "code",
      "source": [
        "df.sex = le.fit_transform(df.sex)\n",
        "df.embarked = le.fit_transform(df.embarked)\n",
        "\n",
        "df.head(3)"
      ],
      "metadata": {
        "colab": {
          "base_uri": "https://localhost:8080/",
          "height": 143
        },
        "id": "oYzCpx9Csoz1",
        "outputId": "5d8e6e72-0949-4fbe-b983-e3af47a12b17"
      },
      "execution_count": 14,
      "outputs": [
        {
          "output_type": "execute_result",
          "data": {
            "text/html": [
              "\n",
              "  <div id=\"df-e0ea28a1-8e84-4cf9-ae6e-e9105720aafc\">\n",
              "    <div class=\"colab-df-container\">\n",
              "      <div>\n",
              "<style scoped>\n",
              "    .dataframe tbody tr th:only-of-type {\n",
              "        vertical-align: middle;\n",
              "    }\n",
              "\n",
              "    .dataframe tbody tr th {\n",
              "        vertical-align: top;\n",
              "    }\n",
              "\n",
              "    .dataframe thead th {\n",
              "        text-align: right;\n",
              "    }\n",
              "</style>\n",
              "<table border=\"1\" class=\"dataframe\">\n",
              "  <thead>\n",
              "    <tr style=\"text-align: right;\">\n",
              "      <th></th>\n",
              "      <th>survived</th>\n",
              "      <th>pclass</th>\n",
              "      <th>sex</th>\n",
              "      <th>age</th>\n",
              "      <th>sibsp</th>\n",
              "      <th>parch</th>\n",
              "      <th>fare</th>\n",
              "      <th>embarked</th>\n",
              "    </tr>\n",
              "  </thead>\n",
              "  <tbody>\n",
              "    <tr>\n",
              "      <th>0</th>\n",
              "      <td>0</td>\n",
              "      <td>3</td>\n",
              "      <td>1</td>\n",
              "      <td>22.0</td>\n",
              "      <td>1</td>\n",
              "      <td>0</td>\n",
              "      <td>7.2500</td>\n",
              "      <td>2</td>\n",
              "    </tr>\n",
              "    <tr>\n",
              "      <th>1</th>\n",
              "      <td>1</td>\n",
              "      <td>1</td>\n",
              "      <td>0</td>\n",
              "      <td>38.0</td>\n",
              "      <td>1</td>\n",
              "      <td>0</td>\n",
              "      <td>71.2833</td>\n",
              "      <td>0</td>\n",
              "    </tr>\n",
              "    <tr>\n",
              "      <th>2</th>\n",
              "      <td>1</td>\n",
              "      <td>3</td>\n",
              "      <td>0</td>\n",
              "      <td>26.0</td>\n",
              "      <td>0</td>\n",
              "      <td>0</td>\n",
              "      <td>7.9250</td>\n",
              "      <td>2</td>\n",
              "    </tr>\n",
              "  </tbody>\n",
              "</table>\n",
              "</div>\n",
              "      <button class=\"colab-df-convert\" onclick=\"convertToInteractive('df-e0ea28a1-8e84-4cf9-ae6e-e9105720aafc')\"\n",
              "              title=\"Convert this dataframe to an interactive table.\"\n",
              "              style=\"display:none;\">\n",
              "        \n",
              "  <svg xmlns=\"http://www.w3.org/2000/svg\" height=\"24px\"viewBox=\"0 0 24 24\"\n",
              "       width=\"24px\">\n",
              "    <path d=\"M0 0h24v24H0V0z\" fill=\"none\"/>\n",
              "    <path d=\"M18.56 5.44l.94 2.06.94-2.06 2.06-.94-2.06-.94-.94-2.06-.94 2.06-2.06.94zm-11 1L8.5 8.5l.94-2.06 2.06-.94-2.06-.94L8.5 2.5l-.94 2.06-2.06.94zm10 10l.94 2.06.94-2.06 2.06-.94-2.06-.94-.94-2.06-.94 2.06-2.06.94z\"/><path d=\"M17.41 7.96l-1.37-1.37c-.4-.4-.92-.59-1.43-.59-.52 0-1.04.2-1.43.59L10.3 9.45l-7.72 7.72c-.78.78-.78 2.05 0 2.83L4 21.41c.39.39.9.59 1.41.59.51 0 1.02-.2 1.41-.59l7.78-7.78 2.81-2.81c.8-.78.8-2.07 0-2.86zM5.41 20L4 18.59l7.72-7.72 1.47 1.35L5.41 20z\"/>\n",
              "  </svg>\n",
              "      </button>\n",
              "      \n",
              "  <style>\n",
              "    .colab-df-container {\n",
              "      display:flex;\n",
              "      flex-wrap:wrap;\n",
              "      gap: 12px;\n",
              "    }\n",
              "\n",
              "    .colab-df-convert {\n",
              "      background-color: #E8F0FE;\n",
              "      border: none;\n",
              "      border-radius: 50%;\n",
              "      cursor: pointer;\n",
              "      display: none;\n",
              "      fill: #1967D2;\n",
              "      height: 32px;\n",
              "      padding: 0 0 0 0;\n",
              "      width: 32px;\n",
              "    }\n",
              "\n",
              "    .colab-df-convert:hover {\n",
              "      background-color: #E2EBFA;\n",
              "      box-shadow: 0px 1px 2px rgba(60, 64, 67, 0.3), 0px 1px 3px 1px rgba(60, 64, 67, 0.15);\n",
              "      fill: #174EA6;\n",
              "    }\n",
              "\n",
              "    [theme=dark] .colab-df-convert {\n",
              "      background-color: #3B4455;\n",
              "      fill: #D2E3FC;\n",
              "    }\n",
              "\n",
              "    [theme=dark] .colab-df-convert:hover {\n",
              "      background-color: #434B5C;\n",
              "      box-shadow: 0px 1px 3px 1px rgba(0, 0, 0, 0.15);\n",
              "      filter: drop-shadow(0px 1px 2px rgba(0, 0, 0, 0.3));\n",
              "      fill: #FFFFFF;\n",
              "    }\n",
              "  </style>\n",
              "\n",
              "      <script>\n",
              "        const buttonEl =\n",
              "          document.querySelector('#df-e0ea28a1-8e84-4cf9-ae6e-e9105720aafc button.colab-df-convert');\n",
              "        buttonEl.style.display =\n",
              "          google.colab.kernel.accessAllowed ? 'block' : 'none';\n",
              "\n",
              "        async function convertToInteractive(key) {\n",
              "          const element = document.querySelector('#df-e0ea28a1-8e84-4cf9-ae6e-e9105720aafc');\n",
              "          const dataTable =\n",
              "            await google.colab.kernel.invokeFunction('convertToInteractive',\n",
              "                                                     [key], {});\n",
              "          if (!dataTable) return;\n",
              "\n",
              "          const docLinkHtml = 'Like what you see? Visit the ' +\n",
              "            '<a target=\"_blank\" href=https://colab.research.google.com/notebooks/data_table.ipynb>data table notebook</a>'\n",
              "            + ' to learn more about interactive tables.';\n",
              "          element.innerHTML = '';\n",
              "          dataTable['output_type'] = 'display_data';\n",
              "          await google.colab.output.renderOutput(dataTable, element);\n",
              "          const docLink = document.createElement('div');\n",
              "          docLink.innerHTML = docLinkHtml;\n",
              "          element.appendChild(docLink);\n",
              "        }\n",
              "      </script>\n",
              "    </div>\n",
              "  </div>\n",
              "  "
            ],
            "text/plain": [
              "   survived  pclass  sex   age  sibsp  parch     fare  embarked\n",
              "0         0       3    1  22.0      1      0   7.2500         2\n",
              "1         1       1    0  38.0      1      0  71.2833         0\n",
              "2         1       3    0  26.0      0      0   7.9250         2"
            ]
          },
          "metadata": {},
          "execution_count": 14
        }
      ]
    },
    {
      "cell_type": "code",
      "source": [
        "np.unique(df.values[:,-1], return_counts=True)"
      ],
      "metadata": {
        "colab": {
          "base_uri": "https://localhost:8080/"
        },
        "id": "glmKDduqsr91",
        "outputId": "e372f6d0-2622-4cef-96be-e2d26a423320"
      },
      "execution_count": 15,
      "outputs": [
        {
          "output_type": "execute_result",
          "data": {
            "text/plain": [
              "(array([0., 1., 2.]), array([168,  77, 646]))"
            ]
          },
          "metadata": {},
          "execution_count": 15
        }
      ]
    },
    {
      "cell_type": "code",
      "source": [
        "X = df.iloc[:,1:].values\n",
        "y = df.iloc[:,0].values"
      ],
      "metadata": {
        "id": "2fhYV850Nuzk"
      },
      "execution_count": 16,
      "outputs": []
    },
    {
      "cell_type": "code",
      "source": [
        "from sklearn.preprocessing import StandardScaler\n",
        "scaler = StandardScaler()\n",
        "scaler.fit(X)\n",
        "X_std = scaler.transform(X)"
      ],
      "metadata": {
        "id": "i4dDEskEs0JX"
      },
      "execution_count": 17,
      "outputs": []
    },
    {
      "cell_type": "code",
      "source": [
        "from sklearn.model_selection import train_test_split\n",
        "X_train, X_test, y_train, y_test = train_test_split(\n",
        "    X_std, y, stratify=y, random_state=seed, test_size=0.2\n",
        ")\n",
        "X_train.shape, X_test.shape, y_train.shape, y_test.shape"
      ],
      "metadata": {
        "colab": {
          "base_uri": "https://localhost:8080/"
        },
        "id": "vJJbUav4s2-0",
        "outputId": "36868dc8-2ada-4381-a319-9886e7edef86"
      },
      "execution_count": 18,
      "outputs": [
        {
          "output_type": "execute_result",
          "data": {
            "text/plain": [
              "((712, 7), (179, 7), (712,), (179,))"
            ]
          },
          "metadata": {},
          "execution_count": 18
        }
      ]
    },
    {
      "cell_type": "code",
      "source": [
        "from tensorflow.keras.models import Sequential\n",
        "from tensorflow.keras.layers import Dense"
      ],
      "metadata": {
        "id": "C29gGT5dvIH4"
      },
      "execution_count": 19,
      "outputs": []
    },
    {
      "cell_type": "code",
      "source": [
        "model_titanic = Sequential([\n",
        "    Dense(61, input_dim=7, activation='relu'),\n",
        "    Dense(30, activation='relu'),\n",
        "    Dense(15, activation='relu'),\n",
        "    Dense(7, activation='relu'),\n",
        "    Dense(3, activation='relu'),\n",
        "    Dense(1, activation='sigmoid')\n",
        "])\n",
        "model_titanic.summary()"
      ],
      "metadata": {
        "colab": {
          "base_uri": "https://localhost:8080/"
        },
        "id": "q4p0iscNtBlv",
        "outputId": "b7f15e6e-917c-4bb1-a447-a76567db51d4"
      },
      "execution_count": 68,
      "outputs": [
        {
          "output_type": "stream",
          "name": "stdout",
          "text": [
            "Model: \"sequential_6\"\n",
            "_________________________________________________________________\n",
            " Layer (type)                Output Shape              Param #   \n",
            "=================================================================\n",
            " dense_31 (Dense)            (None, 61)                488       \n",
            "                                                                 \n",
            " dense_32 (Dense)            (None, 30)                1860      \n",
            "                                                                 \n",
            " dense_33 (Dense)            (None, 15)                465       \n",
            "                                                                 \n",
            " dense_34 (Dense)            (None, 7)                 112       \n",
            "                                                                 \n",
            " dense_35 (Dense)            (None, 3)                 24        \n",
            "                                                                 \n",
            " dense_36 (Dense)            (None, 1)                 4         \n",
            "                                                                 \n",
            "=================================================================\n",
            "Total params: 2,953\n",
            "Trainable params: 2,953\n",
            "Non-trainable params: 0\n",
            "_________________________________________________________________\n"
          ]
        }
      ]
    },
    {
      "cell_type": "code",
      "source": [
        "model_titanic.compile(optimizer='adam', loss='binary_crossentropy', metrics=['accuracy'])"
      ],
      "metadata": {
        "id": "wRHKvLgHvExP"
      },
      "execution_count": 69,
      "outputs": []
    },
    {
      "cell_type": "code",
      "source": [
        "import os\n",
        "if not os.path.exists('titanic_model'):\n",
        "    os.mkdir('titanic_model')"
      ],
      "metadata": {
        "id": "CkmMxAJnvTCt"
      },
      "execution_count": 70,
      "outputs": []
    },
    {
      "cell_type": "code",
      "source": [
        "model_titanic_path = 'titanic_model/survive_titanic.h5'"
      ],
      "metadata": {
        "id": "7pEyMZN3vwFG"
      },
      "execution_count": 71,
      "outputs": []
    },
    {
      "cell_type": "code",
      "source": [
        "from tensorflow.keras.callbacks import ModelCheckpoint\n",
        "checkpoint = ModelCheckpoint(\n",
        "    model_titanic_path, monitor='val_loss', verbose=1, save_best_only=True\n",
        ")"
      ],
      "metadata": {
        "id": "_hSU2HUSv8BC"
      },
      "execution_count": 72,
      "outputs": []
    },
    {
      "cell_type": "code",
      "source": [
        "from tensorflow.keras.callbacks import EarlyStopping\n",
        "early_stopping = EarlyStopping(patience=50)"
      ],
      "metadata": {
        "id": "Iyif6p7RxUeX"
      },
      "execution_count": 73,
      "outputs": []
    },
    {
      "cell_type": "code",
      "source": [
        "hist_titanic = model_titanic.fit(X_train, y_train, validation_split = 0.2, verbose=1,\n",
        "                                 epochs=200, batch_size=200,\n",
        "                                 callbacks=[checkpoint, early_stopping])\n",
        "model_titanic.evaluate(X_test, y_test)"
      ],
      "metadata": {
        "colab": {
          "base_uri": "https://localhost:8080/"
        },
        "id": "Izyi-OxpwHZZ",
        "outputId": "32bf89d3-8c32-4ec7-e555-469d07c832f9"
      },
      "execution_count": 74,
      "outputs": [
        {
          "output_type": "stream",
          "name": "stdout",
          "text": [
            "Epoch 1/200\n",
            "1/3 [=========>....................] - ETA: 1s - loss: 0.6954 - accuracy: 0.5000\n",
            "Epoch 00001: val_loss improved from inf to 0.69191, saving model to titanic_model/survive_titanic.h5\n",
            "3/3 [==============================] - 1s 111ms/step - loss: 0.6941 - accuracy: 0.5571 - val_loss: 0.6919 - val_accuracy: 0.6014\n",
            "Epoch 2/200\n",
            "1/3 [=========>....................] - ETA: 0s - loss: 0.6922 - accuracy: 0.6300\n",
            "Epoch 00002: val_loss improved from 0.69191 to 0.69030, saving model to titanic_model/survive_titanic.h5\n",
            "3/3 [==============================] - 0s 33ms/step - loss: 0.6919 - accuracy: 0.6221 - val_loss: 0.6903 - val_accuracy: 0.6014\n",
            "Epoch 3/200\n",
            "1/3 [=========>....................] - ETA: 0s - loss: 0.6901 - accuracy: 0.6450\n",
            "Epoch 00003: val_loss improved from 0.69030 to 0.68860, saving model to titanic_model/survive_titanic.h5\n",
            "3/3 [==============================] - 0s 29ms/step - loss: 0.6899 - accuracy: 0.6274 - val_loss: 0.6886 - val_accuracy: 0.6014\n",
            "Epoch 4/200\n",
            "1/3 [=========>....................] - ETA: 0s - loss: 0.6878 - accuracy: 0.6550\n",
            "Epoch 00004: val_loss improved from 0.68860 to 0.68668, saving model to titanic_model/survive_titanic.h5\n",
            "3/3 [==============================] - 0s 35ms/step - loss: 0.6878 - accuracy: 0.6221 - val_loss: 0.6867 - val_accuracy: 0.6014\n",
            "Epoch 5/200\n",
            "1/3 [=========>....................] - ETA: 0s - loss: 0.6857 - accuracy: 0.6250\n",
            "Epoch 00005: val_loss improved from 0.68668 to 0.68455, saving model to titanic_model/survive_titanic.h5\n",
            "3/3 [==============================] - 0s 30ms/step - loss: 0.6853 - accuracy: 0.6239 - val_loss: 0.6845 - val_accuracy: 0.6014\n",
            "Epoch 6/200\n",
            "1/3 [=========>....................] - ETA: 0s - loss: 0.6839 - accuracy: 0.6050\n",
            "Epoch 00006: val_loss improved from 0.68455 to 0.68220, saving model to titanic_model/survive_titanic.h5\n",
            "3/3 [==============================] - 0s 34ms/step - loss: 0.6825 - accuracy: 0.6239 - val_loss: 0.6822 - val_accuracy: 0.5944\n",
            "Epoch 7/200\n",
            "1/3 [=========>....................] - ETA: 0s - loss: 0.6808 - accuracy: 0.6200\n",
            "Epoch 00007: val_loss improved from 0.68220 to 0.67974, saving model to titanic_model/survive_titanic.h5\n",
            "3/3 [==============================] - 0s 30ms/step - loss: 0.6795 - accuracy: 0.6274 - val_loss: 0.6797 - val_accuracy: 0.5944\n",
            "Epoch 8/200\n",
            "1/3 [=========>....................] - ETA: 0s - loss: 0.6779 - accuracy: 0.6150\n",
            "Epoch 00008: val_loss improved from 0.67974 to 0.67689, saving model to titanic_model/survive_titanic.h5\n",
            "3/3 [==============================] - 0s 32ms/step - loss: 0.6763 - accuracy: 0.6274 - val_loss: 0.6769 - val_accuracy: 0.5944\n",
            "Epoch 9/200\n",
            "1/3 [=========>....................] - ETA: 0s - loss: 0.6748 - accuracy: 0.6250\n",
            "Epoch 00009: val_loss improved from 0.67689 to 0.67368, saving model to titanic_model/survive_titanic.h5\n",
            "3/3 [==============================] - 0s 32ms/step - loss: 0.6729 - accuracy: 0.6274 - val_loss: 0.6737 - val_accuracy: 0.5944\n",
            "Epoch 10/200\n",
            "1/3 [=========>....................] - ETA: 0s - loss: 0.6692 - accuracy: 0.6300\n",
            "Epoch 00010: val_loss improved from 0.67368 to 0.67029, saving model to titanic_model/survive_titanic.h5\n",
            "3/3 [==============================] - 0s 34ms/step - loss: 0.6687 - accuracy: 0.6292 - val_loss: 0.6703 - val_accuracy: 0.5944\n",
            "Epoch 11/200\n",
            "1/3 [=========>....................] - ETA: 0s - loss: 0.6664 - accuracy: 0.6200\n",
            "Epoch 00011: val_loss improved from 0.67029 to 0.66635, saving model to titanic_model/survive_titanic.h5\n",
            "3/3 [==============================] - 0s 32ms/step - loss: 0.6642 - accuracy: 0.6292 - val_loss: 0.6663 - val_accuracy: 0.5944\n",
            "Epoch 12/200\n",
            "1/3 [=========>....................] - ETA: 0s - loss: 0.6679 - accuracy: 0.6000\n",
            "Epoch 00012: val_loss improved from 0.66635 to 0.66169, saving model to titanic_model/survive_titanic.h5\n",
            "3/3 [==============================] - 0s 32ms/step - loss: 0.6590 - accuracy: 0.6309 - val_loss: 0.6617 - val_accuracy: 0.5874\n",
            "Epoch 13/200\n",
            "1/3 [=========>....................] - ETA: 0s - loss: 0.6588 - accuracy: 0.6200\n",
            "Epoch 00013: val_loss improved from 0.66169 to 0.65610, saving model to titanic_model/survive_titanic.h5\n",
            "3/3 [==============================] - 0s 33ms/step - loss: 0.6533 - accuracy: 0.6309 - val_loss: 0.6561 - val_accuracy: 0.5874\n",
            "Epoch 14/200\n",
            "1/3 [=========>....................] - ETA: 0s - loss: 0.6406 - accuracy: 0.6550\n",
            "Epoch 00014: val_loss improved from 0.65610 to 0.64976, saving model to titanic_model/survive_titanic.h5\n",
            "3/3 [==============================] - 0s 32ms/step - loss: 0.6469 - accuracy: 0.6292 - val_loss: 0.6498 - val_accuracy: 0.5874\n",
            "Epoch 15/200\n",
            "1/3 [=========>....................] - ETA: 0s - loss: 0.6461 - accuracy: 0.5950\n",
            "Epoch 00015: val_loss improved from 0.64976 to 0.64242, saving model to titanic_model/survive_titanic.h5\n",
            "3/3 [==============================] - 0s 34ms/step - loss: 0.6390 - accuracy: 0.6327 - val_loss: 0.6424 - val_accuracy: 0.5874\n",
            "Epoch 16/200\n",
            "1/3 [=========>....................] - ETA: 0s - loss: 0.6327 - accuracy: 0.6400\n",
            "Epoch 00016: val_loss improved from 0.64242 to 0.63489, saving model to titanic_model/survive_titanic.h5\n",
            "3/3 [==============================] - 0s 35ms/step - loss: 0.6303 - accuracy: 0.6344 - val_loss: 0.6349 - val_accuracy: 0.5874\n",
            "Epoch 17/200\n",
            "1/3 [=========>....................] - ETA: 0s - loss: 0.6137 - accuracy: 0.6950\n",
            "Epoch 00017: val_loss improved from 0.63489 to 0.62553, saving model to titanic_model/survive_titanic.h5\n",
            "3/3 [==============================] - 0s 32ms/step - loss: 0.6197 - accuracy: 0.6467 - val_loss: 0.6255 - val_accuracy: 0.6014\n",
            "Epoch 18/200\n",
            "1/3 [=========>....................] - ETA: 0s - loss: 0.6199 - accuracy: 0.6450\n",
            "Epoch 00018: val_loss improved from 0.62553 to 0.61311, saving model to titanic_model/survive_titanic.h5\n",
            "3/3 [==============================] - 0s 30ms/step - loss: 0.6067 - accuracy: 0.6661 - val_loss: 0.6131 - val_accuracy: 0.6503\n",
            "Epoch 19/200\n",
            "1/3 [=========>....................] - ETA: 0s - loss: 0.5930 - accuracy: 0.6800\n",
            "Epoch 00019: val_loss improved from 0.61311 to 0.59694, saving model to titanic_model/survive_titanic.h5\n",
            "3/3 [==============================] - 0s 34ms/step - loss: 0.5918 - accuracy: 0.6837 - val_loss: 0.5969 - val_accuracy: 0.6923\n",
            "Epoch 20/200\n",
            "1/3 [=========>....................] - ETA: 0s - loss: 0.5772 - accuracy: 0.6900\n",
            "Epoch 00020: val_loss improved from 0.59694 to 0.57760, saving model to titanic_model/survive_titanic.h5\n",
            "3/3 [==============================] - 0s 31ms/step - loss: 0.5743 - accuracy: 0.7135 - val_loss: 0.5776 - val_accuracy: 0.7483\n",
            "Epoch 21/200\n",
            "1/3 [=========>....................] - ETA: 0s - loss: 0.5509 - accuracy: 0.7500\n",
            "Epoch 00021: val_loss improved from 0.57760 to 0.55851, saving model to titanic_model/survive_titanic.h5\n",
            "3/3 [==============================] - 0s 32ms/step - loss: 0.5532 - accuracy: 0.7663 - val_loss: 0.5585 - val_accuracy: 0.7552\n",
            "Epoch 22/200\n",
            "1/3 [=========>....................] - ETA: 0s - loss: 0.5265 - accuracy: 0.8050\n",
            "Epoch 00022: val_loss improved from 0.55851 to 0.53949, saving model to titanic_model/survive_titanic.h5\n",
            "3/3 [==============================] - 0s 35ms/step - loss: 0.5314 - accuracy: 0.8032 - val_loss: 0.5395 - val_accuracy: 0.7972\n",
            "Epoch 23/200\n",
            "1/3 [=========>....................] - ETA: 0s - loss: 0.4947 - accuracy: 0.8400\n",
            "Epoch 00023: val_loss improved from 0.53949 to 0.52160, saving model to titanic_model/survive_titanic.h5\n",
            "3/3 [==============================] - 0s 31ms/step - loss: 0.5079 - accuracy: 0.8120 - val_loss: 0.5216 - val_accuracy: 0.7832\n",
            "Epoch 24/200\n",
            "1/3 [=========>....................] - ETA: 0s - loss: 0.4846 - accuracy: 0.8350\n",
            "Epoch 00024: val_loss improved from 0.52160 to 0.50656, saving model to titanic_model/survive_titanic.h5\n",
            "3/3 [==============================] - 0s 29ms/step - loss: 0.4877 - accuracy: 0.8102 - val_loss: 0.5066 - val_accuracy: 0.7692\n",
            "Epoch 25/200\n",
            "1/3 [=========>....................] - ETA: 0s - loss: 0.4698 - accuracy: 0.8200\n",
            "Epoch 00025: val_loss improved from 0.50656 to 0.49321, saving model to titanic_model/survive_titanic.h5\n",
            "3/3 [==============================] - 0s 35ms/step - loss: 0.4706 - accuracy: 0.8120 - val_loss: 0.4932 - val_accuracy: 0.7832\n",
            "Epoch 26/200\n",
            "1/3 [=========>....................] - ETA: 0s - loss: 0.4317 - accuracy: 0.8450\n",
            "Epoch 00026: val_loss improved from 0.49321 to 0.48266, saving model to titanic_model/survive_titanic.h5\n",
            "3/3 [==============================] - 0s 32ms/step - loss: 0.4561 - accuracy: 0.8172 - val_loss: 0.4827 - val_accuracy: 0.7832\n",
            "Epoch 27/200\n",
            "1/3 [=========>....................] - ETA: 0s - loss: 0.4168 - accuracy: 0.8500\n",
            "Epoch 00027: val_loss improved from 0.48266 to 0.47469, saving model to titanic_model/survive_titanic.h5\n",
            "3/3 [==============================] - 0s 35ms/step - loss: 0.4452 - accuracy: 0.8207 - val_loss: 0.4747 - val_accuracy: 0.7832\n",
            "Epoch 28/200\n",
            "1/3 [=========>....................] - ETA: 0s - loss: 0.4187 - accuracy: 0.8300\n",
            "Epoch 00028: val_loss improved from 0.47469 to 0.46874, saving model to titanic_model/survive_titanic.h5\n",
            "3/3 [==============================] - 0s 34ms/step - loss: 0.4371 - accuracy: 0.8190 - val_loss: 0.4687 - val_accuracy: 0.7972\n",
            "Epoch 29/200\n",
            "1/3 [=========>....................] - ETA: 0s - loss: 0.4216 - accuracy: 0.8200\n",
            "Epoch 00029: val_loss improved from 0.46874 to 0.46389, saving model to titanic_model/survive_titanic.h5\n",
            "3/3 [==============================] - 0s 31ms/step - loss: 0.4308 - accuracy: 0.8278 - val_loss: 0.4639 - val_accuracy: 0.8042\n",
            "Epoch 30/200\n",
            "1/3 [=========>....................] - ETA: 0s - loss: 0.4020 - accuracy: 0.8450\n",
            "Epoch 00030: val_loss improved from 0.46389 to 0.46182, saving model to titanic_model/survive_titanic.h5\n",
            "3/3 [==============================] - 0s 33ms/step - loss: 0.4255 - accuracy: 0.8313 - val_loss: 0.4618 - val_accuracy: 0.8042\n",
            "Epoch 31/200\n",
            "1/3 [=========>....................] - ETA: 0s - loss: 0.3634 - accuracy: 0.8550\n",
            "Epoch 00031: val_loss improved from 0.46182 to 0.46044, saving model to titanic_model/survive_titanic.h5\n",
            "3/3 [==============================] - 0s 35ms/step - loss: 0.4211 - accuracy: 0.8313 - val_loss: 0.4604 - val_accuracy: 0.8042\n",
            "Epoch 32/200\n",
            "1/3 [=========>....................] - ETA: 0s - loss: 0.3878 - accuracy: 0.8550\n",
            "Epoch 00032: val_loss improved from 0.46044 to 0.45911, saving model to titanic_model/survive_titanic.h5\n",
            "3/3 [==============================] - 0s 32ms/step - loss: 0.4168 - accuracy: 0.8278 - val_loss: 0.4591 - val_accuracy: 0.8252\n",
            "Epoch 33/200\n",
            "1/3 [=========>....................] - ETA: 0s - loss: 0.4139 - accuracy: 0.8200\n",
            "Epoch 00033: val_loss improved from 0.45911 to 0.45839, saving model to titanic_model/survive_titanic.h5\n",
            "3/3 [==============================] - 0s 35ms/step - loss: 0.4135 - accuracy: 0.8295 - val_loss: 0.4584 - val_accuracy: 0.8322\n",
            "Epoch 34/200\n",
            "1/3 [=========>....................] - ETA: 0s - loss: 0.3832 - accuracy: 0.8500\n",
            "Epoch 00034: val_loss improved from 0.45839 to 0.45600, saving model to titanic_model/survive_titanic.h5\n",
            "3/3 [==============================] - 0s 37ms/step - loss: 0.4099 - accuracy: 0.8330 - val_loss: 0.4560 - val_accuracy: 0.8252\n",
            "Epoch 35/200\n",
            "1/3 [=========>....................] - ETA: 0s - loss: 0.4122 - accuracy: 0.8300\n",
            "Epoch 00035: val_loss improved from 0.45600 to 0.45567, saving model to titanic_model/survive_titanic.h5\n",
            "3/3 [==============================] - 0s 29ms/step - loss: 0.4067 - accuracy: 0.8348 - val_loss: 0.4557 - val_accuracy: 0.8252\n",
            "Epoch 36/200\n",
            "1/3 [=========>....................] - ETA: 0s - loss: 0.3907 - accuracy: 0.8500\n",
            "Epoch 00036: val_loss improved from 0.45567 to 0.45467, saving model to titanic_model/survive_titanic.h5\n",
            "3/3 [==============================] - 0s 32ms/step - loss: 0.4036 - accuracy: 0.8348 - val_loss: 0.4547 - val_accuracy: 0.8252\n",
            "Epoch 37/200\n",
            "1/3 [=========>....................] - ETA: 0s - loss: 0.3886 - accuracy: 0.8200\n",
            "Epoch 00037: val_loss improved from 0.45467 to 0.45301, saving model to titanic_model/survive_titanic.h5\n",
            "3/3 [==============================] - 0s 29ms/step - loss: 0.4010 - accuracy: 0.8295 - val_loss: 0.4530 - val_accuracy: 0.8182\n",
            "Epoch 38/200\n",
            "1/3 [=========>....................] - ETA: 0s - loss: 0.4737 - accuracy: 0.8050\n",
            "Epoch 00038: val_loss improved from 0.45301 to 0.45193, saving model to titanic_model/survive_titanic.h5\n",
            "3/3 [==============================] - 0s 28ms/step - loss: 0.3989 - accuracy: 0.8366 - val_loss: 0.4519 - val_accuracy: 0.8182\n",
            "Epoch 39/200\n",
            "1/3 [=========>....................] - ETA: 0s - loss: 0.3600 - accuracy: 0.8600\n",
            "Epoch 00039: val_loss improved from 0.45193 to 0.44988, saving model to titanic_model/survive_titanic.h5\n",
            "3/3 [==============================] - 0s 31ms/step - loss: 0.3966 - accuracy: 0.8348 - val_loss: 0.4499 - val_accuracy: 0.8252\n",
            "Epoch 40/200\n",
            "1/3 [=========>....................] - ETA: 0s - loss: 0.4191 - accuracy: 0.8350\n",
            "Epoch 00040: val_loss improved from 0.44988 to 0.44947, saving model to titanic_model/survive_titanic.h5\n",
            "3/3 [==============================] - 0s 32ms/step - loss: 0.3940 - accuracy: 0.8348 - val_loss: 0.4495 - val_accuracy: 0.8252\n",
            "Epoch 41/200\n",
            "1/3 [=========>....................] - ETA: 0s - loss: 0.4068 - accuracy: 0.8200\n",
            "Epoch 00041: val_loss did not improve from 0.44947\n",
            "3/3 [==============================] - 0s 17ms/step - loss: 0.3918 - accuracy: 0.8366 - val_loss: 0.4499 - val_accuracy: 0.8112\n",
            "Epoch 42/200\n",
            "1/3 [=========>....................] - ETA: 0s - loss: 0.4127 - accuracy: 0.8400\n",
            "Epoch 00042: val_loss improved from 0.44947 to 0.44811, saving model to titanic_model/survive_titanic.h5\n",
            "3/3 [==============================] - 0s 35ms/step - loss: 0.3906 - accuracy: 0.8383 - val_loss: 0.4481 - val_accuracy: 0.8182\n",
            "Epoch 43/200\n",
            "1/3 [=========>....................] - ETA: 0s - loss: 0.3940 - accuracy: 0.8250\n",
            "Epoch 00043: val_loss did not improve from 0.44811\n",
            "3/3 [==============================] - 0s 19ms/step - loss: 0.3881 - accuracy: 0.8348 - val_loss: 0.4481 - val_accuracy: 0.8112\n",
            "Epoch 44/200\n",
            "1/3 [=========>....................] - ETA: 0s - loss: 0.3814 - accuracy: 0.8400\n",
            "Epoch 00044: val_loss improved from 0.44811 to 0.44644, saving model to titanic_model/survive_titanic.h5\n",
            "3/3 [==============================] - 0s 31ms/step - loss: 0.3861 - accuracy: 0.8348 - val_loss: 0.4464 - val_accuracy: 0.8252\n",
            "Epoch 45/200\n",
            "1/3 [=========>....................] - ETA: 0s - loss: 0.3362 - accuracy: 0.8550\n",
            "Epoch 00045: val_loss improved from 0.44644 to 0.44439, saving model to titanic_model/survive_titanic.h5\n",
            "3/3 [==============================] - 0s 32ms/step - loss: 0.3845 - accuracy: 0.8383 - val_loss: 0.4444 - val_accuracy: 0.8322\n",
            "Epoch 46/200\n",
            "1/3 [=========>....................] - ETA: 0s - loss: 0.4098 - accuracy: 0.8150\n",
            "Epoch 00046: val_loss improved from 0.44439 to 0.44328, saving model to titanic_model/survive_titanic.h5\n",
            "3/3 [==============================] - 0s 32ms/step - loss: 0.3829 - accuracy: 0.8366 - val_loss: 0.4433 - val_accuracy: 0.8392\n",
            "Epoch 47/200\n",
            "1/3 [=========>....................] - ETA: 0s - loss: 0.3277 - accuracy: 0.8550\n",
            "Epoch 00047: val_loss improved from 0.44328 to 0.44291, saving model to titanic_model/survive_titanic.h5\n",
            "3/3 [==============================] - 0s 31ms/step - loss: 0.3814 - accuracy: 0.8383 - val_loss: 0.4429 - val_accuracy: 0.8392\n",
            "Epoch 48/200\n",
            "1/3 [=========>....................] - ETA: 0s - loss: 0.3910 - accuracy: 0.8400\n",
            "Epoch 00048: val_loss did not improve from 0.44291\n",
            "3/3 [==============================] - 0s 15ms/step - loss: 0.3800 - accuracy: 0.8418 - val_loss: 0.4437 - val_accuracy: 0.8392\n",
            "Epoch 49/200\n",
            "1/3 [=========>....................] - ETA: 0s - loss: 0.3883 - accuracy: 0.8450\n",
            "Epoch 00049: val_loss did not improve from 0.44291\n",
            "3/3 [==============================] - 0s 17ms/step - loss: 0.3784 - accuracy: 0.8418 - val_loss: 0.4453 - val_accuracy: 0.8182\n",
            "Epoch 50/200\n",
            "1/3 [=========>....................] - ETA: 0s - loss: 0.4034 - accuracy: 0.8400\n",
            "Epoch 00050: val_loss did not improve from 0.44291\n",
            "3/3 [==============================] - 0s 16ms/step - loss: 0.3768 - accuracy: 0.8436 - val_loss: 0.4438 - val_accuracy: 0.8252\n",
            "Epoch 51/200\n",
            "1/3 [=========>....................] - ETA: 0s - loss: 0.3845 - accuracy: 0.8450\n",
            "Epoch 00051: val_loss did not improve from 0.44291\n",
            "3/3 [==============================] - 0s 15ms/step - loss: 0.3755 - accuracy: 0.8401 - val_loss: 0.4443 - val_accuracy: 0.8252\n",
            "Epoch 52/200\n",
            "1/3 [=========>....................] - ETA: 0s - loss: 0.3722 - accuracy: 0.8400\n",
            "Epoch 00052: val_loss did not improve from 0.44291\n",
            "3/3 [==============================] - 0s 17ms/step - loss: 0.3743 - accuracy: 0.8436 - val_loss: 0.4443 - val_accuracy: 0.8252\n",
            "Epoch 53/200\n",
            "1/3 [=========>....................] - ETA: 0s - loss: 0.3897 - accuracy: 0.8300\n",
            "Epoch 00053: val_loss did not improve from 0.44291\n",
            "3/3 [==============================] - 0s 16ms/step - loss: 0.3725 - accuracy: 0.8489 - val_loss: 0.4449 - val_accuracy: 0.8182\n",
            "Epoch 54/200\n",
            "1/3 [=========>....................] - ETA: 0s - loss: 0.3881 - accuracy: 0.8400\n",
            "Epoch 00054: val_loss did not improve from 0.44291\n",
            "3/3 [==============================] - 0s 17ms/step - loss: 0.3715 - accuracy: 0.8471 - val_loss: 0.4459 - val_accuracy: 0.8042\n",
            "Epoch 55/200\n",
            "1/3 [=========>....................] - ETA: 0s - loss: 0.3207 - accuracy: 0.8700\n",
            "Epoch 00055: val_loss did not improve from 0.44291\n",
            "3/3 [==============================] - 0s 16ms/step - loss: 0.3708 - accuracy: 0.8506 - val_loss: 0.4467 - val_accuracy: 0.8112\n",
            "Epoch 56/200\n",
            "1/3 [=========>....................] - ETA: 0s - loss: 0.3799 - accuracy: 0.8300\n",
            "Epoch 00056: val_loss did not improve from 0.44291\n",
            "3/3 [==============================] - 0s 16ms/step - loss: 0.3696 - accuracy: 0.8453 - val_loss: 0.4449 - val_accuracy: 0.8252\n",
            "Epoch 57/200\n",
            "1/3 [=========>....................] - ETA: 0s - loss: 0.4007 - accuracy: 0.8500\n",
            "Epoch 00057: val_loss did not improve from 0.44291\n",
            "3/3 [==============================] - 0s 15ms/step - loss: 0.3684 - accuracy: 0.8489 - val_loss: 0.4456 - val_accuracy: 0.8252\n",
            "Epoch 58/200\n",
            "1/3 [=========>....................] - ETA: 0s - loss: 0.3797 - accuracy: 0.8350\n",
            "Epoch 00058: val_loss did not improve from 0.44291\n",
            "3/3 [==============================] - 0s 16ms/step - loss: 0.3670 - accuracy: 0.8506 - val_loss: 0.4478 - val_accuracy: 0.8112\n",
            "Epoch 59/200\n",
            "1/3 [=========>....................] - ETA: 0s - loss: 0.3714 - accuracy: 0.8500\n",
            "Epoch 00059: val_loss did not improve from 0.44291\n",
            "3/3 [==============================] - 0s 29ms/step - loss: 0.3659 - accuracy: 0.8489 - val_loss: 0.4477 - val_accuracy: 0.8252\n",
            "Epoch 60/200\n",
            "1/3 [=========>....................] - ETA: 0s - loss: 0.3896 - accuracy: 0.8450\n",
            "Epoch 00060: val_loss did not improve from 0.44291\n",
            "3/3 [==============================] - 0s 16ms/step - loss: 0.3648 - accuracy: 0.8471 - val_loss: 0.4484 - val_accuracy: 0.8252\n",
            "Epoch 61/200\n",
            "1/3 [=========>....................] - ETA: 0s - loss: 0.3865 - accuracy: 0.8350\n",
            "Epoch 00061: val_loss did not improve from 0.44291\n",
            "3/3 [==============================] - 0s 16ms/step - loss: 0.3641 - accuracy: 0.8471 - val_loss: 0.4474 - val_accuracy: 0.8182\n",
            "Epoch 62/200\n",
            "1/3 [=========>....................] - ETA: 0s - loss: 0.3663 - accuracy: 0.8500\n",
            "Epoch 00062: val_loss did not improve from 0.44291\n",
            "3/3 [==============================] - 0s 18ms/step - loss: 0.3630 - accuracy: 0.8506 - val_loss: 0.4498 - val_accuracy: 0.8252\n",
            "Epoch 63/200\n",
            "1/3 [=========>....................] - ETA: 0s - loss: 0.3282 - accuracy: 0.8750\n",
            "Epoch 00063: val_loss did not improve from 0.44291\n",
            "3/3 [==============================] - 0s 14ms/step - loss: 0.3622 - accuracy: 0.8541 - val_loss: 0.4488 - val_accuracy: 0.8182\n",
            "Epoch 64/200\n",
            "1/3 [=========>....................] - ETA: 0s - loss: 0.4160 - accuracy: 0.8250\n",
            "Epoch 00064: val_loss did not improve from 0.44291\n",
            "3/3 [==============================] - 0s 15ms/step - loss: 0.3604 - accuracy: 0.8541 - val_loss: 0.4465 - val_accuracy: 0.8252\n",
            "Epoch 65/200\n",
            "1/3 [=========>....................] - ETA: 0s - loss: 0.2943 - accuracy: 0.8850\n",
            "Epoch 00065: val_loss did not improve from 0.44291\n",
            "3/3 [==============================] - 0s 16ms/step - loss: 0.3597 - accuracy: 0.8506 - val_loss: 0.4469 - val_accuracy: 0.8252\n",
            "Epoch 66/200\n",
            "1/3 [=========>....................] - ETA: 0s - loss: 0.3857 - accuracy: 0.8250\n",
            "Epoch 00066: val_loss did not improve from 0.44291\n",
            "3/3 [==============================] - 0s 15ms/step - loss: 0.3589 - accuracy: 0.8541 - val_loss: 0.4479 - val_accuracy: 0.8182\n",
            "Epoch 67/200\n",
            "1/3 [=========>....................] - ETA: 0s - loss: 0.3388 - accuracy: 0.8700\n",
            "Epoch 00067: val_loss did not improve from 0.44291\n",
            "3/3 [==============================] - 0s 19ms/step - loss: 0.3583 - accuracy: 0.8541 - val_loss: 0.4511 - val_accuracy: 0.8182\n",
            "Epoch 68/200\n",
            "1/3 [=========>....................] - ETA: 0s - loss: 0.3594 - accuracy: 0.8550\n",
            "Epoch 00068: val_loss did not improve from 0.44291\n",
            "3/3 [==============================] - 0s 15ms/step - loss: 0.3567 - accuracy: 0.8559 - val_loss: 0.4490 - val_accuracy: 0.8182\n",
            "Epoch 69/200\n",
            "1/3 [=========>....................] - ETA: 0s - loss: 0.3394 - accuracy: 0.8650\n",
            "Epoch 00069: val_loss did not improve from 0.44291\n",
            "3/3 [==============================] - 0s 16ms/step - loss: 0.3560 - accuracy: 0.8541 - val_loss: 0.4478 - val_accuracy: 0.8182\n",
            "Epoch 70/200\n",
            "1/3 [=========>....................] - ETA: 0s - loss: 0.4154 - accuracy: 0.8450\n",
            "Epoch 00070: val_loss did not improve from 0.44291\n",
            "3/3 [==============================] - 0s 16ms/step - loss: 0.3547 - accuracy: 0.8612 - val_loss: 0.4465 - val_accuracy: 0.8252\n",
            "Epoch 71/200\n",
            "1/3 [=========>....................] - ETA: 0s - loss: 0.3521 - accuracy: 0.8800\n",
            "Epoch 00071: val_loss did not improve from 0.44291\n",
            "3/3 [==============================] - 0s 16ms/step - loss: 0.3537 - accuracy: 0.8612 - val_loss: 0.4483 - val_accuracy: 0.8252\n",
            "Epoch 72/200\n",
            "1/3 [=========>....................] - ETA: 0s - loss: 0.3518 - accuracy: 0.8700\n",
            "Epoch 00072: val_loss did not improve from 0.44291\n",
            "3/3 [==============================] - 0s 17ms/step - loss: 0.3525 - accuracy: 0.8594 - val_loss: 0.4506 - val_accuracy: 0.8042\n",
            "Epoch 73/200\n",
            "1/3 [=========>....................] - ETA: 0s - loss: 0.3510 - accuracy: 0.8650\n",
            "Epoch 00073: val_loss did not improve from 0.44291\n",
            "3/3 [==============================] - 0s 24ms/step - loss: 0.3526 - accuracy: 0.8612 - val_loss: 0.4526 - val_accuracy: 0.8042\n",
            "Epoch 74/200\n",
            "1/3 [=========>....................] - ETA: 0s - loss: 0.3964 - accuracy: 0.8500\n",
            "Epoch 00074: val_loss did not improve from 0.44291\n",
            "3/3 [==============================] - 0s 15ms/step - loss: 0.3507 - accuracy: 0.8629 - val_loss: 0.4525 - val_accuracy: 0.8042\n",
            "Epoch 75/200\n",
            "1/3 [=========>....................] - ETA: 0s - loss: 0.3747 - accuracy: 0.8450\n",
            "Epoch 00075: val_loss did not improve from 0.44291\n",
            "3/3 [==============================] - 0s 17ms/step - loss: 0.3495 - accuracy: 0.8612 - val_loss: 0.4513 - val_accuracy: 0.8182\n",
            "Epoch 76/200\n",
            "1/3 [=========>....................] - ETA: 0s - loss: 0.3569 - accuracy: 0.8500\n",
            "Epoch 00076: val_loss did not improve from 0.44291\n",
            "3/3 [==============================] - 0s 16ms/step - loss: 0.3481 - accuracy: 0.8594 - val_loss: 0.4515 - val_accuracy: 0.8182\n",
            "Epoch 77/200\n",
            "1/3 [=========>....................] - ETA: 0s - loss: 0.3237 - accuracy: 0.8900\n",
            "Epoch 00077: val_loss did not improve from 0.44291\n",
            "3/3 [==============================] - 0s 16ms/step - loss: 0.3476 - accuracy: 0.8612 - val_loss: 0.4538 - val_accuracy: 0.8112\n",
            "Epoch 78/200\n",
            "1/3 [=========>....................] - ETA: 0s - loss: 0.3858 - accuracy: 0.8300\n",
            "Epoch 00078: val_loss did not improve from 0.44291\n",
            "3/3 [==============================] - 0s 16ms/step - loss: 0.3465 - accuracy: 0.8594 - val_loss: 0.4562 - val_accuracy: 0.8042\n",
            "Epoch 79/200\n",
            "1/3 [=========>....................] - ETA: 0s - loss: 0.3298 - accuracy: 0.8600\n",
            "Epoch 00079: val_loss did not improve from 0.44291\n",
            "3/3 [==============================] - 0s 17ms/step - loss: 0.3456 - accuracy: 0.8594 - val_loss: 0.4560 - val_accuracy: 0.8042\n",
            "Epoch 80/200\n",
            "1/3 [=========>....................] - ETA: 0s - loss: 0.3569 - accuracy: 0.8600\n",
            "Epoch 00080: val_loss did not improve from 0.44291\n",
            "3/3 [==============================] - 0s 19ms/step - loss: 0.3446 - accuracy: 0.8629 - val_loss: 0.4539 - val_accuracy: 0.8182\n",
            "Epoch 81/200\n",
            "1/3 [=========>....................] - ETA: 0s - loss: 0.3257 - accuracy: 0.8750\n",
            "Epoch 00081: val_loss did not improve from 0.44291\n",
            "3/3 [==============================] - 0s 17ms/step - loss: 0.3439 - accuracy: 0.8629 - val_loss: 0.4540 - val_accuracy: 0.8182\n",
            "Epoch 82/200\n",
            "1/3 [=========>....................] - ETA: 0s - loss: 0.3804 - accuracy: 0.8550\n",
            "Epoch 00082: val_loss did not improve from 0.44291\n",
            "3/3 [==============================] - 0s 15ms/step - loss: 0.3430 - accuracy: 0.8629 - val_loss: 0.4561 - val_accuracy: 0.8042\n",
            "Epoch 83/200\n",
            "1/3 [=========>....................] - ETA: 0s - loss: 0.2931 - accuracy: 0.8900\n",
            "Epoch 00083: val_loss did not improve from 0.44291\n",
            "3/3 [==============================] - 0s 17ms/step - loss: 0.3434 - accuracy: 0.8612 - val_loss: 0.4592 - val_accuracy: 0.7972\n",
            "Epoch 84/200\n",
            "1/3 [=========>....................] - ETA: 0s - loss: 0.3619 - accuracy: 0.8300\n",
            "Epoch 00084: val_loss did not improve from 0.44291\n",
            "3/3 [==============================] - 0s 17ms/step - loss: 0.3412 - accuracy: 0.8612 - val_loss: 0.4553 - val_accuracy: 0.8252\n",
            "Epoch 85/200\n",
            "1/3 [=========>....................] - ETA: 0s - loss: 0.3706 - accuracy: 0.8400\n",
            "Epoch 00085: val_loss did not improve from 0.44291\n",
            "3/3 [==============================] - 0s 16ms/step - loss: 0.3407 - accuracy: 0.8629 - val_loss: 0.4555 - val_accuracy: 0.8182\n",
            "Epoch 86/200\n",
            "1/3 [=========>....................] - ETA: 0s - loss: 0.3655 - accuracy: 0.8450\n",
            "Epoch 00086: val_loss did not improve from 0.44291\n",
            "3/3 [==============================] - 0s 16ms/step - loss: 0.3399 - accuracy: 0.8629 - val_loss: 0.4584 - val_accuracy: 0.8042\n",
            "Epoch 87/200\n",
            "1/3 [=========>....................] - ETA: 0s - loss: 0.3360 - accuracy: 0.8600\n",
            "Epoch 00087: val_loss did not improve from 0.44291\n",
            "3/3 [==============================] - 0s 16ms/step - loss: 0.3382 - accuracy: 0.8629 - val_loss: 0.4607 - val_accuracy: 0.8042\n",
            "Epoch 88/200\n",
            "1/3 [=========>....................] - ETA: 0s - loss: 0.3255 - accuracy: 0.8650\n",
            "Epoch 00088: val_loss did not improve from 0.44291\n",
            "3/3 [==============================] - 0s 15ms/step - loss: 0.3377 - accuracy: 0.8576 - val_loss: 0.4622 - val_accuracy: 0.8042\n",
            "Epoch 89/200\n",
            "1/3 [=========>....................] - ETA: 0s - loss: 0.3488 - accuracy: 0.8350\n",
            "Epoch 00089: val_loss did not improve from 0.44291\n",
            "3/3 [==============================] - 0s 14ms/step - loss: 0.3376 - accuracy: 0.8612 - val_loss: 0.4600 - val_accuracy: 0.8112\n",
            "Epoch 90/200\n",
            "1/3 [=========>....................] - ETA: 0s - loss: 0.3089 - accuracy: 0.8800\n",
            "Epoch 00090: val_loss did not improve from 0.44291\n",
            "3/3 [==============================] - 0s 15ms/step - loss: 0.3362 - accuracy: 0.8629 - val_loss: 0.4611 - val_accuracy: 0.8042\n",
            "Epoch 91/200\n",
            "1/3 [=========>....................] - ETA: 0s - loss: 0.3540 - accuracy: 0.8550\n",
            "Epoch 00091: val_loss did not improve from 0.44291\n",
            "3/3 [==============================] - 0s 18ms/step - loss: 0.3351 - accuracy: 0.8594 - val_loss: 0.4625 - val_accuracy: 0.8042\n",
            "Epoch 92/200\n",
            "1/3 [=========>....................] - ETA: 0s - loss: 0.3342 - accuracy: 0.8600\n",
            "Epoch 00092: val_loss did not improve from 0.44291\n",
            "3/3 [==============================] - 0s 16ms/step - loss: 0.3345 - accuracy: 0.8612 - val_loss: 0.4605 - val_accuracy: 0.8042\n",
            "Epoch 93/200\n",
            "1/3 [=========>....................] - ETA: 0s - loss: 0.3754 - accuracy: 0.8500\n",
            "Epoch 00093: val_loss did not improve from 0.44291\n",
            "3/3 [==============================] - 0s 14ms/step - loss: 0.3336 - accuracy: 0.8612 - val_loss: 0.4607 - val_accuracy: 0.8042\n",
            "Epoch 94/200\n",
            "1/3 [=========>....................] - ETA: 0s - loss: 0.3292 - accuracy: 0.8700\n",
            "Epoch 00094: val_loss did not improve from 0.44291\n",
            "3/3 [==============================] - 0s 16ms/step - loss: 0.3325 - accuracy: 0.8629 - val_loss: 0.4646 - val_accuracy: 0.8042\n",
            "Epoch 95/200\n",
            "1/3 [=========>....................] - ETA: 0s - loss: 0.3612 - accuracy: 0.8300\n",
            "Epoch 00095: val_loss did not improve from 0.44291\n",
            "3/3 [==============================] - 0s 14ms/step - loss: 0.3321 - accuracy: 0.8576 - val_loss: 0.4631 - val_accuracy: 0.8042\n",
            "Epoch 96/200\n",
            "1/3 [=========>....................] - ETA: 0s - loss: 0.3079 - accuracy: 0.8800\n",
            "Epoch 00096: val_loss did not improve from 0.44291\n",
            "3/3 [==============================] - 0s 19ms/step - loss: 0.3313 - accuracy: 0.8594 - val_loss: 0.4630 - val_accuracy: 0.8042\n",
            "Epoch 97/200\n",
            "1/3 [=========>....................] - ETA: 0s - loss: 0.3358 - accuracy: 0.8600\n",
            "Epoch 00097: val_loss did not improve from 0.44291\n",
            "3/3 [==============================] - 0s 15ms/step - loss: 0.3301 - accuracy: 0.8629 - val_loss: 0.4665 - val_accuracy: 0.8042\n",
            "6/6 [==============================] - 0s 3ms/step - loss: 0.4030 - accuracy: 0.8436\n"
          ]
        },
        {
          "output_type": "execute_result",
          "data": {
            "text/plain": [
              "[0.40300965309143066, 0.8435754179954529]"
            ]
          },
          "metadata": {},
          "execution_count": 74
        }
      ]
    },
    {
      "cell_type": "code",
      "source": [
        "del model_titanic"
      ],
      "metadata": {
        "id": "ivodcoIA0LwJ"
      },
      "execution_count": 67,
      "outputs": []
    },
    {
      "cell_type": "code",
      "source": [
        "model_titanic.evaluate(X_test, y_test)"
      ],
      "metadata": {
        "colab": {
          "base_uri": "https://localhost:8080/"
        },
        "id": "3P-Mcjhz0gk6",
        "outputId": "d1238c3c-25f9-4746-c00e-f72d0e84fd90"
      },
      "execution_count": 75,
      "outputs": [
        {
          "output_type": "stream",
          "name": "stdout",
          "text": [
            "6/6 [==============================] - 0s 2ms/step - loss: 0.4030 - accuracy: 0.8436\n"
          ]
        },
        {
          "output_type": "execute_result",
          "data": {
            "text/plain": [
              "[0.40300965309143066, 0.8435754179954529]"
            ]
          },
          "metadata": {},
          "execution_count": 75
        }
      ]
    },
    {
      "cell_type": "code",
      "source": [
        "y_acc = hist_titanic.history['accuracy']\n",
        "y_vloss = hist_titanic.history['val_loss']\n",
        "xs = np.arange(1,len(y_acc)+1)"
      ],
      "metadata": {
        "id": "ghv99e9tBLpR"
      },
      "execution_count": 76,
      "outputs": []
    },
    {
      "cell_type": "code",
      "source": [
        "import matplotlib.pyplot as plt\n",
        "plt.figure(figsize=(12,8))\n",
        "plt.plot(xs, y_acc, ms=5, label='train accuracy')\n",
        "plt.plot(xs, y_vloss, ms=5, label='validation loss')\n",
        "plt.legend()\n",
        "plt.grid()\n",
        "plt.xlabel('Epoch')\n",
        "plt.show()"
      ],
      "metadata": {
        "colab": {
          "base_uri": "https://localhost:8080/",
          "height": 497
        },
        "id": "eM4qJQ1EDNwK",
        "outputId": "e30f2219-dec1-41be-e7aa-c1056cd70c7d"
      },
      "execution_count": 77,
      "outputs": [
        {
          "output_type": "display_data",
          "data": {
            "image/png": "[encoded data removed]",
            "text/plain": [
              "<Figure size 864x576 with 1 Axes>"
            ]
          },
          "metadata": {
            "needs_background": "light"
          }
        }
      ]
    }
  ]
}